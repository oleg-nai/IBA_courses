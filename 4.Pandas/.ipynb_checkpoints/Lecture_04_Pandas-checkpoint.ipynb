{
 "cells": [
  {
   "cell_type": "code",
   "execution_count": 1,
   "metadata": {
    "ExecuteTime": {
     "end_time": "2021-07-05T05:15:57.018088Z",
     "start_time": "2021-07-05T05:15:56.633209Z"
    },
    "id": "2IY2JnMzozxj"
   },
   "outputs": [],
   "source": [
    "import pandas as pd\n",
    "import numpy as np"
   ]
  },
  {
   "cell_type": "code",
   "execution_count": 2,
   "metadata": {
    "ExecuteTime": {
     "end_time": "2021-07-05T05:15:57.033636Z",
     "start_time": "2021-07-05T05:15:57.019704Z"
    },
    "id": "lMgfndp-ozxt",
    "outputId": "e805260f-f51a-4841-edc3-d6285417e388"
   },
   "outputs": [
    {
     "data": {
      "text/plain": [
       "'1.0.5'"
      ]
     },
     "execution_count": 2,
     "metadata": {},
     "output_type": "execute_result"
    }
   ],
   "source": [
    "pd.__version__"
   ]
  },
  {
   "cell_type": "markdown",
   "metadata": {
    "id": "sHSU8CpEozxw"
   },
   "source": [
    "## pd.Series"
   ]
  },
  {
   "cell_type": "code",
   "execution_count": 3,
   "metadata": {
    "ExecuteTime": {
     "end_time": "2021-07-05T05:16:00.237685Z",
     "start_time": "2021-07-05T05:16:00.204773Z"
    },
    "id": "iLpgalatozxx"
   },
   "outputs": [
    {
     "data": {
      "text/plain": [
       "a     1.0\n",
       "b     1.0\n",
       "b     2.0\n",
       "d     3.0\n",
       "e     NaN\n",
       "f     8.0\n",
       "7    13.0\n",
       "dtype: float64"
      ]
     },
     "execution_count": 3,
     "metadata": {},
     "output_type": "execute_result"
    }
   ],
   "source": [
    "# Create Series\n",
    "\n",
    "my_series = pd.Series(\n",
    "    [1, 1, 2, 3, np.NaN, 8, 13], \n",
    "    index=['a', 'b', 'b', 'd', 'e', 'f', 7]\n",
    ")\n",
    "my_series"
   ]
  },
  {
   "cell_type": "code",
   "execution_count": 7,
   "metadata": {
    "ExecuteTime": {
     "end_time": "2021-07-05T05:16:47.837137Z",
     "start_time": "2021-07-05T05:16:47.820673Z"
    }
   },
   "outputs": [
    {
     "data": {
      "text/plain": [
       "pandas.core.series.Series"
      ]
     },
     "execution_count": 7,
     "metadata": {},
     "output_type": "execute_result"
    }
   ],
   "source": [
    "type(my_series)"
   ]
  },
  {
   "cell_type": "code",
   "execution_count": null,
   "metadata": {
    "id": "Soy6rsuqozxy"
   },
   "outputs": [],
   "source": [
    "# Create Series\n",
    "\n",
    "my_second_series = pd.Series(\n",
    "    [13, 8, np.NaN, 3, 2, 1, 1], \n",
    "    index=['a', 'b', 'c', 'd', 'e', 'f', 'g']\n",
    ")\n",
    "my_second_series"
   ]
  },
  {
   "cell_type": "code",
   "execution_count": null,
   "metadata": {
    "id": "lwez2HIvozxz",
    "scrolled": false
   },
   "outputs": [],
   "source": [
    "my_series.index"
   ]
  },
  {
   "cell_type": "code",
   "execution_count": null,
   "metadata": {
    "id": "alBbU-R7ozx0",
    "scrolled": true
   },
   "outputs": [],
   "source": [
    "my_series.values"
   ]
  },
  {
   "cell_type": "code",
   "execution_count": null,
   "metadata": {
    "id": "wvWoDv_tozx0"
   },
   "outputs": [],
   "source": [
    "my_series.shape"
   ]
  },
  {
   "cell_type": "code",
   "execution_count": null,
   "metadata": {
    "id": "bclP1Rxgozx1"
   },
   "outputs": [],
   "source": [
    "my_series['b']"
   ]
  },
  {
   "cell_type": "code",
   "execution_count": null,
   "metadata": {
    "id": "E-YqaD3Mozx2"
   },
   "outputs": [],
   "source": [
    "# Get slices by position\n",
    "\n",
    "my_series.iloc[0:6:2]"
   ]
  },
  {
   "cell_type": "code",
   "execution_count": null,
   "metadata": {
    "id": "jRT-gNZAozx2"
   },
   "outputs": [],
   "source": [
    "# Get value by index\n",
    "\n",
    "my_series.at['b']"
   ]
  },
  {
   "cell_type": "code",
   "execution_count": null,
   "metadata": {
    "id": "dP-XZDZUozx4"
   },
   "outputs": [],
   "source": [
    "# Get value by position\n",
    "\n",
    "my_series.iat[6]"
   ]
  },
  {
   "cell_type": "code",
   "execution_count": null,
   "metadata": {
    "id": "KNI1c_R_ozx5"
   },
   "outputs": [],
   "source": [
    "# Check whether values are contained in Series\n",
    "\n",
    "my_series.isin([3, 8])"
   ]
  },
  {
   "cell_type": "code",
   "execution_count": null,
   "metadata": {
    "id": "bOAFmqJWozx5"
   },
   "outputs": [],
   "source": [
    "# Boolean indexing\n",
    "\n",
    "my_series[my_series > my_series.mean()]"
   ]
  },
  {
   "cell_type": "markdown",
   "metadata": {
    "id": "2mpA72AUozx5"
   },
   "source": [
    "### Operations"
   ]
  },
  {
   "cell_type": "code",
   "execution_count": null,
   "metadata": {
    "id": "Rg2vLcWZozx6"
   },
   "outputs": [],
   "source": [
    "%%timeit\n",
    "\n",
    "# Check summation of 2 series\n",
    "\n",
    "my_series + my_second_series"
   ]
  },
  {
   "cell_type": "code",
   "execution_count": null,
   "metadata": {
    "id": "3bRZtzcQozx6"
   },
   "outputs": [],
   "source": [
    "%%timeit\n",
    "\n",
    "# Check summation of 2 series\n",
    "\n",
    "my_series.add(my_second_series)"
   ]
  },
  {
   "cell_type": "code",
   "execution_count": null,
   "metadata": {
    "id": "sxh38upeozx7",
    "scrolled": true
   },
   "outputs": [],
   "source": [
    "# Such kind of summation get NaN for indices that do not overlap \n",
    "\n",
    "my_series + my_second_series"
   ]
  },
  {
   "cell_type": "code",
   "execution_count": null,
   "metadata": {
    "id": "sdtuqOPoozx8",
    "scrolled": true
   },
   "outputs": [],
   "source": [
    "# Special functions are faster and more flexible\n",
    "\n",
    "my_series.add(my_second_series, fill_value=0)"
   ]
  },
  {
   "cell_type": "code",
   "execution_count": null,
   "metadata": {
    "id": "k3jIfHTBozx8",
    "scrolled": true
   },
   "outputs": [],
   "source": [
    "# Check that statistical methods automatically exclude missing data\n",
    "\n",
    "sum_elements = my_series\n",
    "count_elements = len(my_series)\n",
    "print(f\"Mean: {my_series.mean()}\")\n",
    "print(f\"Sum of elements divided by count of elements: {sum_elements/count_elements}\")"
   ]
  },
  {
   "cell_type": "code",
   "execution_count": null,
   "metadata": {
    "id": "T_D-UT6jozx8"
   },
   "outputs": [],
   "source": [
    "# Map function\n",
    "\n",
    "func_10 = lambda x: x+10\n",
    "my_series.map(func_10)"
   ]
  },
  {
   "cell_type": "markdown",
   "metadata": {
    "id": "EAtJMP_6ozx9"
   },
   "source": [
    "# pd.DataFrame"
   ]
  },
  {
   "cell_type": "markdown",
   "metadata": {
    "id": "RU6xqU75ozx9"
   },
   "source": [
    "### Intro"
   ]
  },
  {
   "cell_type": "code",
   "execution_count": null,
   "metadata": {
    "id": "mX5TMVzlozx9"
   },
   "outputs": [],
   "source": [
    "df1 = pd.DataFrame({'country': ['Kazakhstan', 'Russia', 'Belarus', 'Ukraine'],\n",
    "                    'population': [17.04, 143.5, 9.5, 45.5],\n",
    "                    'square': [2724902, 17125191, 207600, 603628]},\n",
    "                   index=['KZ', 'RU', 'BY', 'UA']\n",
    ")\n",
    "df1"
   ]
  },
  {
   "cell_type": "code",
   "execution_count": null,
   "metadata": {
    "id": "_dWOYdJKozx9"
   },
   "outputs": [],
   "source": [
    "df2 = pd.DataFrame(\n",
    "    data=np.random.rand(5,5),\n",
    "    columns=['A', 'B', 'C', 'D', 'F']\n",
    ")\n",
    "df2"
   ]
  },
  {
   "cell_type": "code",
   "execution_count": null,
   "metadata": {
    "id": "vI9LsKFLozx-"
   },
   "outputs": [],
   "source": [
    "# Select one column\n",
    "\n",
    "df1['country']"
   ]
  },
  {
   "cell_type": "code",
   "execution_count": null,
   "metadata": {
    "id": "ZMSCMPlPozx-"
   },
   "outputs": [],
   "source": [
    "# Multi-columns selection\n",
    "\n",
    "df1[['country', 'square']]"
   ]
  },
  {
   "cell_type": "code",
   "execution_count": null,
   "metadata": {
    "id": "9rsKJWm4ozx_"
   },
   "outputs": [],
   "source": [
    "# Slices the rows\n",
    "\n",
    "df1[0:2]"
   ]
  },
  {
   "cell_type": "code",
   "execution_count": null,
   "metadata": {
    "id": "BO6bWoRAozx_"
   },
   "outputs": [],
   "source": [
    "# Select all rows for some columns\n",
    "\n",
    "df1.loc[:, ['country', 'square']]"
   ]
  },
  {
   "cell_type": "code",
   "execution_count": null,
   "metadata": {
    "id": "suq44dZVozx_"
   },
   "outputs": [],
   "source": [
    "%%timeit\n",
    "\n",
    "# Select scalar\n",
    "\n",
    "df1.loc['KZ', 'country']"
   ]
  },
  {
   "cell_type": "code",
   "execution_count": null,
   "metadata": {
    "id": "r13bdsN2ozx_"
   },
   "outputs": [],
   "source": [
    "%%timeit\n",
    "\n",
    "# Select scalar\n",
    "\n",
    "df1.at['KZ', 'country']"
   ]
  },
  {
   "cell_type": "code",
   "execution_count": null,
   "metadata": {
    "id": "VNJthLejozyA"
   },
   "outputs": [],
   "source": [
    "%%timeit\n",
    "\n",
    "# Select scalar\n",
    "\n",
    "df1.iloc[0, 0]"
   ]
  },
  {
   "cell_type": "code",
   "execution_count": null,
   "metadata": {
    "id": "6rpjTLDPozyA"
   },
   "outputs": [],
   "source": [
    "%%timeit\n",
    "\n",
    "# Select scalar\n",
    "\n",
    "df1.iat[0, 0]"
   ]
  },
  {
   "cell_type": "code",
   "execution_count": null,
   "metadata": {
    "id": "tWQv-g7PozyA"
   },
   "outputs": [],
   "source": [
    "# Select one row\n",
    "\n",
    "df1.iloc[3]"
   ]
  },
  {
   "cell_type": "code",
   "execution_count": null,
   "metadata": {
    "id": "hKlJkryCozyB"
   },
   "outputs": [],
   "source": [
    "# Select some rows and some columns\n",
    "\n",
    "df1.iloc[0:3, 0:2]"
   ]
  },
  {
   "cell_type": "markdown",
   "metadata": {
    "id": "AFrhXerWozyB"
   },
   "source": [
    "### Operations"
   ]
  },
  {
   "cell_type": "code",
   "execution_count": null,
   "metadata": {
    "id": "sqRx-lneozyB"
   },
   "outputs": [],
   "source": [
    "# The same issues with actions with DataFrames as with Series\n",
    "\n",
    "df2.loc[0, 'A'] = np.NaN\n",
    "print(df2['A'] + df2['B'])\n",
    "print(' ')\n",
    "print(df2['A'].add(df2['B'], fill_value=0))"
   ]
  },
  {
   "cell_type": "code",
   "execution_count": null,
   "metadata": {
    "id": "IY1fIQY7ozyB"
   },
   "outputs": [],
   "source": [
    "# Apply-function is the same with map for Series. Results are not inplaced.\n",
    "\n",
    "df2.apply(func_10)"
   ]
  },
  {
   "cell_type": "code",
   "execution_count": null,
   "metadata": {
    "id": "1qDWuVFvozyC"
   },
   "outputs": [],
   "source": [
    "%%timeit\n",
    "\n",
    "df2.apply(lambda x:round(x))"
   ]
  },
  {
   "cell_type": "code",
   "execution_count": null,
   "metadata": {
    "id": "tLbhsmzwozyC"
   },
   "outputs": [],
   "source": [
    "%%timeit\n",
    "\n",
    "df2.round()"
   ]
  },
  {
   "cell_type": "markdown",
   "metadata": {
    "id": "aPqGfpJeozyC"
   },
   "source": [
    "### Analysis"
   ]
  },
  {
   "cell_type": "code",
   "execution_count": null,
   "metadata": {
    "id": "ex6HyGmtozyC"
   },
   "outputs": [],
   "source": [
    "# Read csv-file\n",
    "\n",
    "df = pd.read_csv('student-mat.csv', sep=';')"
   ]
  },
  {
   "cell_type": "code",
   "execution_count": null,
   "metadata": {
    "id": "rsFv0hPBozyD"
   },
   "outputs": [],
   "source": [
    "# Size of df\n",
    "\n",
    "df.shape"
   ]
  },
  {
   "cell_type": "code",
   "execution_count": null,
   "metadata": {
    "id": "5-2OumPIozyD"
   },
   "outputs": [],
   "source": [
    "df.info()"
   ]
  },
  {
   "cell_type": "code",
   "execution_count": null,
   "metadata": {
    "id": "FkHnsLgTozyD"
   },
   "outputs": [],
   "source": [
    "df.describe(include='all')"
   ]
  },
  {
   "cell_type": "markdown",
   "metadata": {
    "id": "rCl8DSVxozyE"
   },
   "source": [
    "We can change count of visible columns and rows:"
   ]
  },
  {
   "cell_type": "code",
   "execution_count": null,
   "metadata": {
    "id": "ci2bFfgYozyE"
   },
   "outputs": [],
   "source": [
    "pd.set_option('display.max_columns', 100)\n",
    "pd.set_option('display.max_rows', 20)"
   ]
  },
  {
   "cell_type": "code",
   "execution_count": null,
   "metadata": {
    "id": "XNuIUVhBozyE"
   },
   "outputs": [],
   "source": [
    "df.describe(include='all')"
   ]
  },
  {
   "cell_type": "code",
   "execution_count": null,
   "metadata": {
    "id": "2p8zOS-rozyE"
   },
   "outputs": [],
   "source": [
    "# Select rows where sex is 'F'\n",
    "\n",
    "df[(df['sex'] == 'F')]"
   ]
  },
  {
   "cell_type": "code",
   "execution_count": null,
   "metadata": {
    "id": "0TP2nzSsozyF"
   },
   "outputs": [],
   "source": [
    "# Select rows where sex is F and Mjob is equal to \"at_home\"\n",
    "\n",
    "df[(df['sex'] == 'F') & (df['Mjob'] == 'at_home')]"
   ]
  },
  {
   "cell_type": "code",
   "execution_count": null,
   "metadata": {
    "id": "ELxbZUBSozyF"
   },
   "outputs": [],
   "source": [
    "# Check all variants for Mjob\n",
    "\n",
    "df['Mjob'].value_counts()"
   ]
  },
  {
   "cell_type": "code",
   "execution_count": null,
   "metadata": {
    "id": "uWqoHtyoozyG"
   },
   "outputs": [],
   "source": [
    "# Select rows where Mjob is \"at_home\" or \"teacher\"\n",
    "\n",
    "interesting_jobs = ['at_home', 'teacher']\n",
    "\n",
    "df[df['Mjob'].isin(interesting_jobs)]"
   ]
  },
  {
   "cell_type": "markdown",
   "metadata": {
    "id": "-GzLWPhwozyG"
   },
   "source": [
    "### Concat"
   ]
  },
  {
   "cell_type": "code",
   "execution_count": null,
   "metadata": {
    "id": "TBV7ESkpozyG"
   },
   "outputs": [],
   "source": [
    "# Create tables for examples\n",
    "\n",
    "df1 = pd.DataFrame({'A': ['A0', 'A1', 'A2', 'A3'],\n",
    "                    'B': ['B0', 'B1', 'B2', 'B3'],\n",
    "                    'C': ['C0', 'C1', 'C2', 'C3'],\n",
    "                    'D': ['D0', 'D1', 'D2', 'D3']},\n",
    "                   index=[0, 1, 2, 3])\n",
    "\n",
    "\n",
    "df2 = pd.DataFrame({'A': ['A4', 'A5', 'A6', 'A7'],\n",
    "                    'B': ['B4', 'B5', 'B6', 'B7'],\n",
    "                    'C': ['C4', 'C5', 'C6', 'C7'],\n",
    "                    'D': ['D4', 'D5', 'D6', 'D7']},\n",
    "                   index=[4, 5, 6, 7])\n",
    "\n",
    "\n",
    "df3 = pd.DataFrame({'A': ['A8', 'A9', 'A10', 'A11'],\n",
    "                    'B': ['B8', 'B9', 'B10', 'B11'],\n",
    "                    'C': ['C8', 'C9', 'C10', 'C11'],\n",
    "                    'D': ['D8', 'D9', 'D10', 'D11']},               \n",
    "                    index=[8, 9, 10, 11])"
   ]
  },
  {
   "cell_type": "code",
   "execution_count": null,
   "metadata": {
    "id": "DBZceQIEozyH"
   },
   "outputs": [],
   "source": [
    "result = pd.concat([df1, df2, df3])"
   ]
  },
  {
   "cell_type": "code",
   "execution_count": null,
   "metadata": {
    "id": "No4mKG1xozyH"
   },
   "outputs": [],
   "source": [
    "result"
   ]
  },
  {
   "cell_type": "code",
   "execution_count": null,
   "metadata": {
    "id": "LFz6WBc3ozyH"
   },
   "outputs": [],
   "source": [
    "# Adding keys for simplifying indexing\n",
    "\n",
    "result = pd.concat([df1, df2, df3], keys=['x', 'y', 'z'])"
   ]
  },
  {
   "cell_type": "code",
   "execution_count": null,
   "metadata": {
    "id": "bobuedF_ozyH"
   },
   "outputs": [],
   "source": [
    "result"
   ]
  },
  {
   "cell_type": "code",
   "execution_count": null,
   "metadata": {
    "id": "YN5m7MEgozyI"
   },
   "outputs": [],
   "source": [
    "result.loc['y']"
   ]
  },
  {
   "cell_type": "code",
   "execution_count": null,
   "metadata": {
    "id": "tnvJCcX2ozyI"
   },
   "outputs": [],
   "source": [
    "# Creating new frame\n",
    "\n",
    "df4 = pd.DataFrame({'B': ['B2', 'B3', 'B6', 'B7'],\n",
    "                    'D': ['D2', 'D3', 'D6', 'D7'],\n",
    "                    'F': ['F2', 'F3', 'F6', 'F7']},\n",
    "                   index=[2, 3, 6, 7])"
   ]
  },
  {
   "cell_type": "code",
   "execution_count": null,
   "metadata": {
    "id": "5CUrWAoIozyI",
    "scrolled": true
   },
   "outputs": [],
   "source": [
    "# Check outer join\n",
    "\n",
    "result = pd.concat([df1, df4], axis=1, join='outer', sort=False)\n",
    "result"
   ]
  },
  {
   "cell_type": "code",
   "execution_count": null,
   "metadata": {
    "id": "zkkFhKPjozyI"
   },
   "outputs": [],
   "source": [
    "# Check inner join\n",
    "\n",
    "result = pd.concat([df1, df4], axis=1, join='inner', sort=False)\n",
    "result"
   ]
  },
  {
   "cell_type": "code",
   "execution_count": null,
   "metadata": {
    "id": "oop52RaYozyJ"
   },
   "outputs": [],
   "source": [
    "# Check how ignore_index works\n",
    "\n",
    "result = pd.concat([df1, df4], ignore_index=True, sort=False)\n",
    "result"
   ]
  },
  {
   "cell_type": "markdown",
   "metadata": {
    "id": "qgsua2SMozyJ"
   },
   "source": [
    "### Merge"
   ]
  },
  {
   "cell_type": "code",
   "execution_count": null,
   "metadata": {
    "id": "01mMmLg5ozyJ"
   },
   "outputs": [],
   "source": [
    "# Create frames\n",
    "\n",
    "left = pd.DataFrame({'key1': ['K0', 'K0', 'K1', 'K2'],\n",
    "                     'key2': ['K0', 'K1', 'K0', 'K1'],\n",
    "                     'A': ['A0', 'A1', 'A2', 'A3'],\n",
    "                     'B': ['B0', 'B1', 'B2', 'B3']})\n",
    "\n",
    "\n",
    "right = pd.DataFrame({'key1': ['K0', 'K1', 'K1', 'K2'],\n",
    "                      'key2': ['K0', 'K0', 'K0', 'K0'],\n",
    "                      'C': ['C0', 'C1', 'C2', 'C3'],\n",
    "                      'D': ['D0', 'D1', 'D2', 'D3']})"
   ]
  },
  {
   "cell_type": "code",
   "execution_count": null,
   "metadata": {
    "id": "0WgA2qzNozyJ"
   },
   "outputs": [],
   "source": [
    "# Merge on 2 keys with default parameters\n",
    "\n",
    "result = pd.merge(left, right, on=['key1', 'key2'])\n",
    "result"
   ]
  },
  {
   "cell_type": "code",
   "execution_count": null,
   "metadata": {
    "id": "UNEjqPPsozyK"
   },
   "outputs": [],
   "source": [
    "# LEFT merge\n",
    "\n",
    "result = pd.merge(left, right, how='left', on=['key1', 'key2'])\n",
    "print('Left')\n",
    "result"
   ]
  },
  {
   "cell_type": "code",
   "execution_count": null,
   "metadata": {
    "id": "I1z8IZXFozyK"
   },
   "outputs": [],
   "source": [
    "# RIGHT merge\n",
    "\n",
    "result = pd.merge(left, right, how='right', on=['key1', 'key2'])\n",
    "print('Right')\n",
    "result"
   ]
  },
  {
   "cell_type": "markdown",
   "metadata": {
    "id": "oIcqMjiRozyK"
   },
   "source": [
    "### Join"
   ]
  },
  {
   "cell_type": "code",
   "execution_count": null,
   "metadata": {
    "id": "aJPE_IQnozyK"
   },
   "outputs": [],
   "source": [
    "# Create examples of frames\n",
    "\n",
    "left = pd.DataFrame({'A': ['A0', 'A1', 'A2'],\n",
    "                     'B': ['B0', 'B1', 'B2']},\n",
    "                    index=['K0', 'K1', 'K2'])\n",
    "\n",
    "\n",
    "right = pd.DataFrame({'C': ['C0', 'C2', 'C3'],\n",
    "                      'D': ['D0', 'D2', 'D3']},\n",
    "                     index=['K0', 'K2', 'K3'])\n",
    "\n",
    "result = left.join(right)\n",
    "result"
   ]
  },
  {
   "cell_type": "markdown",
   "metadata": {
    "id": "qUuXu88eozyL"
   },
   "source": [
    "### Groupby"
   ]
  },
  {
   "cell_type": "code",
   "execution_count": null,
   "metadata": {
    "id": "wwiTWwzbozyL"
   },
   "outputs": [],
   "source": [
    "# Back to our dataset\n",
    "\n",
    "df.head(10)"
   ]
  },
  {
   "cell_type": "code",
   "execution_count": null,
   "metadata": {
    "id": "ucye-sfsozyL"
   },
   "outputs": [],
   "source": [
    "# Calculate how many girls and boys have a romantic relationship\n",
    "\n",
    "df.groupby(by=['sex', 'romantic'])['romantic'].count()"
   ]
  },
  {
   "cell_type": "code",
   "execution_count": null,
   "metadata": {
    "id": "FU5u5KinozyL"
   },
   "outputs": [],
   "source": [
    "# Calculate what proportion of girls and boys have a romantic relationship\n",
    "\n",
    "df.groupby(by=['sex']).agg({'romantic': lambda x: x.value_counts(normalize=True)['yes']})"
   ]
  },
  {
   "cell_type": "markdown",
   "metadata": {
    "id": "TskhtNbLozyL"
   },
   "source": [
    "### pivot_table"
   ]
  },
  {
   "cell_type": "code",
   "execution_count": null,
   "metadata": {
    "id": "qv148H8xozyM"
   },
   "outputs": [],
   "source": [
    "# Calculate average rate of final grade depending on romantic realtionship and Internet availability by sex\n",
    "\n",
    "p_table = df.pivot_table(\n",
    "    values='G3', \n",
    "    columns='sex', \n",
    "    index=['romantic', 'internet'], \n",
    "    aggfunc='mean'\n",
    ")\n",
    "\n",
    "p_table"
   ]
  },
  {
   "cell_type": "markdown",
   "metadata": {
    "id": "aogQ_DalozyM"
   },
   "source": [
    "### MultiIndex"
   ]
  },
  {
   "cell_type": "code",
   "execution_count": null,
   "metadata": {
    "id": "firF2z8IozyM"
   },
   "outputs": [],
   "source": [
    "# Create an example of pivot table\n",
    "\n",
    "p_table = df.pivot_table(\n",
    "    values='G3', \n",
    "    columns='sex', \n",
    "    index=['Mjob', 'paid'], \n",
    "    aggfunc='mean'\n",
    ")\n",
    "\n",
    "p_table"
   ]
  },
  {
   "cell_type": "code",
   "execution_count": null,
   "metadata": {
    "id": "u3uSUYR6ozyN"
   },
   "outputs": [],
   "source": [
    "# In general, we have 3-dimensional dataset. Look at indexes of pivot table\n",
    "\n",
    "p_table.index"
   ]
  },
  {
   "cell_type": "code",
   "execution_count": null,
   "metadata": {
    "id": "KQ94DHt3ozyN"
   },
   "outputs": [],
   "source": [
    "# Look at level names\n",
    "\n",
    "p_table.index.names"
   ]
  },
  {
   "cell_type": "code",
   "execution_count": null,
   "metadata": {
    "id": "WGTGuw9JozyO"
   },
   "outputs": [],
   "source": [
    "# Getting values by column\n",
    "\n",
    "p_table['F']"
   ]
  },
  {
   "cell_type": "code",
   "execution_count": null,
   "metadata": {
    "id": "3QHFbH9wozyO"
   },
   "outputs": [],
   "source": [
    "# You can play with grouping by changing the order of these functions\n",
    "\n",
    "p_table.stack().swaplevel()"
   ]
  },
  {
   "cell_type": "code",
   "execution_count": null,
   "metadata": {
    "id": "o9t07VyZozyO"
   },
   "outputs": [],
   "source": [
    "# Restack the table\n",
    "\n",
    "p_table1 = p_table.unstack()"
   ]
  },
  {
   "cell_type": "code",
   "execution_count": null,
   "metadata": {
    "id": "S4PwdLl7ozyP"
   },
   "outputs": [],
   "source": [
    "# Getting values by columns\n",
    "\n",
    "p_table1['F']['no']"
   ]
  },
  {
   "cell_type": "code",
   "execution_count": null,
   "metadata": {
    "id": "frgmJ5iEozyP"
   },
   "outputs": [],
   "source": [
    "# Getting values by 1-level index\n",
    "\n",
    "p_table.xs('at_home')"
   ]
  },
  {
   "cell_type": "code",
   "execution_count": null,
   "metadata": {
    "id": "3eF_3qMwozyP",
    "scrolled": true
   },
   "outputs": [],
   "source": [
    "# Getting values by 1-level index\n",
    "\n",
    "p_table.loc['at_home', :]"
   ]
  },
  {
   "cell_type": "code",
   "execution_count": null,
   "metadata": {
    "id": "cj16C_maozyP"
   },
   "outputs": [],
   "source": [
    "# Getting values by two levels index\n",
    "\n",
    "p_table.loc[('at_home', 'yes'), :]"
   ]
  },
  {
   "cell_type": "code",
   "execution_count": null,
   "metadata": {
    "id": "yr1Ws8v4ozyQ"
   },
   "outputs": [],
   "source": [
    "# Getting values by 2-level index\n",
    "\n",
    "p_table.xs('yes', level='paid')"
   ]
  },
  {
   "cell_type": "code",
   "execution_count": null,
   "metadata": {
    "id": "xIHQVBbkozyR"
   },
   "outputs": [],
   "source": [
    "# Getting values by slicing\n",
    "\n",
    "p_table.loc[(slice('b','other'), slice('yes', 'yes')), :]"
   ]
  },
  {
   "cell_type": "code",
   "execution_count": null,
   "metadata": {
    "id": "efT3npswozyR"
   },
   "outputs": [],
   "source": [
    "# Getting values by slicing\n",
    "\n",
    "idx = pd.IndexSlice\n",
    "\n",
    "p_table.loc[idx['at_home':'other',['yes']], :]"
   ]
  },
  {
   "cell_type": "code",
   "execution_count": null,
   "metadata": {
    "id": "-D13YHgzozyR"
   },
   "outputs": [],
   "source": []
  }
 ],
 "metadata": {
  "colab": {
   "name": "Lecture-05-Pandas.ipynb",
   "provenance": []
  },
  "kernelspec": {
   "display_name": "Python 3",
   "language": "python",
   "name": "python3"
  },
  "language_info": {
   "codemirror_mode": {
    "name": "ipython",
    "version": 3
   },
   "file_extension": ".py",
   "mimetype": "text/x-python",
   "name": "python",
   "nbconvert_exporter": "python",
   "pygments_lexer": "ipython3",
   "version": "3.8.5"
  },
  "toc": {
   "base_numbering": 1,
   "nav_menu": {},
   "number_sections": true,
   "sideBar": true,
   "skip_h1_title": false,
   "title_cell": "Table of Contents",
   "title_sidebar": "Contents",
   "toc_cell": false,
   "toc_position": {},
   "toc_section_display": true,
   "toc_window_display": false
  }
 },
 "nbformat": 4,
 "nbformat_minor": 1
}
