{
 "cells": [
  {
   "cell_type": "markdown",
   "metadata": {
    "id": "9jAOQ6Gqo5kk"
   },
   "source": [
    "# Pandas"
   ]
  },
  {
   "cell_type": "markdown",
   "metadata": {
    "id": "-bYJOHG7o5kw"
   },
   "source": [
    "0) Import libraries, check versions"
   ]
  },
  {
   "cell_type": "code",
   "execution_count": 36,
   "metadata": {
    "ExecuteTime": {
     "end_time": "2021-07-08T15:05:16.207674Z",
     "start_time": "2021-07-08T15:05:16.194675Z"
    }
   },
   "outputs": [
    {
     "data": {
      "text/plain": [
       "'1.0.5'"
      ]
     },
     "execution_count": 36,
     "metadata": {},
     "output_type": "execute_result"
    }
   ],
   "source": [
    "import pandas as pd\n",
    "import numpy as np\n",
    "\n",
    "pd.__version__"
   ]
  },
  {
   "cell_type": "markdown",
   "metadata": {
    "id": "zySwqqc7o5kx"
   },
   "source": [
    "00) Read csv, do primary analysis"
   ]
  },
  {
   "cell_type": "code",
   "execution_count": 37,
   "metadata": {
    "ExecuteTime": {
     "end_time": "2021-07-08T15:05:16.255511Z",
     "start_time": "2021-07-08T15:05:16.210635Z"
    }
   },
   "outputs": [
    {
     "data": {
      "text/html": [
       "<div>\n",
       "<style scoped>\n",
       "    .dataframe tbody tr th:only-of-type {\n",
       "        vertical-align: middle;\n",
       "    }\n",
       "\n",
       "    .dataframe tbody tr th {\n",
       "        vertical-align: top;\n",
       "    }\n",
       "\n",
       "    .dataframe thead th {\n",
       "        text-align: right;\n",
       "    }\n",
       "</style>\n",
       "<table border=\"1\" class=\"dataframe\">\n",
       "  <thead>\n",
       "    <tr style=\"text-align: right;\">\n",
       "      <th></th>\n",
       "      <th>school</th>\n",
       "      <th>sex</th>\n",
       "      <th>age</th>\n",
       "      <th>address</th>\n",
       "      <th>famsize</th>\n",
       "      <th>Pstatus</th>\n",
       "      <th>Medu</th>\n",
       "      <th>Fedu</th>\n",
       "      <th>Mjob</th>\n",
       "      <th>Fjob</th>\n",
       "      <th>reason</th>\n",
       "      <th>guardian</th>\n",
       "      <th>traveltime</th>\n",
       "      <th>studytime</th>\n",
       "      <th>failures</th>\n",
       "      <th>schoolsup</th>\n",
       "      <th>famsup</th>\n",
       "      <th>paid</th>\n",
       "      <th>activities</th>\n",
       "      <th>nursery</th>\n",
       "      <th>higher</th>\n",
       "      <th>internet</th>\n",
       "      <th>romantic</th>\n",
       "      <th>famrel</th>\n",
       "      <th>freetime</th>\n",
       "      <th>goout</th>\n",
       "      <th>Dalc</th>\n",
       "      <th>Walc</th>\n",
       "      <th>health</th>\n",
       "      <th>absences</th>\n",
       "      <th>G1</th>\n",
       "      <th>G2</th>\n",
       "      <th>G3</th>\n",
       "    </tr>\n",
       "  </thead>\n",
       "  <tbody>\n",
       "    <tr>\n",
       "      <th>0</th>\n",
       "      <td>GP</td>\n",
       "      <td>F</td>\n",
       "      <td>18</td>\n",
       "      <td>U</td>\n",
       "      <td>GT3</td>\n",
       "      <td>A</td>\n",
       "      <td>4</td>\n",
       "      <td>4</td>\n",
       "      <td>at_home</td>\n",
       "      <td>teacher</td>\n",
       "      <td>course</td>\n",
       "      <td>mother</td>\n",
       "      <td>2</td>\n",
       "      <td>2</td>\n",
       "      <td>0</td>\n",
       "      <td>yes</td>\n",
       "      <td>no</td>\n",
       "      <td>no</td>\n",
       "      <td>no</td>\n",
       "      <td>yes</td>\n",
       "      <td>yes</td>\n",
       "      <td>no</td>\n",
       "      <td>no</td>\n",
       "      <td>4</td>\n",
       "      <td>3</td>\n",
       "      <td>4</td>\n",
       "      <td>1</td>\n",
       "      <td>1</td>\n",
       "      <td>3</td>\n",
       "      <td>6</td>\n",
       "      <td>5</td>\n",
       "      <td>6</td>\n",
       "      <td>6</td>\n",
       "    </tr>\n",
       "    <tr>\n",
       "      <th>1</th>\n",
       "      <td>GP</td>\n",
       "      <td>F</td>\n",
       "      <td>17</td>\n",
       "      <td>U</td>\n",
       "      <td>GT3</td>\n",
       "      <td>T</td>\n",
       "      <td>1</td>\n",
       "      <td>1</td>\n",
       "      <td>at_home</td>\n",
       "      <td>other</td>\n",
       "      <td>course</td>\n",
       "      <td>father</td>\n",
       "      <td>1</td>\n",
       "      <td>2</td>\n",
       "      <td>0</td>\n",
       "      <td>no</td>\n",
       "      <td>yes</td>\n",
       "      <td>no</td>\n",
       "      <td>no</td>\n",
       "      <td>no</td>\n",
       "      <td>yes</td>\n",
       "      <td>yes</td>\n",
       "      <td>no</td>\n",
       "      <td>5</td>\n",
       "      <td>3</td>\n",
       "      <td>3</td>\n",
       "      <td>1</td>\n",
       "      <td>1</td>\n",
       "      <td>3</td>\n",
       "      <td>4</td>\n",
       "      <td>5</td>\n",
       "      <td>5</td>\n",
       "      <td>6</td>\n",
       "    </tr>\n",
       "    <tr>\n",
       "      <th>2</th>\n",
       "      <td>GP</td>\n",
       "      <td>F</td>\n",
       "      <td>15</td>\n",
       "      <td>U</td>\n",
       "      <td>LE3</td>\n",
       "      <td>T</td>\n",
       "      <td>1</td>\n",
       "      <td>1</td>\n",
       "      <td>at_home</td>\n",
       "      <td>other</td>\n",
       "      <td>other</td>\n",
       "      <td>mother</td>\n",
       "      <td>1</td>\n",
       "      <td>2</td>\n",
       "      <td>3</td>\n",
       "      <td>yes</td>\n",
       "      <td>no</td>\n",
       "      <td>yes</td>\n",
       "      <td>no</td>\n",
       "      <td>yes</td>\n",
       "      <td>yes</td>\n",
       "      <td>yes</td>\n",
       "      <td>no</td>\n",
       "      <td>4</td>\n",
       "      <td>3</td>\n",
       "      <td>2</td>\n",
       "      <td>2</td>\n",
       "      <td>3</td>\n",
       "      <td>3</td>\n",
       "      <td>10</td>\n",
       "      <td>7</td>\n",
       "      <td>8</td>\n",
       "      <td>10</td>\n",
       "    </tr>\n",
       "    <tr>\n",
       "      <th>3</th>\n",
       "      <td>GP</td>\n",
       "      <td>F</td>\n",
       "      <td>15</td>\n",
       "      <td>U</td>\n",
       "      <td>GT3</td>\n",
       "      <td>T</td>\n",
       "      <td>4</td>\n",
       "      <td>2</td>\n",
       "      <td>health</td>\n",
       "      <td>services</td>\n",
       "      <td>home</td>\n",
       "      <td>mother</td>\n",
       "      <td>1</td>\n",
       "      <td>3</td>\n",
       "      <td>0</td>\n",
       "      <td>no</td>\n",
       "      <td>yes</td>\n",
       "      <td>yes</td>\n",
       "      <td>yes</td>\n",
       "      <td>yes</td>\n",
       "      <td>yes</td>\n",
       "      <td>yes</td>\n",
       "      <td>yes</td>\n",
       "      <td>3</td>\n",
       "      <td>2</td>\n",
       "      <td>2</td>\n",
       "      <td>1</td>\n",
       "      <td>1</td>\n",
       "      <td>5</td>\n",
       "      <td>2</td>\n",
       "      <td>15</td>\n",
       "      <td>14</td>\n",
       "      <td>15</td>\n",
       "    </tr>\n",
       "    <tr>\n",
       "      <th>4</th>\n",
       "      <td>GP</td>\n",
       "      <td>F</td>\n",
       "      <td>16</td>\n",
       "      <td>U</td>\n",
       "      <td>GT3</td>\n",
       "      <td>T</td>\n",
       "      <td>3</td>\n",
       "      <td>3</td>\n",
       "      <td>other</td>\n",
       "      <td>other</td>\n",
       "      <td>home</td>\n",
       "      <td>father</td>\n",
       "      <td>1</td>\n",
       "      <td>2</td>\n",
       "      <td>0</td>\n",
       "      <td>no</td>\n",
       "      <td>yes</td>\n",
       "      <td>yes</td>\n",
       "      <td>no</td>\n",
       "      <td>yes</td>\n",
       "      <td>yes</td>\n",
       "      <td>no</td>\n",
       "      <td>no</td>\n",
       "      <td>4</td>\n",
       "      <td>3</td>\n",
       "      <td>2</td>\n",
       "      <td>1</td>\n",
       "      <td>2</td>\n",
       "      <td>5</td>\n",
       "      <td>4</td>\n",
       "      <td>6</td>\n",
       "      <td>10</td>\n",
       "      <td>10</td>\n",
       "    </tr>\n",
       "    <tr>\n",
       "      <th>...</th>\n",
       "      <td>...</td>\n",
       "      <td>...</td>\n",
       "      <td>...</td>\n",
       "      <td>...</td>\n",
       "      <td>...</td>\n",
       "      <td>...</td>\n",
       "      <td>...</td>\n",
       "      <td>...</td>\n",
       "      <td>...</td>\n",
       "      <td>...</td>\n",
       "      <td>...</td>\n",
       "      <td>...</td>\n",
       "      <td>...</td>\n",
       "      <td>...</td>\n",
       "      <td>...</td>\n",
       "      <td>...</td>\n",
       "      <td>...</td>\n",
       "      <td>...</td>\n",
       "      <td>...</td>\n",
       "      <td>...</td>\n",
       "      <td>...</td>\n",
       "      <td>...</td>\n",
       "      <td>...</td>\n",
       "      <td>...</td>\n",
       "      <td>...</td>\n",
       "      <td>...</td>\n",
       "      <td>...</td>\n",
       "      <td>...</td>\n",
       "      <td>...</td>\n",
       "      <td>...</td>\n",
       "      <td>...</td>\n",
       "      <td>...</td>\n",
       "      <td>...</td>\n",
       "    </tr>\n",
       "    <tr>\n",
       "      <th>390</th>\n",
       "      <td>MS</td>\n",
       "      <td>M</td>\n",
       "      <td>20</td>\n",
       "      <td>U</td>\n",
       "      <td>LE3</td>\n",
       "      <td>A</td>\n",
       "      <td>2</td>\n",
       "      <td>2</td>\n",
       "      <td>services</td>\n",
       "      <td>services</td>\n",
       "      <td>course</td>\n",
       "      <td>other</td>\n",
       "      <td>1</td>\n",
       "      <td>2</td>\n",
       "      <td>2</td>\n",
       "      <td>no</td>\n",
       "      <td>yes</td>\n",
       "      <td>yes</td>\n",
       "      <td>no</td>\n",
       "      <td>yes</td>\n",
       "      <td>yes</td>\n",
       "      <td>no</td>\n",
       "      <td>no</td>\n",
       "      <td>5</td>\n",
       "      <td>5</td>\n",
       "      <td>4</td>\n",
       "      <td>4</td>\n",
       "      <td>5</td>\n",
       "      <td>4</td>\n",
       "      <td>11</td>\n",
       "      <td>9</td>\n",
       "      <td>9</td>\n",
       "      <td>9</td>\n",
       "    </tr>\n",
       "    <tr>\n",
       "      <th>391</th>\n",
       "      <td>MS</td>\n",
       "      <td>M</td>\n",
       "      <td>17</td>\n",
       "      <td>U</td>\n",
       "      <td>LE3</td>\n",
       "      <td>T</td>\n",
       "      <td>3</td>\n",
       "      <td>1</td>\n",
       "      <td>services</td>\n",
       "      <td>services</td>\n",
       "      <td>course</td>\n",
       "      <td>mother</td>\n",
       "      <td>2</td>\n",
       "      <td>1</td>\n",
       "      <td>0</td>\n",
       "      <td>no</td>\n",
       "      <td>no</td>\n",
       "      <td>no</td>\n",
       "      <td>no</td>\n",
       "      <td>no</td>\n",
       "      <td>yes</td>\n",
       "      <td>yes</td>\n",
       "      <td>no</td>\n",
       "      <td>2</td>\n",
       "      <td>4</td>\n",
       "      <td>5</td>\n",
       "      <td>3</td>\n",
       "      <td>4</td>\n",
       "      <td>2</td>\n",
       "      <td>3</td>\n",
       "      <td>14</td>\n",
       "      <td>16</td>\n",
       "      <td>16</td>\n",
       "    </tr>\n",
       "    <tr>\n",
       "      <th>392</th>\n",
       "      <td>MS</td>\n",
       "      <td>M</td>\n",
       "      <td>21</td>\n",
       "      <td>R</td>\n",
       "      <td>GT3</td>\n",
       "      <td>T</td>\n",
       "      <td>1</td>\n",
       "      <td>1</td>\n",
       "      <td>other</td>\n",
       "      <td>other</td>\n",
       "      <td>course</td>\n",
       "      <td>other</td>\n",
       "      <td>1</td>\n",
       "      <td>1</td>\n",
       "      <td>3</td>\n",
       "      <td>no</td>\n",
       "      <td>no</td>\n",
       "      <td>no</td>\n",
       "      <td>no</td>\n",
       "      <td>no</td>\n",
       "      <td>yes</td>\n",
       "      <td>no</td>\n",
       "      <td>no</td>\n",
       "      <td>5</td>\n",
       "      <td>5</td>\n",
       "      <td>3</td>\n",
       "      <td>3</td>\n",
       "      <td>3</td>\n",
       "      <td>3</td>\n",
       "      <td>3</td>\n",
       "      <td>10</td>\n",
       "      <td>8</td>\n",
       "      <td>7</td>\n",
       "    </tr>\n",
       "    <tr>\n",
       "      <th>393</th>\n",
       "      <td>MS</td>\n",
       "      <td>M</td>\n",
       "      <td>18</td>\n",
       "      <td>R</td>\n",
       "      <td>LE3</td>\n",
       "      <td>T</td>\n",
       "      <td>3</td>\n",
       "      <td>2</td>\n",
       "      <td>services</td>\n",
       "      <td>other</td>\n",
       "      <td>course</td>\n",
       "      <td>mother</td>\n",
       "      <td>3</td>\n",
       "      <td>1</td>\n",
       "      <td>0</td>\n",
       "      <td>no</td>\n",
       "      <td>no</td>\n",
       "      <td>no</td>\n",
       "      <td>no</td>\n",
       "      <td>no</td>\n",
       "      <td>yes</td>\n",
       "      <td>yes</td>\n",
       "      <td>no</td>\n",
       "      <td>4</td>\n",
       "      <td>4</td>\n",
       "      <td>1</td>\n",
       "      <td>3</td>\n",
       "      <td>4</td>\n",
       "      <td>5</td>\n",
       "      <td>0</td>\n",
       "      <td>11</td>\n",
       "      <td>12</td>\n",
       "      <td>10</td>\n",
       "    </tr>\n",
       "    <tr>\n",
       "      <th>394</th>\n",
       "      <td>MS</td>\n",
       "      <td>M</td>\n",
       "      <td>19</td>\n",
       "      <td>U</td>\n",
       "      <td>LE3</td>\n",
       "      <td>T</td>\n",
       "      <td>1</td>\n",
       "      <td>1</td>\n",
       "      <td>other</td>\n",
       "      <td>at_home</td>\n",
       "      <td>course</td>\n",
       "      <td>father</td>\n",
       "      <td>1</td>\n",
       "      <td>1</td>\n",
       "      <td>0</td>\n",
       "      <td>no</td>\n",
       "      <td>no</td>\n",
       "      <td>no</td>\n",
       "      <td>no</td>\n",
       "      <td>yes</td>\n",
       "      <td>yes</td>\n",
       "      <td>yes</td>\n",
       "      <td>no</td>\n",
       "      <td>3</td>\n",
       "      <td>2</td>\n",
       "      <td>3</td>\n",
       "      <td>3</td>\n",
       "      <td>3</td>\n",
       "      <td>5</td>\n",
       "      <td>5</td>\n",
       "      <td>8</td>\n",
       "      <td>9</td>\n",
       "      <td>9</td>\n",
       "    </tr>\n",
       "  </tbody>\n",
       "</table>\n",
       "<p>395 rows × 33 columns</p>\n",
       "</div>"
      ],
      "text/plain": [
       "    school sex  age address famsize Pstatus  Medu  Fedu      Mjob      Fjob  \\\n",
       "0       GP   F   18       U     GT3       A     4     4   at_home   teacher   \n",
       "1       GP   F   17       U     GT3       T     1     1   at_home     other   \n",
       "2       GP   F   15       U     LE3       T     1     1   at_home     other   \n",
       "3       GP   F   15       U     GT3       T     4     2    health  services   \n",
       "4       GP   F   16       U     GT3       T     3     3     other     other   \n",
       "..     ...  ..  ...     ...     ...     ...   ...   ...       ...       ...   \n",
       "390     MS   M   20       U     LE3       A     2     2  services  services   \n",
       "391     MS   M   17       U     LE3       T     3     1  services  services   \n",
       "392     MS   M   21       R     GT3       T     1     1     other     other   \n",
       "393     MS   M   18       R     LE3       T     3     2  services     other   \n",
       "394     MS   M   19       U     LE3       T     1     1     other   at_home   \n",
       "\n",
       "     reason guardian  traveltime  studytime  failures schoolsup famsup paid  \\\n",
       "0    course   mother           2          2         0       yes     no   no   \n",
       "1    course   father           1          2         0        no    yes   no   \n",
       "2     other   mother           1          2         3       yes     no  yes   \n",
       "3      home   mother           1          3         0        no    yes  yes   \n",
       "4      home   father           1          2         0        no    yes  yes   \n",
       "..      ...      ...         ...        ...       ...       ...    ...  ...   \n",
       "390  course    other           1          2         2        no    yes  yes   \n",
       "391  course   mother           2          1         0        no     no   no   \n",
       "392  course    other           1          1         3        no     no   no   \n",
       "393  course   mother           3          1         0        no     no   no   \n",
       "394  course   father           1          1         0        no     no   no   \n",
       "\n",
       "    activities nursery higher internet romantic  famrel  freetime  goout  \\\n",
       "0           no     yes    yes       no       no       4         3      4   \n",
       "1           no      no    yes      yes       no       5         3      3   \n",
       "2           no     yes    yes      yes       no       4         3      2   \n",
       "3          yes     yes    yes      yes      yes       3         2      2   \n",
       "4           no     yes    yes       no       no       4         3      2   \n",
       "..         ...     ...    ...      ...      ...     ...       ...    ...   \n",
       "390         no     yes    yes       no       no       5         5      4   \n",
       "391         no      no    yes      yes       no       2         4      5   \n",
       "392         no      no    yes       no       no       5         5      3   \n",
       "393         no      no    yes      yes       no       4         4      1   \n",
       "394         no     yes    yes      yes       no       3         2      3   \n",
       "\n",
       "     Dalc  Walc  health  absences  G1  G2  G3  \n",
       "0       1     1       3         6   5   6   6  \n",
       "1       1     1       3         4   5   5   6  \n",
       "2       2     3       3        10   7   8  10  \n",
       "3       1     1       5         2  15  14  15  \n",
       "4       1     2       5         4   6  10  10  \n",
       "..    ...   ...     ...       ...  ..  ..  ..  \n",
       "390     4     5       4        11   9   9   9  \n",
       "391     3     4       2         3  14  16  16  \n",
       "392     3     3       3         3  10   8   7  \n",
       "393     3     4       5         0  11  12  10  \n",
       "394     3     3       5         5   8   9   9  \n",
       "\n",
       "[395 rows x 33 columns]"
      ]
     },
     "execution_count": 37,
     "metadata": {},
     "output_type": "execute_result"
    }
   ],
   "source": [
    "df = pd.read_csv(\"student-mat.csv\", sep=\";\")\n",
    "df"
   ]
  },
  {
   "cell_type": "code",
   "execution_count": 38,
   "metadata": {
    "ExecuteTime": {
     "end_time": "2021-07-08T15:05:16.271531Z",
     "start_time": "2021-07-08T15:05:16.258531Z"
    }
   },
   "outputs": [],
   "source": [
    "pd.options.display.max_columns = 33"
   ]
  },
  {
   "cell_type": "markdown",
   "metadata": {
    "id": "sEKKhvc7o5ky"
   },
   "source": [
    "1) How many variants of mother's job are in the dataset? (min 3 variants)"
   ]
  },
  {
   "cell_type": "code",
   "execution_count": 39,
   "metadata": {
    "ExecuteTime": {
     "end_time": "2021-07-08T15:05:16.287425Z",
     "start_time": "2021-07-08T15:05:16.273463Z"
    }
   },
   "outputs": [
    {
     "data": {
      "text/plain": [
       "5"
      ]
     },
     "execution_count": 39,
     "metadata": {},
     "output_type": "execute_result"
    }
   ],
   "source": [
    "df[\"Mjob\"].unique().size"
   ]
  },
  {
   "cell_type": "code",
   "execution_count": 40,
   "metadata": {
    "ExecuteTime": {
     "end_time": "2021-07-08T15:05:16.303416Z",
     "start_time": "2021-07-08T15:05:16.288423Z"
    }
   },
   "outputs": [
    {
     "data": {
      "text/plain": [
       "5"
      ]
     },
     "execution_count": 40,
     "metadata": {},
     "output_type": "execute_result"
    }
   ],
   "source": [
    "df['Mjob'].value_counts().size"
   ]
  },
  {
   "cell_type": "code",
   "execution_count": 41,
   "metadata": {
    "ExecuteTime": {
     "end_time": "2021-07-08T15:05:16.398130Z",
     "start_time": "2021-07-08T15:05:16.305378Z"
    }
   },
   "outputs": [
    {
     "data": {
      "text/plain": [
       "5"
      ]
     },
     "execution_count": 41,
     "metadata": {},
     "output_type": "execute_result"
    }
   ],
   "source": [
    "df.describe(include='all')[\"Mjob\"][1]"
   ]
  },
  {
   "cell_type": "markdown",
   "metadata": {
    "id": "EoOPDDbto5kz"
   },
   "source": [
    "2) Find how many girls have good final grade (not less than 15) and have romantic relationship (number and percentage)"
   ]
  },
  {
   "cell_type": "code",
   "execution_count": 42,
   "metadata": {
    "ExecuteTime": {
     "end_time": "2021-07-08T15:05:16.413089Z",
     "start_time": "2021-07-08T15:05:16.400127Z"
    }
   },
   "outputs": [
    {
     "data": {
      "text/plain": [
       "9"
      ]
     },
     "execution_count": 42,
     "metadata": {},
     "output_type": "execute_result"
    }
   ],
   "source": [
    "# number\n",
    "df[(df[\"G3\"] >= 15) & (df[\"romantic\"] == \"yes\") & (df[\"sex\"] == \"F\")].shape[0]"
   ]
  },
  {
   "cell_type": "code",
   "execution_count": 43,
   "metadata": {
    "ExecuteTime": {
     "end_time": "2021-07-08T15:05:16.428273Z",
     "start_time": "2021-07-08T15:05:16.416081Z"
    }
   },
   "outputs": [
    {
     "data": {
      "text/plain": [
       "4.326923076923077"
      ]
     },
     "execution_count": 43,
     "metadata": {},
     "output_type": "execute_result"
    }
   ],
   "source": [
    "# percentage\n",
    "df[(df[\"G3\"] >= 15) & (df[\"romantic\"] == \"yes\") &  (df[\"sex\"] == \"F\")].shape[0] / df[df[\"sex\"] == \"F\"].shape[0] * 100"
   ]
  },
  {
   "cell_type": "markdown",
   "metadata": {
    "id": "_Rqqu7VBo5k0"
   },
   "source": [
    "3) Is it better for student's academic performance if his/her parents work at the same job ('other' should be excluded)?"
   ]
  },
  {
   "cell_type": "code",
   "execution_count": 44,
   "metadata": {
    "ExecuteTime": {
     "end_time": "2021-07-08T15:05:16.444034Z",
     "start_time": "2021-07-08T15:05:16.435031Z"
    }
   },
   "outputs": [
    {
     "data": {
      "text/plain": [
       "12.0"
      ]
     },
     "execution_count": 44,
     "metadata": {},
     "output_type": "execute_result"
    }
   ],
   "source": [
    "df[(df[\"Mjob\"] == df[\"Fjob\"]) & (df[\"Fjob\"] != \"other\")][\"G3\"].median()"
   ]
  },
  {
   "cell_type": "code",
   "execution_count": 45,
   "metadata": {
    "ExecuteTime": {
     "end_time": "2021-07-08T15:05:16.459963Z",
     "start_time": "2021-07-08T15:05:16.446998Z"
    }
   },
   "outputs": [
    {
     "data": {
      "text/plain": [
       "10.5"
      ]
     },
     "execution_count": 45,
     "metadata": {},
     "output_type": "execute_result"
    }
   ],
   "source": [
    "df[(df[\"Mjob\"] != df[\"Fjob\"]) & (df[\"Fjob\"] != \"other\")][\"G3\"].median()"
   ]
  },
  {
   "cell_type": "markdown",
   "metadata": {},
   "source": [
    "`As we did not clear poor data, it is better to use median metrix instread of mean metrix as it resistants to outliers. `\n",
    "\n",
    "`Yes, it is better for student's academic performance if his/her parents work at the same job.` "
   ]
  },
  {
   "cell_type": "markdown",
   "metadata": {
    "id": "YcEofEd9o5k0"
   },
   "source": [
    "4) Who is more healthy: students with final grade not less than 15 or not?"
   ]
  },
  {
   "cell_type": "code",
   "execution_count": 46,
   "metadata": {
    "ExecuteTime": {
     "end_time": "2021-07-08T15:05:16.475921Z",
     "start_time": "2021-07-08T15:05:16.463955Z"
    }
   },
   "outputs": [
    {
     "data": {
      "text/plain": [
       "array([5, 1, 3, 4, 2], dtype=int64)"
      ]
     },
     "execution_count": 46,
     "metadata": {},
     "output_type": "execute_result"
    }
   ],
   "source": [
    "df[df[\"G3\"] >= 15][\"health\"].unique() # just to confirm that data doesnt have outliers."
   ]
  },
  {
   "cell_type": "code",
   "execution_count": 47,
   "metadata": {
    "ExecuteTime": {
     "end_time": "2021-07-08T15:05:16.491917Z",
     "start_time": "2021-07-08T15:05:16.476922Z"
    }
   },
   "outputs": [
    {
     "data": {
      "text/plain": [
       "3.3972602739726026"
      ]
     },
     "execution_count": 47,
     "metadata": {},
     "output_type": "execute_result"
    }
   ],
   "source": [
    "df[df[\"G3\"] >= 15][\"health\"].mean()"
   ]
  },
  {
   "cell_type": "code",
   "execution_count": 48,
   "metadata": {
    "ExecuteTime": {
     "end_time": "2021-07-08T15:05:16.507836Z",
     "start_time": "2021-07-08T15:05:16.492876Z"
    }
   },
   "outputs": [
    {
     "data": {
      "text/plain": [
       "3.590062111801242"
      ]
     },
     "execution_count": 48,
     "metadata": {},
     "output_type": "execute_result"
    }
   ],
   "source": [
    "df[df[\"G3\"] < 15][\"health\"].mean()"
   ]
  },
  {
   "cell_type": "markdown",
   "metadata": {},
   "source": [
    "`We can see that students with higher graduates have more problems with health than others.`"
   ]
  },
  {
   "cell_type": "markdown",
   "metadata": {
    "id": "LqFt8mUvo5k1"
   },
   "source": [
    "5) Is there a direct link between going out with friends and final grade?"
   ]
  },
  {
   "cell_type": "code",
   "execution_count": 49,
   "metadata": {
    "ExecuteTime": {
     "end_time": "2021-07-08T15:05:16.523818Z",
     "start_time": "2021-07-08T15:05:16.510828Z"
    }
   },
   "outputs": [
    {
     "data": {
      "text/html": [
       "<div>\n",
       "<style scoped>\n",
       "    .dataframe tbody tr th:only-of-type {\n",
       "        vertical-align: middle;\n",
       "    }\n",
       "\n",
       "    .dataframe tbody tr th {\n",
       "        vertical-align: top;\n",
       "    }\n",
       "\n",
       "    .dataframe thead th {\n",
       "        text-align: right;\n",
       "    }\n",
       "</style>\n",
       "<table border=\"1\" class=\"dataframe\">\n",
       "  <thead>\n",
       "    <tr style=\"text-align: right;\">\n",
       "      <th></th>\n",
       "      <th>G3</th>\n",
       "    </tr>\n",
       "    <tr>\n",
       "      <th>goout</th>\n",
       "      <th></th>\n",
       "    </tr>\n",
       "  </thead>\n",
       "  <tbody>\n",
       "    <tr>\n",
       "      <th>1</th>\n",
       "      <td>9.869565</td>\n",
       "    </tr>\n",
       "    <tr>\n",
       "      <th>2</th>\n",
       "      <td>11.194175</td>\n",
       "    </tr>\n",
       "    <tr>\n",
       "      <th>3</th>\n",
       "      <td>10.961538</td>\n",
       "    </tr>\n",
       "    <tr>\n",
       "      <th>4</th>\n",
       "      <td>9.651163</td>\n",
       "    </tr>\n",
       "    <tr>\n",
       "      <th>5</th>\n",
       "      <td>9.037736</td>\n",
       "    </tr>\n",
       "  </tbody>\n",
       "</table>\n",
       "</div>"
      ],
      "text/plain": [
       "              G3\n",
       "goout           \n",
       "1       9.869565\n",
       "2      11.194175\n",
       "3      10.961538\n",
       "4       9.651163\n",
       "5       9.037736"
      ]
     },
     "execution_count": 49,
     "metadata": {},
     "output_type": "execute_result"
    }
   ],
   "source": [
    "df.groupby(by=['goout']).agg({'G3': lambda x: x.mean()})"
   ]
  },
  {
   "cell_type": "markdown",
   "metadata": {},
   "source": [
    "`Definitely infrequent walks with friends have a positive effect on the final grade of the student`"
   ]
  },
  {
   "cell_type": "markdown",
   "metadata": {
    "id": "DWf38gK9o5k1"
   },
   "source": [
    "6) Is the a connection between Mother's education and desire to take higher education?"
   ]
  },
  {
   "cell_type": "code",
   "execution_count": 50,
   "metadata": {
    "ExecuteTime": {
     "end_time": "2021-07-08T15:05:16.538780Z",
     "start_time": "2021-07-08T15:05:16.524791Z"
    }
   },
   "outputs": [
    {
     "data": {
      "text/plain": [
       "Medu  higher\n",
       "0     no          1\n",
       "      yes         2\n",
       "1     no          6\n",
       "      yes        53\n",
       "2     no          7\n",
       "      yes        96\n",
       "3     no          5\n",
       "      yes        94\n",
       "4     no          1\n",
       "      yes       130\n",
       "Name: higher, dtype: int64"
      ]
     },
     "execution_count": 50,
     "metadata": {},
     "output_type": "execute_result"
    }
   ],
   "source": [
    "df.groupby(by=[\"Medu\", \"higher\"])['higher'].count()"
   ]
  },
  {
   "cell_type": "markdown",
   "metadata": {},
   "source": [
    "`We should make our conclusions on these students, who don't want to get higher education. As we can see, there is not a strong correlation between a mother's education and desire to take higher education. Lets prove it with .corr `"
   ]
  },
  {
   "cell_type": "code",
   "execution_count": 51,
   "metadata": {
    "ExecuteTime": {
     "end_time": "2021-07-08T15:05:16.569112Z",
     "start_time": "2021-07-08T15:05:16.540780Z"
    }
   },
   "outputs": [
    {
     "data": {
      "text/plain": [
       "0.16884453374475855"
      ]
     },
     "execution_count": 51,
     "metadata": {},
     "output_type": "execute_result"
    }
   ],
   "source": [
    "import warnings\n",
    "warnings.filterwarnings('ignore')\n",
    "\n",
    "df_temp = df[[\"Medu\", \"higher\"]]\n",
    "df_temp['higher'] = df_temp['higher'].astype('category')\n",
    "df_temp[\"bool_higher\"] = df_temp[\"higher\"].cat.codes\n",
    "df_temp[\"Medu\"].corr(df_temp['bool_higher']) # returnе correlation between 2 values"
   ]
  },
  {
   "cell_type": "markdown",
   "metadata": {},
   "source": [
    "`As stated above, the correlation is not really strong`"
   ]
  },
  {
   "cell_type": "markdown",
   "metadata": {
    "id": "IDD9AtQzo5k2"
   },
   "source": [
    "7) Could we say that girls have more failures when they have romantic relationship than boys?"
   ]
  },
  {
   "cell_type": "code",
   "execution_count": 52,
   "metadata": {
    "ExecuteTime": {
     "end_time": "2021-07-08T15:05:16.632964Z",
     "start_time": "2021-07-08T15:05:16.571072Z"
    }
   },
   "outputs": [
    {
     "data": {
      "text/html": [
       "<div>\n",
       "<style scoped>\n",
       "    .dataframe tbody tr th:only-of-type {\n",
       "        vertical-align: middle;\n",
       "    }\n",
       "\n",
       "    .dataframe tbody tr th {\n",
       "        vertical-align: top;\n",
       "    }\n",
       "\n",
       "    .dataframe thead tr th {\n",
       "        text-align: left;\n",
       "    }\n",
       "\n",
       "    .dataframe thead tr:last-of-type th {\n",
       "        text-align: right;\n",
       "    }\n",
       "</style>\n",
       "<table border=\"1\" class=\"dataframe\">\n",
       "  <thead>\n",
       "    <tr>\n",
       "      <th></th>\n",
       "      <th colspan=\"4\" halign=\"left\">romantic</th>\n",
       "    </tr>\n",
       "    <tr>\n",
       "      <th>failures</th>\n",
       "      <th>0</th>\n",
       "      <th>1</th>\n",
       "      <th>2</th>\n",
       "      <th>3</th>\n",
       "    </tr>\n",
       "    <tr>\n",
       "      <th>sex</th>\n",
       "      <th></th>\n",
       "      <th></th>\n",
       "      <th></th>\n",
       "      <th></th>\n",
       "    </tr>\n",
       "  </thead>\n",
       "  <tbody>\n",
       "    <tr>\n",
       "      <th>F</th>\n",
       "      <td>0.339286</td>\n",
       "      <td>0.521739</td>\n",
       "      <td>0.818182</td>\n",
       "      <td>0.166667</td>\n",
       "    </tr>\n",
       "    <tr>\n",
       "      <th>M</th>\n",
       "      <td>0.270833</td>\n",
       "      <td>0.296296</td>\n",
       "      <td>0.333333</td>\n",
       "      <td>0.400000</td>\n",
       "    </tr>\n",
       "  </tbody>\n",
       "</table>\n",
       "</div>"
      ],
      "text/plain": [
       "          romantic                              \n",
       "failures         0         1         2         3\n",
       "sex                                             \n",
       "F         0.339286  0.521739  0.818182  0.166667\n",
       "M         0.270833  0.296296  0.333333  0.400000"
      ]
     },
     "execution_count": 52,
     "metadata": {},
     "output_type": "execute_result"
    }
   ],
   "source": [
    "df.groupby(by=[\"sex\", \"failures\"]).agg({'romantic': lambda x: x.value_counts(normalize=True)[\"yes\"]}).unstack()\n",
    "# df.groupby(by=[\"sex\", \"failures\"]).agg({'romantic': lambda x: x.value_counts(normalize=True)[\"no\"]})"
   ]
  },
  {
   "cell_type": "markdown",
   "metadata": {
    "ExecuteTime": {
     "end_time": "2021-07-07T05:37:54.870780Z",
     "start_time": "2021-07-07T05:37:54.835906Z"
    }
   },
   "source": [
    "`It is better to use .unstack() so data looks more understandable.`\n",
    "\n",
    "`So, as we can see, girls have more failures (1,2) than boys if they have romantic. However, there are some not quite clear moments with boys who fell in love. `"
   ]
  },
  {
   "cell_type": "markdown",
   "metadata": {
    "id": "S9RcU8PCo5k3"
   },
   "source": [
    "8) Find pairs of jobs with the most and the least average of absences."
   ]
  },
  {
   "cell_type": "code",
   "execution_count": 53,
   "metadata": {
    "ExecuteTime": {
     "end_time": "2021-07-08T15:05:16.805908Z",
     "start_time": "2021-07-08T15:05:16.634930Z"
    }
   },
   "outputs": [
    {
     "data": {
      "text/plain": [
       "max    (other, services)\n",
       "min    (health, teacher)\n",
       "dtype: object"
      ]
     },
     "execution_count": 53,
     "metadata": {},
     "output_type": "execute_result"
    }
   ],
   "source": [
    "df.groupby([\"Mjob\", \"Fjob\"]).agg([\"max\", \"min\"])[\"absences\"].idxmax()"
   ]
  },
  {
   "cell_type": "markdown",
   "metadata": {},
   "source": [
    "`As we can see, these sort of job (other, services) has max value in absences, while (health, teacher) has min value. However it is not clear to understand others professions, so lest remove it and check what we will get`"
   ]
  },
  {
   "cell_type": "code",
   "execution_count": 54,
   "metadata": {
    "ExecuteTime": {
     "end_time": "2021-07-08T15:05:16.949341Z",
     "start_time": "2021-07-08T15:05:16.807932Z"
    }
   },
   "outputs": [
    {
     "data": {
      "text/plain": [
       "max    (teacher, services)\n",
       "min      (health, teacher)\n",
       "dtype: object"
      ]
     },
     "execution_count": 54,
     "metadata": {},
     "output_type": "execute_result"
    }
   ],
   "source": [
    "df[(df[\"Mjob\"] != \"other\") & (df[\"Fjob\"] != \"other\")].groupby([\"Mjob\", \"Fjob\"]).agg([\"max\", \"min\"])[\"absences\"].idxmax()"
   ]
  },
  {
   "cell_type": "markdown",
   "metadata": {},
   "source": [
    "`So now it is a little  bit clear`"
   ]
  },
  {
   "cell_type": "markdown",
   "metadata": {},
   "source": [
    "**!!!OOPPSSS!!!**\n",
    "\n",
    "\n",
    "`Hah, it is a mistace! I have found just max and min absences, but we need most and the least average of absences so...`"
   ]
  },
  {
   "cell_type": "code",
   "execution_count": 55,
   "metadata": {
    "ExecuteTime": {
     "end_time": "2021-07-08T15:05:16.964995Z",
     "start_time": "2021-07-08T15:05:16.950339Z"
    }
   },
   "outputs": [
    {
     "data": {
      "text/plain": [
       "('other', 'services')"
      ]
     },
     "execution_count": 55,
     "metadata": {},
     "output_type": "execute_result"
    }
   ],
   "source": [
    "df.groupby([\"Mjob\", \"Fjob\"]).agg(\"mean\")[\"absences\"].idxmax()"
   ]
  },
  {
   "cell_type": "code",
   "execution_count": 56,
   "metadata": {
    "ExecuteTime": {
     "end_time": "2021-07-08T15:05:16.980962Z",
     "start_time": "2021-07-08T15:05:16.966001Z"
    }
   },
   "outputs": [
    {
     "data": {
      "text/plain": [
       "('at_home', 'at_home')"
      ]
     },
     "execution_count": 56,
     "metadata": {},
     "output_type": "execute_result"
    }
   ],
   "source": [
    "df.groupby([\"Mjob\", \"Fjob\"]).agg(\"mean\")[\"absences\"].idxmin()"
   ]
  },
  {
   "cell_type": "markdown",
   "metadata": {},
   "source": [
    "`As we can see, these sort of job ('other', 'services') has max value in absences, while ('at_home', 'at_home') has min value.`"
   ]
  },
  {
   "cell_type": "markdown",
   "metadata": {
    "id": "O9Dtjm0fo5k6"
   },
   "source": [
    "9) Calulate the average final grade by romantic relationship and availability of Internet access for boys and girls. Who has the biggest rate?"
   ]
  },
  {
   "cell_type": "code",
   "execution_count": 57,
   "metadata": {
    "ExecuteTime": {
     "end_time": "2021-07-08T15:05:16.996989Z",
     "start_time": "2021-07-08T15:05:16.982957Z"
    }
   },
   "outputs": [
    {
     "data": {
      "text/plain": [
       "('M', 'no', 'yes')"
      ]
     },
     "execution_count": 57,
     "metadata": {},
     "output_type": "execute_result"
    }
   ],
   "source": [
    "df.groupby([\"sex\", \"romantic\", \"internet\"]).agg('mean')[\"G3\"].idxmax()"
   ]
  },
  {
   "cell_type": "markdown",
   "metadata": {},
   "source": [
    "`So, we can make a conclusion that boys without romantic and with internet access have the forest graduation rate`"
   ]
  },
  {
   "cell_type": "code",
   "execution_count": 58,
   "metadata": {
    "ExecuteTime": {
     "end_time": "2021-07-08T15:05:17.012880Z",
     "start_time": "2021-07-08T15:05:16.998917Z"
    }
   },
   "outputs": [
    {
     "data": {
      "text/plain": [
       "sex  romantic  internet\n",
       "F    no        no           9.464286\n",
       "               yes         10.851485\n",
       "     yes       no           8.400000\n",
       "               yes          9.101449\n",
       "M    no        no           9.681818\n",
       "               yes         11.392857\n",
       "     yes       no           9.833333\n",
       "               yes         10.489362\n",
       "Name: G3, dtype: float64"
      ]
     },
     "execution_count": 58,
     "metadata": {},
     "output_type": "execute_result"
    }
   ],
   "source": [
    "df.groupby([\"sex\", \"romantic\", \"internet\"]).agg('mean')[\"G3\"]"
   ]
  },
  {
   "cell_type": "markdown",
   "metadata": {},
   "source": [
    "`We can see that a big difference between classes, that is why this kind of group (boys without romantic and with internet access) has better graduation rating`"
   ]
  },
  {
   "cell_type": "markdown",
   "metadata": {
    "id": "nTGcN7mro5k6"
   },
   "source": [
    "10) Print statistics for free time after school by Mother's and Father's job . Find combination with the biggest average rate. (one of the variants that I would like to see - using describe())"
   ]
  },
  {
   "cell_type": "code",
   "execution_count": 59,
   "metadata": {
    "ExecuteTime": {
     "end_time": "2021-07-08T15:05:17.059838Z",
     "start_time": "2021-07-08T15:05:17.015019Z"
    }
   },
   "outputs": [
    {
     "data": {
      "text/plain": [
       "mean    (teacher, at_home)\n",
       "dtype: object"
      ]
     },
     "execution_count": 59,
     "metadata": {},
     "output_type": "execute_result"
    }
   ],
   "source": [
    "df.groupby([\"Mjob\", \"Fjob\"]).agg([\"mean\"])[\"freetime\"].idxmax()"
   ]
  },
  {
   "cell_type": "code",
   "execution_count": 60,
   "metadata": {
    "ExecuteTime": {
     "end_time": "2021-07-08T15:05:17.707352Z",
     "start_time": "2021-07-08T15:05:17.061750Z"
    }
   },
   "outputs": [
    {
     "data": {
      "text/plain": [
       "('teacher', 'at_home')"
      ]
     },
     "execution_count": 60,
     "metadata": {},
     "output_type": "execute_result"
    }
   ],
   "source": [
    "df.groupby([\"Mjob\", \"Fjob\"]).describe()[\"freetime\"][\"mean\"].idxmax()\n",
    "\n",
    "# You will get describe if you want it -_-"
   ]
  },
  {
   "cell_type": "markdown",
   "metadata": {},
   "source": [
    "`So, the biggest average rate can be obtained by these conbination: ('teacher', 'at_home')`"
   ]
  },
  {
   "cell_type": "markdown",
   "metadata": {
    "id": "eQ3qyxOAo5k7"
   },
   "source": [
    "11) Calculate average rate of educatuin for each job for Father for different family sizes."
   ]
  },
  {
   "cell_type": "code",
   "execution_count": 61,
   "metadata": {
    "ExecuteTime": {
     "end_time": "2021-07-08T15:05:17.723382Z",
     "start_time": "2021-07-08T15:05:17.709272Z"
    }
   },
   "outputs": [
    {
     "data": {
      "text/plain": [
       "Fjob      famsize\n",
       "at_home   GT3         9.083333\n",
       "          LE3        11.750000\n",
       "health    GT3        11.750000\n",
       "          LE3        11.333333\n",
       "other     GT3         9.954248\n",
       "          LE3        10.765625\n",
       "services  GT3        10.125000\n",
       "          LE3        10.741935\n",
       "teacher   GT3        11.541667\n",
       "          LE3        14.000000\n",
       "Name: G3, dtype: float64"
      ]
     },
     "execution_count": 61,
     "metadata": {},
     "output_type": "execute_result"
    }
   ],
   "source": [
    "df.groupby([\"Fjob\", \"famsize\"]).agg(\"mean\")[\"G3\"]"
   ]
  },
  {
   "cell_type": "markdown",
   "metadata": {
    "id": "Nbkli9eqo5k7"
   },
   "source": [
    "12) Calculate average final grade by quality of family relationship and parent's cohabitation status. Which case has the biggest average grade?"
   ]
  },
  {
   "cell_type": "code",
   "execution_count": 62,
   "metadata": {
    "ExecuteTime": {
     "end_time": "2021-07-08T15:05:17.739292Z",
     "start_time": "2021-07-08T15:05:17.726325Z"
    }
   },
   "outputs": [
    {
     "data": {
      "text/plain": [
       "Pstatus  famrel\n",
       "A        1         11.500000\n",
       "         2         11.000000\n",
       "         3          9.666667\n",
       "         4         10.529412\n",
       "         5         12.769231\n",
       "T        1         10.333333\n",
       "         2          9.666667\n",
       "         3         10.080645\n",
       "         4         10.342697\n",
       "         5         10.559140\n",
       "Name: G3, dtype: float64"
      ]
     },
     "execution_count": 62,
     "metadata": {},
     "output_type": "execute_result"
    }
   ],
   "source": [
    "df.groupby([\"Pstatus\", \"famrel\"]).agg(\"mean\")[\"G3\"]"
   ]
  },
  {
   "cell_type": "code",
   "execution_count": 63,
   "metadata": {
    "ExecuteTime": {
     "end_time": "2021-07-08T15:05:17.754607Z",
     "start_time": "2021-07-08T15:05:17.740289Z"
    }
   },
   "outputs": [
    {
     "data": {
      "text/plain": [
       "('A', 5)"
      ]
     },
     "execution_count": 63,
     "metadata": {},
     "output_type": "execute_result"
    }
   ],
   "source": [
    "df.groupby([\"Pstatus\", \"famrel\"]).agg(\"mean\")[\"G3\"].idxmax()"
   ]
  },
  {
   "cell_type": "markdown",
   "metadata": {},
   "source": [
    "`As it should be supposed, families with excellent relationship (5) have higher G3 value.`"
   ]
  },
  {
   "cell_type": "markdown",
   "metadata": {
    "id": "veKdB0K0o5k8"
   },
   "source": [
    "13) What is the smallest age in a dataset? How many students of this age? What is the percentage of students with final grade not less than 15? What is the percentage of boys and girls from this slice?"
   ]
  },
  {
   "cell_type": "code",
   "execution_count": 64,
   "metadata": {
    "ExecuteTime": {
     "end_time": "2021-07-08T15:05:17.770251Z",
     "start_time": "2021-07-08T15:05:17.756123Z"
    }
   },
   "outputs": [
    {
     "data": {
      "text/plain": [
       "15"
      ]
     },
     "execution_count": 64,
     "metadata": {},
     "output_type": "execute_result"
    }
   ],
   "source": [
    "# What is the smallest age in a dataset?\n",
    "df[\"age\"].min()"
   ]
  },
  {
   "cell_type": "code",
   "execution_count": 65,
   "metadata": {
    "ExecuteTime": {
     "end_time": "2021-07-08T15:05:17.786149Z",
     "start_time": "2021-07-08T15:05:17.772066Z"
    }
   },
   "outputs": [
    {
     "data": {
      "text/plain": [
       "82"
      ]
     },
     "execution_count": 65,
     "metadata": {},
     "output_type": "execute_result"
    }
   ],
   "source": [
    "# How many students of this age\n",
    "df[df[\"age\"] == df[\"age\"].min()].shape[0]"
   ]
  },
  {
   "cell_type": "code",
   "execution_count": 66,
   "metadata": {
    "ExecuteTime": {
     "end_time": "2021-07-08T15:05:17.801744Z",
     "start_time": "2021-07-08T15:05:17.788722Z"
    }
   },
   "outputs": [
    {
     "data": {
      "text/plain": [
       "18.48101265822785"
      ]
     },
     "execution_count": 66,
     "metadata": {},
     "output_type": "execute_result"
    }
   ],
   "source": [
    "# What is the percentage of students with final grade not less than 15?\n",
    "df[df[\"G3\"] >= 15].shape[0] / df.shape[0] * 100"
   ]
  },
  {
   "cell_type": "code",
   "execution_count": 67,
   "metadata": {
    "ExecuteTime": {
     "end_time": "2021-07-08T15:05:17.817645Z",
     "start_time": "2021-07-08T15:05:17.802685Z"
    }
   },
   "outputs": [
    {
     "data": {
      "text/plain": [
       "M    0.561644\n",
       "F    0.438356\n",
       "Name: sex, dtype: float64"
      ]
     },
     "execution_count": 67,
     "metadata": {},
     "output_type": "execute_result"
    }
   ],
   "source": [
    "# What is the percentage of boys and girls from this slice?\n",
    "df[df[\"G3\"] >= 15][\"sex\"].value_counts(normalize=True)"
   ]
  },
  {
   "cell_type": "markdown",
   "metadata": {
    "id": "arbCBnvBo5k8"
   },
   "source": [
    "#### Please, write not only numbers but answers also if it's needed :)"
   ]
  }
 ],
 "metadata": {
  "colab": {
   "name": "homework_04.ipynb",
   "provenance": []
  },
  "kernelspec": {
   "display_name": "Python 3",
   "language": "python",
   "name": "python3"
  },
  "language_info": {
   "codemirror_mode": {
    "name": "ipython",
    "version": 3
   },
   "file_extension": ".py",
   "mimetype": "text/x-python",
   "name": "python",
   "nbconvert_exporter": "python",
   "pygments_lexer": "ipython3",
   "version": "3.8.5"
  },
  "toc": {
   "base_numbering": 1,
   "nav_menu": {},
   "number_sections": true,
   "sideBar": true,
   "skip_h1_title": false,
   "title_cell": "Table of Contents",
   "title_sidebar": "Contents",
   "toc_cell": false,
   "toc_position": {},
   "toc_section_display": true,
   "toc_window_display": false
  }
 },
 "nbformat": 4,
 "nbformat_minor": 1
}
