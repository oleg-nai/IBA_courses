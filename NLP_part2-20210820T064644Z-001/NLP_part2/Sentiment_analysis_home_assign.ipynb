{
 "cells": [
  {
   "cell_type": "markdown",
   "metadata": {},
   "source": [
    "# Home Work: Sentiment analysis"
   ]
  },
  {
   "cell_type": "markdown",
   "metadata": {},
   "source": [
    "You will deal with the movies reviews. 12500 rows sample for training; 0 - negative sentiment, 1 - positive. \n",
    "\n",
    "__Task: predict movie review sentiment__"
   ]
  },
  {
   "cell_type": "code",
   "execution_count": 1,
   "metadata": {},
   "outputs": [],
   "source": [
    "import pandas as pd\n",
    "pd.set_option('display.max_colwidth', -1)"
   ]
  },
  {
   "cell_type": "markdown",
   "metadata": {},
   "source": [
    "__data__ - for training & testing, __data_validation__ - to be filled in with your best classifier's  predictions and send for evaluation along with the notebook."
   ]
  },
  {
   "cell_type": "code",
   "execution_count": 2,
   "metadata": {},
   "outputs": [],
   "source": [
    "data = pd.read_csv(\"data/reviews.csv\")\n",
    "data_validation = pd.read_csv(\"data/validation_preds.csv\")"
   ]
  },
  {
   "cell_type": "code",
   "execution_count": 3,
   "metadata": {},
   "outputs": [
    {
     "data": {
      "text/plain": [
       "Sentiment\n",
       "0    5058\n",
       "1    4942\n",
       "dtype: int64"
      ]
     },
     "execution_count": 3,
     "metadata": {},
     "output_type": "execute_result"
    }
   ],
   "source": [
    "data.groupby([\"Sentiment\"]).size()"
   ]
  },
  {
   "cell_type": "code",
   "execution_count": 4,
   "metadata": {},
   "outputs": [
    {
     "data": {
      "text/html": [
       "<div>\n",
       "<style scoped>\n",
       "    .dataframe tbody tr th:only-of-type {\n",
       "        vertical-align: middle;\n",
       "    }\n",
       "\n",
       "    .dataframe tbody tr th {\n",
       "        vertical-align: top;\n",
       "    }\n",
       "\n",
       "    .dataframe thead th {\n",
       "        text-align: right;\n",
       "    }\n",
       "</style>\n",
       "<table border=\"1\" class=\"dataframe\">\n",
       "  <thead>\n",
       "    <tr style=\"text-align: right;\">\n",
       "      <th></th>\n",
       "      <th>SentimentText</th>\n",
       "      <th>Sentiment</th>\n",
       "    </tr>\n",
       "  </thead>\n",
       "  <tbody>\n",
       "    <tr>\n",
       "      <th>0</th>\n",
       "      <td>Actually I'm surprised many comments movie. saw part Slavic film festival major American University. nobody USA heard it, real shame! dynamics people makes funny sad. stuck together long bus trip--someplace us been!! never one like this!! &lt;br /&gt;&lt;br /&gt;My favorite scene one stop funeral. man &amp; woman sneak Lovemaking forest everybody follows watch without knowing! raises skirt enters way--the consumptive starts hacking &amp; realize everybody watching!! Talk surprised! But...you really feel even hilariously funny! see ending sort ironic enjoyed did! Serb humor it's best!</td>\n",
       "      <td>1</td>\n",
       "    </tr>\n",
       "    <tr>\n",
       "      <th>1</th>\n",
       "      <td>someone lives near Buffalo, New York, movie scored points even saw it, since story based here. even bit parts real-life news-TV anchor people Buffalo..and, once, doesn't knock area. Hallelujah!&lt;br /&gt;&lt;br /&gt;Theology-wise, puh-leeze!!! God still made look think like humans...and, course, bit liberal side. lightweight comedy is, it's nothing win awards still entertaining pleasant way kill 102 minutes. &lt;br /&gt;&lt;br /&gt;There laugh-out-loud slapstick comedy scenes and, hopefully, audiences - Christians atheists.- got something besides laughs, prayer really about. Kudos writers least getting theology correct giving good message.&lt;br /&gt;&lt;br /&gt;Overall, it's good-hearted film offend few.</td>\n",
       "      <td>1</td>\n",
       "    </tr>\n",
       "    <tr>\n",
       "      <th>2</th>\n",
       "      <td>first half hour movie liked. obvious budding romance Ingrid Bergman Mel Ferrer cute watch wanted see inevitable happen them. However, action switched home Ingrid's fiancГ©, completely fell apart. Instead romance charm, see excruciatingly dopey parallel characters emerge ruin film. fiancГ©'s boorish son military attachГ©'s vying maid's attention looked stupid--sort like subplot old Love Boat episode. charm elegance first portion film give way dopiness beyond me. film obvious attempt Renoir recapture success RULES GAME, movie similar action switches country estate (just film). huge fan RULES GAME, ELENA MEN appreciating artistry nuances original film.</td>\n",
       "      <td>0</td>\n",
       "    </tr>\n",
       "  </tbody>\n",
       "</table>\n",
       "</div>"
      ],
      "text/plain": [
       "                                                                                                                                                                                                                                                                                                                                                                                                                                                                                                                                                                                                                                                                                             SentimentText  \\\n",
       "0  Actually I'm surprised many comments movie. saw part Slavic film festival major American University. nobody USA heard it, real shame! dynamics people makes funny sad. stuck together long bus trip--someplace us been!! never one like this!! <br /><br />My favorite scene one stop funeral. man & woman sneak Lovemaking forest everybody follows watch without knowing! raises skirt enters way--the consumptive starts hacking & realize everybody watching!! Talk surprised! But...you really feel even hilariously funny! see ending sort ironic enjoyed did! Serb humor it's best!                                                                                                                \n",
       "1  someone lives near Buffalo, New York, movie scored points even saw it, since story based here. even bit parts real-life news-TV anchor people Buffalo..and, once, doesn't knock area. Hallelujah!<br /><br />Theology-wise, puh-leeze!!! God still made look think like humans...and, course, bit liberal side. lightweight comedy is, it's nothing win awards still entertaining pleasant way kill 102 minutes. <br /><br />There laugh-out-loud slapstick comedy scenes and, hopefully, audiences - Christians atheists.- got something besides laughs, prayer really about. Kudos writers least getting theology correct giving good message.<br /><br />Overall, it's good-hearted film offend few.   \n",
       "2  first half hour movie liked. obvious budding romance Ingrid Bergman Mel Ferrer cute watch wanted see inevitable happen them. However, action switched home Ingrid's fiancГ©, completely fell apart. Instead romance charm, see excruciatingly dopey parallel characters emerge ruin film. fiancГ©'s boorish son military attachГ©'s vying maid's attention looked stupid--sort like subplot old Love Boat episode. charm elegance first portion film give way dopiness beyond me. film obvious attempt Renoir recapture success RULES GAME, movie similar action switches country estate (just film). huge fan RULES GAME, ELENA MEN appreciating artistry nuances original film.                         \n",
       "\n",
       "   Sentiment  \n",
       "0  1          \n",
       "1  1          \n",
       "2  0          "
      ]
     },
     "execution_count": 4,
     "metadata": {},
     "output_type": "execute_result"
    }
   ],
   "source": [
    "data.head(3) "
   ]
  },
  {
   "cell_type": "code",
   "execution_count": 5,
   "metadata": {},
   "outputs": [
    {
     "data": {
      "text/html": [
       "<div>\n",
       "<style scoped>\n",
       "    .dataframe tbody tr th:only-of-type {\n",
       "        vertical-align: middle;\n",
       "    }\n",
       "\n",
       "    .dataframe tbody tr th {\n",
       "        vertical-align: top;\n",
       "    }\n",
       "\n",
       "    .dataframe thead th {\n",
       "        text-align: right;\n",
       "    }\n",
       "</style>\n",
       "<table border=\"1\" class=\"dataframe\">\n",
       "  <thead>\n",
       "    <tr style=\"text-align: right;\">\n",
       "      <th></th>\n",
       "      <th>SentimentText</th>\n",
       "      <th>Sentiment</th>\n",
       "    </tr>\n",
       "  </thead>\n",
       "  <tbody>\n",
       "    <tr>\n",
       "      <th>0</th>\n",
       "      <td>one best films seen years! Gwyneth Paltrow fan, excellent Emma Woodhouse. Alan Cumming superb Reverand Elton, Emma Thompson's sister, Sophie, hysterical Miss Bates. check gorgeous Jeremy Northam Mr. Knightley; gentleman! Whoever said need sex violence movie make good never seen Emma. think separates many others--it's classy.&lt;br /&gt;&lt;br /&gt;If you're looking film watch whole family, looking romance yourself, look further. Emma movie. beautiful setting, wonderful costumes, outstanding cast (have mentioned gorgeous Jeremy Northam?), Emma perfect ten!</td>\n",
       "      <td>NaN</td>\n",
       "    </tr>\n",
       "    <tr>\n",
       "      <th>1</th>\n",
       "      <td>excellent, fast paced thriller Wes Craven (Nightmare Elm Street), 85 minutes leaves aside supernatural presents us something even terrifying - evil human beings. far likely encounter benign evil Jackson Rippner Freddy Kruger, Cillian Murphy (Batman Begins) excellent job presenting sociable, friendly, even charismatic killer. performances Murphy Rachel McAdams (Claire, Wedding Crashers)are brilliant. film takes place intimate level, two people, eyes, faces. action small scale, broad sweep canvas, less compelling limitations. cinematography nothing special, though course one much camera confines passenger jet, dialog excellent, story taut. distractions, subplots confuse issue heart battle main characters. keeping focus avoiding distractions, Wes Craven able take minimal plot turning exciting, fast-paced action thriller.</td>\n",
       "      <td>NaN</td>\n",
       "    </tr>\n",
       "    <tr>\n",
       "      <th>2</th>\n",
       "      <td>don't ruin you, I'll brief. There's great acting funny lines attractive cast. young graduate Harvard Med School (Brian White) finds doesn't know much thinks people. goes small hospital Florida internship girlfriend (Mya) left job TV Producer. Senior Resident (Wood Harris), helped marvelously 'creative collaborator'(Zoe Saldana) bring speed. help protect career show wider possibilities come compassionate doctor instead player wants make money (as seems true many pre-med friends).</td>\n",
       "      <td>NaN</td>\n",
       "    </tr>\n",
       "  </tbody>\n",
       "</table>\n",
       "</div>"
      ],
      "text/plain": [
       "                                                                                                                                                                                                                                                                                                                                                                                                                                                                                                                                                                                                                                                                                                                                                                                                                                                   SentimentText  \\\n",
       "0  one best films seen years! Gwyneth Paltrow fan, excellent Emma Woodhouse. Alan Cumming superb Reverand Elton, Emma Thompson's sister, Sophie, hysterical Miss Bates. check gorgeous Jeremy Northam Mr. Knightley; gentleman! Whoever said need sex violence movie make good never seen Emma. think separates many others--it's classy.<br /><br />If you're looking film watch whole family, looking romance yourself, look further. Emma movie. beautiful setting, wonderful costumes, outstanding cast (have mentioned gorgeous Jeremy Northam?), Emma perfect ten!                                                                                                                                                                                                                                                                                           \n",
       "1  excellent, fast paced thriller Wes Craven (Nightmare Elm Street), 85 minutes leaves aside supernatural presents us something even terrifying - evil human beings. far likely encounter benign evil Jackson Rippner Freddy Kruger, Cillian Murphy (Batman Begins) excellent job presenting sociable, friendly, even charismatic killer. performances Murphy Rachel McAdams (Claire, Wedding Crashers)are brilliant. film takes place intimate level, two people, eyes, faces. action small scale, broad sweep canvas, less compelling limitations. cinematography nothing special, though course one much camera confines passenger jet, dialog excellent, story taut. distractions, subplots confuse issue heart battle main characters. keeping focus avoiding distractions, Wes Craven able take minimal plot turning exciting, fast-paced action thriller.   \n",
       "2  don't ruin you, I'll brief. There's great acting funny lines attractive cast. young graduate Harvard Med School (Brian White) finds doesn't know much thinks people. goes small hospital Florida internship girlfriend (Mya) left job TV Producer. Senior Resident (Wood Harris), helped marvelously 'creative collaborator'(Zoe Saldana) bring speed. help protect career show wider possibilities come compassionate doctor instead player wants make money (as seems true many pre-med friends).                                                                                                                                                                                                                                                                                                                                                             \n",
       "\n",
       "   Sentiment  \n",
       "0 NaN         \n",
       "1 NaN         \n",
       "2 NaN         "
      ]
     },
     "execution_count": 5,
     "metadata": {},
     "output_type": "execute_result"
    }
   ],
   "source": [
    "data_validation.head(3)"
   ]
  },
  {
   "cell_type": "markdown",
   "metadata": {},
   "source": [
    "## Apply text normalization for train & validation sets\n"
   ]
  },
  {
   "cell_type": "code",
   "execution_count": 4,
   "metadata": {},
   "outputs": [],
   "source": [
    "import pickle\n",
    "import re\n",
    "from nltk.tokenize import WordPunctTokenizer\n",
    "from tqdm import tqdm\n",
    "tqdm.pandas(desc=\"progress-bar\")"
   ]
  },
  {
   "cell_type": "markdown",
   "metadata": {},
   "source": [
    "Load dictionary with negations contractions:"
   ]
  },
  {
   "cell_type": "code",
   "execution_count": 5,
   "metadata": {},
   "outputs": [],
   "source": [
    "with open('data/negations_contractions.pickle', 'rb') as f:\n",
    "     negations = pickle.load(f)"
   ]
  },
  {
   "cell_type": "markdown",
   "metadata": {},
   "source": [
    "Compile patterns for html tags and web hyperlinks. \n",
    "\n",
    "re.I - for ignoring case of the letters (e.g. no need to trat upper & lower case separately, re will take care of it)\n",
    "\n",
    "use __r__ in pattern strings to ensure correct slashes processing"
   ]
  },
  {
   "cell_type": "code",
   "execution_count": 6,
   "metadata": {},
   "outputs": [],
   "source": [
    "pattern_1 =re.compile( r'(<[^>]+>)|((www\\.[^ ]+)\\b)|((https?://)\\S+)', re.I)\n",
    "negation_pattern = re.compile(r'\\b(' + '|'.join(negations.keys()) + r')\\b', re.I)"
   ]
  },
  {
   "cell_type": "markdown",
   "metadata": {},
   "source": [
    "Handy way to deal with regexps search results & contractions dictionary. Function group() returns matching group, example below just for illustration purposes:"
   ]
  },
  {
   "cell_type": "code",
   "execution_count": 8,
   "metadata": {},
   "outputs": [
    {
     "data": {
      "text/plain": [
       "'is not|are not|cannot'"
      ]
     },
     "execution_count": 8,
     "metadata": {},
     "output_type": "execute_result"
    }
   ],
   "source": [
    "negation_pattern.sub(lambda x: negations[x.group()], \"ain't|aren't|can't\")"
   ]
  },
  {
   "cell_type": "code",
   "execution_count": 9,
   "metadata": {},
   "outputs": [],
   "source": [
    "def data_cleaner(text):\n",
    "    \"\"\"Function for text normalization\"\"\"\n",
    "    lower_case = text.lower()\n",
    "    preprocessed_1 = re.sub(pattern_1, '', lower_case)\n",
    "    w_o_negations = negation_pattern.sub(lambda x: negations[x.group()], preprocessed_1)\n",
    "    letters_only = re.sub(\"[^a-zA-Z]\", \" \", w_o_negations)\n",
    "    tokens = tokenizer.tokenize(letters_only)\n",
    "    return (\" \".join(tokens)).strip()   "
   ]
  },
  {
   "cell_type": "code",
   "execution_count": 10,
   "metadata": {},
   "outputs": [],
   "source": [
    "def post_process(data, tokenizer):\n",
    "    \"\"\"Function for applying text normalization to the all corpus\"\"\"\n",
    "    data['SentimentText'] = data['SentimentText'].progress_map(data_cleaner)  \n",
    "    data.reset_index(inplace=True)\n",
    "    data.drop('index', inplace=True, axis=1)\n",
    "    return data"
   ]
  },
  {
   "cell_type": "code",
   "execution_count": 11,
   "metadata": {},
   "outputs": [
    {
     "name": "stderr",
     "output_type": "stream",
     "text": [
      "progress-bar: 100%|█████████████████████████████████████████████████████████████| 10000/10000 [00:20<00:00, 489.81it/s]\n"
     ]
    }
   ],
   "source": [
    "tokenizer = WordPunctTokenizer()\n",
    "data_processed = post_process(data, tokenizer)"
   ]
  },
  {
   "cell_type": "markdown",
   "metadata": {},
   "source": [
    "Validation data should be also normalized:"
   ]
  },
  {
   "cell_type": "code",
   "execution_count": 12,
   "metadata": {},
   "outputs": [
    {
     "name": "stderr",
     "output_type": "stream",
     "text": [
      "progress-bar: 100%|███████████████████████████████████████████████████████████████| 2500/2500 [00:05<00:00, 473.31it/s]\n"
     ]
    }
   ],
   "source": [
    "validation_processed = post_process(data_validation, tokenizer)"
   ]
  },
  {
   "cell_type": "code",
   "execution_count": 13,
   "metadata": {},
   "outputs": [
    {
     "data": {
      "text/html": [
       "<div>\n",
       "<style scoped>\n",
       "    .dataframe tbody tr th:only-of-type {\n",
       "        vertical-align: middle;\n",
       "    }\n",
       "\n",
       "    .dataframe tbody tr th {\n",
       "        vertical-align: top;\n",
       "    }\n",
       "\n",
       "    .dataframe thead th {\n",
       "        text-align: right;\n",
       "    }\n",
       "</style>\n",
       "<table border=\"1\" class=\"dataframe\">\n",
       "  <thead>\n",
       "    <tr style=\"text-align: right;\">\n",
       "      <th></th>\n",
       "      <th>SentimentText</th>\n",
       "      <th>Sentiment</th>\n",
       "    </tr>\n",
       "  </thead>\n",
       "  <tbody>\n",
       "    <tr>\n",
       "      <th>0</th>\n",
       "      <td>one best films seen years gwyneth paltrow fan excellent emma woodhouse alan cumming superb reverand elton emma thompson s sister sophie hysterical miss bates check gorgeous jeremy northam mr knightley gentleman whoever said need sex violence movie make good never seen emma think separates many others it is classy if you are looking film watch whole family looking romance yourself look further emma movie beautiful setting wonderful costumes outstanding cast have mentioned gorgeous jeremy northam emma perfect ten</td>\n",
       "      <td>NaN</td>\n",
       "    </tr>\n",
       "    <tr>\n",
       "      <th>1</th>\n",
       "      <td>excellent fast paced thriller wes craven nightmare elm street minutes leaves aside supernatural presents us something even terrifying evil human beings far likely encounter benign evil jackson rippner freddy kruger cillian murphy batman begins excellent job presenting sociable friendly even charismatic killer performances murphy rachel mcadams claire wedding crashers are brilliant film takes place intimate level two people eyes faces action small scale broad sweep canvas less compelling limitations cinematography nothing special though course one much camera confines passenger jet dialog excellent story taut distractions subplots confuse issue heart battle main characters keeping focus avoiding distractions wes craven able take minimal plot turning exciting fast paced action thriller</td>\n",
       "      <td>NaN</td>\n",
       "    </tr>\n",
       "    <tr>\n",
       "      <th>2</th>\n",
       "      <td>do not ruin you i will brief there is great acting funny lines attractive cast young graduate harvard med school brian white finds does not know much thinks people goes small hospital florida internship girlfriend mya left job tv producer senior resident wood harris helped marvelously creative collaborator zoe saldana bring speed help protect career show wider possibilities come compassionate doctor instead player wants make money as seems true many pre med friends</td>\n",
       "      <td>NaN</td>\n",
       "    </tr>\n",
       "  </tbody>\n",
       "</table>\n",
       "</div>"
      ],
      "text/plain": [
       "                                                                                                                                                                                                                                                                                                                                                                                                                                                                                                                                                                                                                                                                                                                                                                                                                SentimentText  \\\n",
       "0  one best films seen years gwyneth paltrow fan excellent emma woodhouse alan cumming superb reverand elton emma thompson s sister sophie hysterical miss bates check gorgeous jeremy northam mr knightley gentleman whoever said need sex violence movie make good never seen emma think separates many others it is classy if you are looking film watch whole family looking romance yourself look further emma movie beautiful setting wonderful costumes outstanding cast have mentioned gorgeous jeremy northam emma perfect ten                                                                                                                                                                                                                                                                                         \n",
       "1  excellent fast paced thriller wes craven nightmare elm street minutes leaves aside supernatural presents us something even terrifying evil human beings far likely encounter benign evil jackson rippner freddy kruger cillian murphy batman begins excellent job presenting sociable friendly even charismatic killer performances murphy rachel mcadams claire wedding crashers are brilliant film takes place intimate level two people eyes faces action small scale broad sweep canvas less compelling limitations cinematography nothing special though course one much camera confines passenger jet dialog excellent story taut distractions subplots confuse issue heart battle main characters keeping focus avoiding distractions wes craven able take minimal plot turning exciting fast paced action thriller   \n",
       "2  do not ruin you i will brief there is great acting funny lines attractive cast young graduate harvard med school brian white finds does not know much thinks people goes small hospital florida internship girlfriend mya left job tv producer senior resident wood harris helped marvelously creative collaborator zoe saldana bring speed help protect career show wider possibilities come compassionate doctor instead player wants make money as seems true many pre med friends                                                                                                                                                                                                                                                                                                                                        \n",
       "\n",
       "   Sentiment  \n",
       "0 NaN         \n",
       "1 NaN         \n",
       "2 NaN         "
      ]
     },
     "execution_count": 13,
     "metadata": {},
     "output_type": "execute_result"
    }
   ],
   "source": [
    "validation_processed.head(3)"
   ]
  },
  {
   "cell_type": "markdown",
   "metadata": {},
   "source": [
    "## Prepare train/test sets"
   ]
  },
  {
   "cell_type": "code",
   "execution_count": 14,
   "metadata": {},
   "outputs": [],
   "source": [
    "from sklearn.model_selection import train_test_split"
   ]
  },
  {
   "cell_type": "code",
   "execution_count": 15,
   "metadata": {},
   "outputs": [],
   "source": [
    "SEED = 42\n",
    "x_train, x_validation, y_train, y_validation = train_test_split(data_processed.SentimentText, data_processed.Sentiment,\\\n",
    "                                                                test_size=.2, random_state=SEED)"
   ]
  },
  {
   "cell_type": "markdown",
   "metadata": {},
   "source": [
    "## Sentiment Prediction & Real Challenge"
   ]
  },
  {
   "cell_type": "markdown",
   "metadata": {},
   "source": [
    "Use your knowledge to create machine learning pipeline for the most accurate sentiment predictions. Metric for maximization - ROC AUC.\n",
    "\n",
    "Some variants to try:\n",
    "\n",
    " * tune tfidf (max_features, max_df, min_df, n_grams...) You may want to test CountVectorizer :)\n",
    " * test some classifiers\n",
    " * tune classifiers parameters\n",
    " * word embeddinds??\n",
    " * topics models??\n",
    " \n",
    " __Do not forget to make predictions for the validation set \"validation_processed\" we created above, save predictions in validation_preds.csv and send it to me along with the notebook.__  \n",
    " \n",
    " Final score of your work will be assessed on validation_pred.csv."
   ]
  },
  {
   "cell_type": "code",
   "execution_count": null,
   "metadata": {},
   "outputs": [],
   "source": [
    "#code here"
   ]
  },
  {
   "cell_type": "code",
   "execution_count": null,
   "metadata": {},
   "outputs": [],
   "source": []
  },
  {
   "cell_type": "code",
   "execution_count": null,
   "metadata": {},
   "outputs": [],
   "source": []
  }
 ],
 "metadata": {
  "kernelspec": {
   "display_name": "Python 3",
   "language": "python",
   "name": "python3"
  },
  "language_info": {
   "codemirror_mode": {
    "name": "ipython",
    "version": 3
   },
   "file_extension": ".py",
   "mimetype": "text/x-python",
   "name": "python",
   "nbconvert_exporter": "python",
   "pygments_lexer": "ipython3",
   "version": "3.8.5"
  },
  "toc": {
   "base_numbering": 1,
   "nav_menu": {},
   "number_sections": true,
   "sideBar": true,
   "skip_h1_title": true,
   "title_cell": "Table of Contents",
   "title_sidebar": "Contents",
   "toc_cell": false,
   "toc_position": {},
   "toc_section_display": true,
   "toc_window_display": false
  }
 },
 "nbformat": 4,
 "nbformat_minor": 2
}
