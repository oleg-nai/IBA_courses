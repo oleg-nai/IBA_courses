{
 "cells": [
  {
   "cell_type": "code",
   "execution_count": null,
   "metadata": {},
   "outputs": [],
   "source": [
    "#https://webdevblog.ru/tematicheskoe-modelirovanie-s-pomoshhju-gensim-python/"
   ]
  },
  {
   "cell_type": "code",
   "execution_count": null,
   "metadata": {},
   "outputs": [],
   "source": [
    "import pandas as pd\n",
    "import numpy as np\n",
    "\n",
    "from tqdm import tqdm_notebook\n",
    "import gensim\n",
    "import gensim.corpora as corpora\n",
    "from gensim.models import CoherenceModel\n",
    "from gensim.utils import simple_preprocess\n",
    "import re\n",
    "\n",
    "from sklearn.datasets import fetch_20newsgroups\n",
    "from sklearn.metrics import classification_report\n",
    "\n",
    "from nltk.stem import PorterStemmer\n",
    "from nltk.corpus import stopwords\n",
    "\n",
    "# Plotting tools\n",
    "import pyLDAvis\n",
    "import pyLDAvis.gensim\n",
    "\n",
    "import pickle\n",
    "\n",
    "from matplotlib import pyplot as plt\n",
    "import seaborn as sns\n",
    "%matplotlib inline\n",
    "\n",
    "import warnings\n",
    "warnings.filterwarnings(\"ignore\",category=DeprecationWarning)"
   ]
  },
  {
   "cell_type": "code",
   "execution_count": null,
   "metadata": {},
   "outputs": [],
   "source": [
    "categories = ['sci.med', 'sci.space', 'talk.politics.guns', 'rec.sport.baseball', 'comp.sys.ibm.pc.hardware']\n",
    "print(\"Loading 20 newsgroups dataset for categories:\")\n",
    "print(categories if categories else \"all\")\n",
    "\n",
    "remove = ('headers', 'footers', 'quotes')\n",
    "\n",
    "data_train = fetch_20newsgroups(subset='train', categories=categories,\n",
    "                                shuffle=True, random_state=42,\n",
    "                                remove=remove)\n",
    "\n",
    "data_test = fetch_20newsgroups(subset='test', categories=categories,\n",
    "                               shuffle=True, random_state=42,\n",
    "                               remove=remove)\n",
    "print('data loaded')"
   ]
  },
  {
   "cell_type": "code",
   "execution_count": 3,
   "metadata": {},
   "outputs": [
    {
     "data": {
      "text/plain": [
       "'\\nWhy not?  Brooks Robinson is a defensive liability too, and Ted\\nWilliams is a weak hitter.  Even great players decline as they age.'"
      ]
     },
     "execution_count": 3,
     "metadata": {},
     "output_type": "execute_result"
    }
   ],
   "source": [
    "data_train.data[0]"
   ]
  },
  {
   "cell_type": "code",
   "execution_count": 4,
   "metadata": {},
   "outputs": [
    {
     "name": "stdout",
     "output_type": "stream",
     "text": [
      "2920 train documents\n",
      "1943 test documents\n"
     ]
    }
   ],
   "source": [
    "print(\"%d train documents\" % len(data_train.data))\n",
    "print(\"%d test documents\" % len(data_test.data))"
   ]
  },
  {
   "cell_type": "code",
   "execution_count": 5,
   "metadata": {},
   "outputs": [],
   "source": [
    "y_train, y_test = data_train.target, data_test.target"
   ]
  },
  {
   "cell_type": "code",
   "execution_count": 6,
   "metadata": {},
   "outputs": [],
   "source": [
    "# Remove new line characters\n",
    "data_train_1 = [re.sub('\\s+', ' ', news) for news in data_train.data]\n",
    "data_test_1 = [re.sub('\\s+', ' ', news) for news in data_test.data]"
   ]
  },
  {
   "cell_type": "markdown",
   "metadata": {},
   "source": [
    "Gensim __simple_preprocess__ function lowercases, tokenizes, de-accents (optional) corpus. The output are final tokens = unicode strings."
   ]
  },
  {
   "cell_type": "code",
   "execution_count": 7,
   "metadata": {},
   "outputs": [],
   "source": [
    "data_train_1 = [simple_preprocess(line, deacc=True) for line in data_train_1]\n",
    "data_test_1 = [simple_preprocess(line, deacc=True) for line in data_test_1]"
   ]
  },
  {
   "cell_type": "code",
   "execution_count": 8,
   "metadata": {},
   "outputs": [
    {
     "data": {
      "text/plain": [
       "['why',\n",
       " 'not',\n",
       " 'brooks',\n",
       " 'robinson',\n",
       " 'is',\n",
       " 'defensive',\n",
       " 'liability',\n",
       " 'too',\n",
       " 'and',\n",
       " 'ted',\n",
       " 'williams',\n",
       " 'is',\n",
       " 'weak',\n",
       " 'hitter',\n",
       " 'even',\n",
       " 'great',\n",
       " 'players',\n",
       " 'decline',\n",
       " 'as',\n",
       " 'they',\n",
       " 'age']"
      ]
     },
     "execution_count": 8,
     "metadata": {},
     "output_type": "execute_result"
    }
   ],
   "source": [
    "data_train_1[0]"
   ]
  },
  {
   "cell_type": "markdown",
   "metadata": {},
   "source": [
    "Build the bigram and trigram models"
   ]
  },
  {
   "cell_type": "code",
   "execution_count": 9,
   "metadata": {},
   "outputs": [],
   "source": [
    "bigram = gensim.models.Phrases(data_train_1, min_count=4, threshold=5) # higher threshold fewer phrases.\n",
    "trigram = gensim.models.Phrases(bigram[data_train_1])  \n",
    "# Faster way to get a sentence clubbed as a trigram/bigram\n",
    "bigram_mod = gensim.models.phrases.Phraser(bigram)\n",
    "trigram_mod = gensim.models.phrases.Phraser(trigram)"
   ]
  },
  {
   "cell_type": "code",
   "execution_count": 10,
   "metadata": {},
   "outputs": [
    {
     "data": {
      "text/plain": [
       "['why_not',\n",
       " 'brooks',\n",
       " 'robinson',\n",
       " 'is',\n",
       " 'defensive_liability',\n",
       " 'too',\n",
       " 'and',\n",
       " 'ted',\n",
       " 'williams',\n",
       " 'is',\n",
       " 'weak',\n",
       " 'hitter',\n",
       " 'even',\n",
       " 'great',\n",
       " 'players',\n",
       " 'decline',\n",
       " 'as',\n",
       " 'they',\n",
       " 'age']"
      ]
     },
     "execution_count": 10,
     "metadata": {},
     "output_type": "execute_result"
    }
   ],
   "source": [
    "# See bigram example\n",
    "bigram_mod[data_train_1[0]]"
   ]
  },
  {
   "cell_type": "code",
   "execution_count": 11,
   "metadata": {},
   "outputs": [
    {
     "name": "stdout",
     "output_type": "stream",
     "text": [
      "['don_think', 'they', 'provide', 'homeopaths', 'heck', 'the', 'heir', 'apparent', 'was', 'trying_to', 'promote', 'osteopaths', 'to', 'the', 'ranks', 'of', 'eligibility', 'couple_of', 'years_back', 'it', 'pleased', 'my_family', 'no', 'end', 'since', 'at', 'an', 'osteopathic', 'school', 'sort_of', 'validated', 'it', 'for', 'them', 'then', 'told', 'them', 'that', 'the', 'name', 'was', 'the_same', 'but', 'the', 'practice', 'was', 'different', 'oh', 'if_you_re', 'seeking', 'validation', 'for', 'your', 'philosophy', 'on', 'the', 'strength_of', 'the', 'national_health', 'service', 'adopting', 'it', 'suggest_that', 'you', 'are', 'not', 'very', 'sure', 'of', 'the', 'validity', 'of', 'your', 'philosophy', 'believe', 'in', 'the', 'nhs', 'was', 'still', 'having', 'its', 'nurses', 'taught', 'the', 'fine', 'art', 'of', 'cupping', 'which_is', 'the', 'vacuum', 'extraction', 'of', 'intradermal', 'fluids', 'by', 'means', 'of', 'heating', 'cup', 'placing', 'it', 'on', 'the', 'afflicted', 'site', 'and', 'allowing', 'it', 'to', 'cool', 'wouldn_take', 'my', 'sick', 'daughter', 'to', 'homeopath']\n"
     ]
    }
   ],
   "source": [
    "print(trigram_mod[bigram_mod[data_train_1[8]]])"
   ]
  },
  {
   "cell_type": "code",
   "execution_count": 12,
   "metadata": {},
   "outputs": [],
   "source": [
    "def remove_stopwords(texts):\n",
    "    stop_words = stopwords.words(\"english\")\n",
    "    return [[word for word in simple_preprocess(str(doc)) if word not in stop_words] for doc in texts]\n",
    "\n",
    "def make_bigrams(texts):\n",
    "    return [bigram_mod[doc] for doc in texts]\n",
    "\n",
    "def make_trigrams(texts):\n",
    "    return [trigram_mod[bigram_mod[doc]] for doc in texts]\n",
    "\n",
    "def stemming(texts):\n",
    "    stemmer = PorterStemmer()\n",
    "    texts_out = []\n",
    "    for text in texts:\n",
    "        texts_out.append([stemmer.stem(word) for word in text])\n",
    "    return texts_out"
   ]
  },
  {
   "cell_type": "code",
   "execution_count": 14,
   "metadata": {},
   "outputs": [],
   "source": [
    "data_train_1 = remove_stopwords(data_train_1)\n",
    "data_test_1 = remove_stopwords(data_test_1)\n",
    "data_train_bigrams = make_bigrams(data_train_1)\n",
    "data_test_bigrams = make_bigrams(data_test_1)\n",
    "data_train_trigrams = make_bigrams(data_train_bigrams)\n",
    "data_test_trigrams = make_bigrams(data_test_bigrams)\n",
    "data_train_stem = stemming(data_train_trigrams)\n",
    "data_test_stem = stemming(data_test_trigrams)"
   ]
  },
  {
   "cell_type": "code",
   "execution_count": 15,
   "metadata": {},
   "outputs": [
    {
     "data": {
      "text/plain": [
       "['brook',\n",
       " 'robinson',\n",
       " 'defensive_li',\n",
       " 'ted',\n",
       " 'william',\n",
       " 'weak',\n",
       " 'hitter',\n",
       " 'even',\n",
       " 'great',\n",
       " 'player',\n",
       " 'declin',\n",
       " 'age']"
      ]
     },
     "execution_count": 15,
     "metadata": {},
     "output_type": "execute_result"
    }
   ],
   "source": [
    "data_train_stem[0]"
   ]
  },
  {
   "cell_type": "code",
   "execution_count": 16,
   "metadata": {},
   "outputs": [
    {
     "name": "stdout",
     "output_type": "stream",
     "text": [
      "[[(0, 1), (1, 1), (2, 1), (3, 1), (4, 1), (5, 1), (6, 1), (7, 1), (8, 1), (9, 1), (10, 1), (11, 1)]]\n"
     ]
    }
   ],
   "source": [
    "# Create Dictionary\n",
    "id2word = corpora.Dictionary(data_train_stem)\n",
    "# Create Corpus\n",
    "texts = data_train_stem\n",
    "# filter extremes\n",
    "id2word.filter_extremes(no_below=3, no_above=0.75)\n",
    "id2word.compactify()\n",
    "# Term Document Frequency\n",
    "corpus = [id2word.doc2bow(text) for text in texts]\n",
    "print(corpus[0:1])"
   ]
  },
  {
   "cell_type": "code",
   "execution_count": 17,
   "metadata": {},
   "outputs": [
    {
     "data": {
      "text/plain": [
       "[[('age', 1),\n",
       "  ('brook', 1),\n",
       "  ('declin', 1),\n",
       "  ('defensive_li', 1),\n",
       "  ('even', 1),\n",
       "  ('great', 1),\n",
       "  ('hitter', 1),\n",
       "  ('player', 1),\n",
       "  ('robinson', 1),\n",
       "  ('ted', 1),\n",
       "  ('weak', 1),\n",
       "  ('william', 1)]]"
      ]
     },
     "execution_count": 17,
     "metadata": {},
     "output_type": "execute_result"
    }
   ],
   "source": [
    "[[(id2word[id], freq) for id, freq in cp] for cp in corpus[0:1]]"
   ]
  },
  {
   "cell_type": "code",
   "execution_count": 18,
   "metadata": {},
   "outputs": [
    {
     "data": {
      "text/plain": [
       "8373"
      ]
     },
     "execution_count": 18,
     "metadata": {},
     "output_type": "execute_result"
    }
   ],
   "source": [
    "len(id2word)"
   ]
  },
  {
   "cell_type": "markdown",
   "metadata": {},
   "source": [
    "Some LDA model parameters:\n",
    " * corpus ({iterable of list of (int, float), scipy.sparse.csc}, optional) – Stream of document vectors or sparse matrix of shape (num_terms, num_documents). \n",
    "\n",
    " * num_topics (int, optional) – The number of requested latent topics to be extracted from the training corpus.\n",
    "\n",
    " * id2word ({dict of (int, str), gensim.corpora.dictionary.Dictionary}) – Mapping from word IDs to words. \n",
    "\n",
    " * chunksize (int, optional) – Number of documents to be used in each training chunk.\n",
    "\n",
    " * passes (int, optional) – Number of passes through the corpus during training.\n",
    "\n",
    " * update_every (int, optional) – Number of documents to be iterated through for each update. Set to 0 for batch learning, > 1 for online iterative learning.\n",
    "\n",
    " * alpha ({numpy.ndarray, str}, optional) – Can be set to an 1D array of length equal to the number of expected topics that expresses our a-priori belief for the each topics’ probability. Alternatively default prior selecting strategies can be employed by supplying a string: \n",
    " \n",
    "’asymmetric’: Uses a fixed normalized asymmetric prior of 1.0 / topicno.\n",
    "\n",
    "’auto’: Learns an asymmetric prior from the corpus (not available if distributed==True).\n",
    "\n",
    " * eta ({float, np.array, str}, optional) – A-priori belief on word probability, this can be:\n",
    "\n",
    "scalar for a symmetric prior over topic/word probability,\n",
    "\n",
    "vector of length num_words to denote an asymmetric user defined probability for each word,\n",
    "\n",
    "matrix of shape (num_topics, num_words) to assign a probability for each word-topic combination,\n",
    "\n",
    "the string ‘auto’ to learn the asymmetric prior from the data.\n",
    " * per_word_topics : bool. If True, the model also computes a list of topics, sorted in descending order of most likely topics for each word, along with their phi values multiplied by the feature length (i.e. word count).\n",
    "\n"
   ]
  },
  {
   "cell_type": "code",
   "execution_count": 19,
   "metadata": {},
   "outputs": [
    {
     "name": "stdout",
     "output_type": "stream",
     "text": [
      "Wall time: 15.1 s\n"
     ]
    }
   ],
   "source": [
    "%%time\n",
    "lda_model = gensim.models.ldamodel.LdaModel(corpus=corpus,\n",
    "                                           id2word=id2word,\n",
    "                                           num_topics=5, \n",
    "                                           random_state=100,\n",
    "                                           update_every=2,\n",
    "                                           chunksize=30,\n",
    "                                           passes=5,\n",
    "                                           alpha='auto',\n",
    "                                           per_word_topics=True)                                           "
   ]
  },
  {
   "cell_type": "code",
   "execution_count": 21,
   "metadata": {},
   "outputs": [
    {
     "data": {
      "text/plain": [
       "[(0,\n",
       "  '0.007*\"launch\" + 0.007*\"satellit\" + 0.006*\"space\" + 0.006*\"use\" + 0.006*\"program\" + 0.006*\"inform\"'),\n",
       " (1,\n",
       "  '0.025*\"drive\" + 0.016*\"use\" + 0.014*\"system\" + 0.013*\"card\" + 0.009*\"scsi\" + 0.009*\"control\"'),\n",
       " (2,\n",
       "  '0.013*\"gun\" + 0.008*\"firearm\" + 0.008*\"state\" + 0.007*\"right\" + 0.006*\"use\" + 0.006*\"law\"'),\n",
       " (3,\n",
       "  '0.014*\"game\" + 0.012*\"year\" + 0.010*\"hit\" + 0.010*\"run\" + 0.008*\"team\" + 0.008*\"play\"'),\n",
       " (4,\n",
       "  '0.015*\"one\" + 0.014*\"get\" + 0.013*\"would\" + 0.010*\"like\" + 0.009*\"know\" + 0.009*\"think\"')]"
      ]
     },
     "execution_count": 21,
     "metadata": {},
     "output_type": "execute_result"
    }
   ],
   "source": [
    "lda_model.print_topics(num_words=6)"
   ]
  },
  {
   "cell_type": "code",
   "execution_count": 22,
   "metadata": {},
   "outputs": [
    {
     "data": {
      "text/plain": [
       "['sci.med',\n",
       " 'sci.space',\n",
       " 'talk.politics.guns',\n",
       " 'rec.sport.baseball',\n",
       " 'comp.sys.ibm.pc.hardware']"
      ]
     },
     "execution_count": 22,
     "metadata": {},
     "output_type": "execute_result"
    }
   ],
   "source": [
    "categories"
   ]
  },
  {
   "cell_type": "code",
   "execution_count": 23,
   "metadata": {},
   "outputs": [
    {
     "name": "stdout",
     "output_type": "stream",
     "text": [
      "\n",
      "Perplexity on train:  -8.034159446778828\n"
     ]
    }
   ],
   "source": [
    "# Compute Perplexity on train\n",
    "print('\\nPerplexity on train: ', lda_model.log_perplexity(corpus))  # a measure of how good the model is. lower the better."
   ]
  },
  {
   "cell_type": "code",
   "execution_count": 24,
   "metadata": {},
   "outputs": [
    {
     "name": "stdout",
     "output_type": "stream",
     "text": [
      "\n",
      "Perplexity on test:  -8.1779414143053\n"
     ]
    }
   ],
   "source": [
    "# Compute Perplexity on test\n",
    "corpus_test = [id2word.doc2bow(text) for text in data_test_stem]\n",
    "print('\\nPerplexity on test: ', lda_model.log_perplexity(corpus_test))"
   ]
  },
  {
   "cell_type": "code",
   "execution_count": 35,
   "metadata": {},
   "outputs": [
    {
     "name": "stderr",
     "output_type": "stream",
     "text": [
      "c:\\users\\user\\appdata\\local\\programs\\python\\python37-32\\lib\\site-packages\\pyLDAvis\\_prepare.py:257: FutureWarning: Sorting because non-concatenation axis is not aligned. A future version\n",
      "of pandas will change to not sort by default.\n",
      "\n",
      "To accept the future behavior, pass 'sort=False'.\n",
      "\n",
      "To retain the current behavior and silence the warning, pass 'sort=True'.\n",
      "\n",
      "  return pd.concat([default_term_info] + list(topic_dfs))\n"
     ]
    },
    {
     "data": {
      "text/html": [
       "\n",
       "<link rel=\"stylesheet\" type=\"text/css\" href=\"https://cdn.rawgit.com/bmabey/pyLDAvis/files/ldavis.v1.0.0.css\">\n",
       "\n",
       "\n",
       "<div id=\"ldavis_el89325526934888764917985\"></div>\n",
       "<script type=\"text/javascript\">\n",
       "\n",
       "var ldavis_el89325526934888764917985_data = {\"mdsDat\": {\"x\": [0.10910013162222992, -0.08490088182271899, 0.139126033845673, 0.1582321505176153, -0.3215574341627993], \"y\": [-0.06511170225865306, -0.11038928673217932, -0.19257457813822207, 0.2977995443863299, 0.07027602274272456], \"topics\": [1, 2, 3, 4, 5], \"cluster\": [1, 1, 1, 1, 1], \"Freq\": [34.51728057861328, 23.672710418701172, 18.531709671020508, 12.78835678100586, 10.489936828613281]}, \"tinfo\": {\"Category\": [\"Default\", \"Default\", \"Default\", \"Default\", \"Default\", \"Default\", \"Default\", \"Default\", \"Default\", \"Default\", \"Default\", \"Default\", \"Default\", \"Default\", \"Default\", \"Default\", \"Default\", \"Default\", \"Default\", \"Default\", \"Default\", \"Default\", \"Default\", \"Default\", \"Default\", \"Default\", \"Default\", \"Default\", \"Default\", \"Default\", \"Topic1\", \"Topic1\", \"Topic1\", \"Topic1\", \"Topic1\", \"Topic1\", \"Topic1\", \"Topic1\", \"Topic1\", \"Topic1\", \"Topic1\", \"Topic1\", \"Topic1\", \"Topic1\", \"Topic1\", \"Topic1\", \"Topic1\", \"Topic1\", \"Topic1\", \"Topic1\", \"Topic1\", \"Topic1\", \"Topic1\", \"Topic1\", \"Topic1\", \"Topic1\", \"Topic1\", \"Topic1\", \"Topic1\", \"Topic1\", \"Topic1\", \"Topic1\", \"Topic1\", \"Topic1\", \"Topic1\", \"Topic1\", \"Topic1\", \"Topic1\", \"Topic1\", \"Topic1\", \"Topic1\", \"Topic1\", \"Topic1\", \"Topic1\", \"Topic1\", \"Topic1\", \"Topic1\", \"Topic1\", \"Topic1\", \"Topic1\", \"Topic1\", \"Topic1\", \"Topic1\", \"Topic1\", \"Topic1\", \"Topic1\", \"Topic1\", \"Topic1\", \"Topic1\", \"Topic1\", \"Topic1\", \"Topic1\", \"Topic1\", \"Topic1\", \"Topic1\", \"Topic1\", \"Topic1\", \"Topic1\", \"Topic1\", \"Topic1\", \"Topic1\", \"Topic2\", \"Topic2\", \"Topic2\", \"Topic2\", \"Topic2\", \"Topic2\", \"Topic2\", \"Topic2\", \"Topic2\", \"Topic2\", \"Topic2\", \"Topic2\", \"Topic2\", \"Topic2\", \"Topic2\", \"Topic2\", \"Topic2\", \"Topic2\", \"Topic2\", \"Topic2\", \"Topic2\", \"Topic2\", \"Topic2\", \"Topic2\", \"Topic2\", \"Topic2\", \"Topic2\", \"Topic2\", \"Topic2\", \"Topic2\", \"Topic2\", \"Topic2\", \"Topic2\", \"Topic2\", \"Topic2\", \"Topic2\", \"Topic2\", \"Topic2\", \"Topic2\", \"Topic2\", \"Topic2\", \"Topic2\", \"Topic2\", \"Topic2\", \"Topic2\", \"Topic2\", \"Topic2\", \"Topic2\", \"Topic2\", \"Topic2\", \"Topic2\", \"Topic2\", \"Topic2\", \"Topic2\", \"Topic3\", \"Topic3\", \"Topic3\", \"Topic3\", \"Topic3\", \"Topic3\", \"Topic3\", \"Topic3\", \"Topic3\", \"Topic3\", \"Topic3\", \"Topic3\", \"Topic3\", \"Topic3\", \"Topic3\", \"Topic3\", \"Topic3\", \"Topic3\", \"Topic3\", \"Topic3\", \"Topic3\", \"Topic3\", \"Topic3\", \"Topic3\", \"Topic3\", \"Topic3\", \"Topic3\", \"Topic3\", \"Topic3\", \"Topic3\", \"Topic3\", \"Topic3\", \"Topic3\", \"Topic3\", \"Topic3\", \"Topic3\", \"Topic3\", \"Topic3\", \"Topic3\", \"Topic3\", \"Topic3\", \"Topic3\", \"Topic3\", \"Topic3\", \"Topic3\", \"Topic3\", \"Topic3\", \"Topic3\", \"Topic3\", \"Topic4\", \"Topic4\", \"Topic4\", \"Topic4\", \"Topic4\", \"Topic4\", \"Topic4\", \"Topic4\", \"Topic4\", \"Topic4\", \"Topic4\", \"Topic4\", \"Topic4\", \"Topic4\", \"Topic4\", \"Topic4\", \"Topic4\", \"Topic4\", \"Topic4\", \"Topic4\", \"Topic4\", \"Topic4\", \"Topic4\", \"Topic4\", \"Topic4\", \"Topic4\", \"Topic4\", \"Topic4\", \"Topic4\", \"Topic4\", \"Topic4\", \"Topic4\", \"Topic4\", \"Topic4\", \"Topic4\", \"Topic4\", \"Topic4\", \"Topic4\", \"Topic4\", \"Topic4\", \"Topic4\", \"Topic4\", \"Topic4\", \"Topic4\", \"Topic4\", \"Topic5\", \"Topic5\", \"Topic5\", \"Topic5\", \"Topic5\", \"Topic5\", \"Topic5\", \"Topic5\", \"Topic5\", \"Topic5\", \"Topic5\", \"Topic5\", \"Topic5\", \"Topic5\", \"Topic5\", \"Topic5\", \"Topic5\", \"Topic5\", \"Topic5\", \"Topic5\", \"Topic5\", \"Topic5\", \"Topic5\", \"Topic5\", \"Topic5\", \"Topic5\", \"Topic5\", \"Topic5\", \"Topic5\", \"Topic5\", \"Topic5\", \"Topic5\", \"Topic5\", \"Topic5\", \"Topic5\", \"Topic5\", \"Topic5\", \"Topic5\", \"Topic5\", \"Topic5\", \"Topic5\", \"Topic5\", \"Topic5\", \"Topic5\", \"Topic5\", \"Topic5\", \"Topic5\", \"Topic5\", \"Topic5\", \"Topic5\"], \"Freq\": [652.0, 574.0, 635.0, 429.0, 1508.0, 1148.0, 319.0, 1292.0, 760.0, 657.0, 304.0, 479.0, 806.0, 385.0, 851.0, 387.0, 377.0, 346.0, 254.0, 359.0, 225.0, 1463.0, 212.0, 231.0, 379.0, 568.0, 657.0, 275.0, 389.0, 484.0, 209.63214111328125, 231.02200317382812, 196.26463317871094, 187.11683654785156, 173.3826446533203, 186.93739318847656, 169.75572204589844, 157.40338134765625, 153.5809326171875, 151.54666137695312, 146.00379943847656, 140.66539001464844, 133.7700958251953, 136.70404052734375, 134.27914428710938, 123.55245971679688, 116.73151397705078, 112.99524688720703, 110.60252380371094, 109.34569549560547, 129.2119598388672, 100.74784088134766, 95.66414642333984, 101.01287841796875, 156.93052673339844, 124.30876159667969, 88.95341491699219, 94.12227630615234, 91.39306640625, 141.48843383789062, 745.8289184570312, 474.0726623535156, 99.73690032958984, 1090.361572265625, 182.8347625732422, 138.33486938476562, 297.1124572753906, 338.96527099609375, 174.15927124023438, 792.3961181640625, 407.5330505371094, 153.50379943847656, 456.4905700683594, 284.3960876464844, 1250.4442138671875, 715.1253662109375, 346.8223876953125, 482.90948486328125, 328.580078125, 520.9541015625, 262.854248046875, 1052.9921875, 387.5609436035156, 437.3988342285156, 434.60736083984375, 549.5853271484375, 416.5813293457031, 427.1403503417969, 295.4378356933594, 253.1371307373047, 338.258056640625, 623.07373046875, 354.7528381347656, 440.6270446777344, 538.7189331054688, 417.13250732421875, 365.6346740722656, 418.0855407714844, 394.6430969238281, 398.3175048828125, 494.099365234375, 386.82806396484375, 377.11138916015625, 358.773681640625, 294.37042236328125, 243.16873168945312, 235.21009826660156, 231.822265625, 206.7057647705078, 189.27734375, 205.43484497070312, 197.2962646484375, 167.50885009765625, 165.6929473876953, 130.42935180664062, 129.96571350097656, 124.64059448242188, 121.91542053222656, 111.8690185546875, 109.28970336914062, 113.35311126708984, 108.41062927246094, 103.28153228759766, 98.28003692626953, 95.19247436523438, 88.13040924072266, 89.65428161621094, 220.983642578125, 86.16851806640625, 116.12235260009766, 90.5130844116211, 241.14157104492188, 162.26043701171875, 106.67243957519531, 111.56625366210938, 145.4793701171875, 108.70770263671875, 318.2157897949219, 195.17442321777344, 322.39617919921875, 133.8955535888672, 242.20083618164062, 200.8054656982422, 258.0502624511719, 274.56732177734375, 176.24070739746094, 186.87501525878906, 290.1364440917969, 176.54190063476562, 333.7830505371094, 150.6654052734375, 169.90060424804688, 170.0874786376953, 196.4969024658203, 198.8522491455078, 573.6316528320312, 274.5325012207031, 251.03842163085938, 220.44801330566406, 203.79849243164062, 203.24249267578125, 191.54786682128906, 176.2138214111328, 164.27545166015625, 165.51608276367188, 152.83221435546875, 150.7598114013672, 145.1389923095703, 145.23953247070312, 140.02647399902344, 134.40008544921875, 134.16738891601562, 130.2359619140625, 124.71623229980469, 124.24330139160156, 124.84956359863281, 117.63381958007812, 116.17354583740234, 111.03164672851562, 107.55231475830078, 100.36644744873047, 101.58773040771484, 94.35796356201172, 93.95635223388672, 89.24848937988281, 96.86849212646484, 329.0564880371094, 362.39508056640625, 112.08563232421875, 224.4746856689453, 180.82737731933594, 115.13298797607422, 146.78948974609375, 164.07296752929688, 139.73727416992188, 306.2538146972656, 203.80136108398438, 258.7585754394531, 197.48312377929688, 154.18576049804688, 175.78939819335938, 275.3727111816406, 217.2647705078125, 152.08592224121094, 428.60821533203125, 304.10687255859375, 253.68809509277344, 230.6077117919922, 199.13255310058594, 198.60430908203125, 182.80532836914062, 171.99832153320312, 154.70700073242188, 156.281982421875, 157.93667602539062, 161.82342529296875, 109.18922424316406, 121.81481170654297, 102.67798614501953, 100.59809875488281, 104.85386657714844, 97.2431411743164, 96.4842529296875, 100.15511322021484, 94.532470703125, 97.19274139404297, 102.5483169555664, 87.57231140136719, 130.43260192871094, 81.66630554199219, 80.68681335449219, 79.80719757080078, 79.29960632324219, 72.44153594970703, 118.39511108398438, 123.80428314208984, 136.42315673828125, 119.89622497558594, 284.87005615234375, 350.0682678222656, 125.84608459472656, 107.91670227050781, 107.34980010986328, 118.4129409790039, 181.2372589111328, 148.82176208496094, 126.21694946289062, 118.82657623291016, 109.4499282836914, 319.2220153808594, 224.97927856445312, 211.501708984375, 173.41119384765625, 177.0565643310547, 165.26364135742188, 145.57992553710938, 140.6185302734375, 132.3433837890625, 152.65530395507812, 129.4185791015625, 131.33360290527344, 133.2369384765625, 126.99873352050781, 120.78108215332031, 119.14893341064453, 120.05249786376953, 111.89855194091797, 104.30901336669922, 102.46436309814453, 100.58648681640625, 88.18527221679688, 89.90196990966797, 81.50907135009766, 83.7353286743164, 80.20977020263672, 81.26859283447266, 81.26213073730469, 80.56072235107422, 78.12252807617188, 104.79395294189453, 620.6325073242188, 135.93792724609375, 94.15432739257812, 130.8684844970703, 156.9233856201172, 198.0556182861328, 338.3488464355469, 114.64067840576172, 166.3000946044922, 212.93527221679688, 171.2507781982422, 404.60797119140625, 148.733154296875, 149.3021697998047, 129.1577606201172, 158.31570434570312, 141.90060424804688, 130.3900909423828, 127.56568145751953], \"Term\": [\"drive\", \"gun\", \"system\", \"game\", \"use\", \"get\", \"card\", \"would\", \"know\", \"year\", \"hit\", \"run\", \"think\", \"firearm\", \"like\", \"launch\", \"satellit\", \"state\", \"team\", \"space\", \"scsi\", \"one\", \"jumper\", \"play\", \"control\", \"good\", \"peopl\", \"law\", \"data\", \"thing\", \"idea\", \"someth\", \"patient\", \"though\", \"doctor\", \"done\", \"diseas\", \"someon\", \"kind\", \"medic\", \"treatment\", \"wonder\", \"pain\", \"week\", \"other\", \"mine\", \"eat\", \"often\", \"soon\", \"anyway\", \"feel\", \"suppos\", \"symptom\", \"black\", \"quit\", \"unless\", \"surrend\", \"gateway\", \"simpli\", \"food\", \"know\", \"thing\", \"certainli\", \"get\", \"tell\", \"lead\", \"caus\", \"seem\", \"anyth\", \"like\", \"much\", \"usual\", \"way\", \"give\", \"one\", \"think\", \"sinc\", \"could\", \"realli\", \"problem\", \"probabl\", \"would\", \"take\", \"even\", \"differ\", \"go\", \"see\", \"say\", \"might\", \"last\", \"want\", \"time\", \"tri\", \"make\", \"also\", \"good\", \"need\", \"well\", \"work\", \"peopl\", \"use\", \"launch\", \"satellit\", \"space\", \"research\", \"orbit\", \"scienc\", \"develop\", \"technolog\", \"nasa\", \"consid\", \"carri\", \"project\", \"experi\", \"mission\", \"earth\", \"dr\", \"imag\", \"shuttl\", \"moon\", \"safeti\", \"theori\", \"flight\", \"keyboard\", \"effort\", \"lunar\", \"period\", \"oper\", \"commerci\", \"associ\", \"reach\", \"univers\", \"april\", \"engin\", \"publish\", \"scientif\", \"explain\", \"inform\", \"design\", \"program\", \"refer\", \"studi\", \"avail\", \"data\", \"includ\", \"provid\", \"increas\", \"system\", \"test\", \"use\", \"market\", \"base\", \"find\", \"year\", \"also\", \"gun\", \"law\", \"fire\", \"govern\", \"weapon\", \"crime\", \"kill\", \"handgun\", \"licens\", \"center\", \"crimin\", \"citi\", \"homicid\", \"public\", \"vancouv\", \"fbi\", \"rocket\", \"death\", \"action\", \"children\", \"man\", \"shall\", \"bill\", \"member\", \"united_st\", \"attack\", \"military_weapon\", \"citizen\", \"popul\", \"violat\", \"site\", \"state\", \"firearm\", \"detail\", \"section\", \"author\", \"countri\", \"plan\", \"servic\", \"act\", \"right\", \"us\", \"peopl\", \"report\", \"issu\", \"person\", \"use\", \"would\", \"chang\", \"game\", \"hit\", \"team\", \"play\", \"player\", \"win\", \"bad\", \"season\", \"pitch\", \"field\", \"predict\", \"age\", \"fan\", \"evid\", \"basebal\", \"score\", \"shot\", \"hitter\", \"brave\", \"chanc\", \"save\", \"seriou\", \"indic\", \"bat\", \"although\", \"met\", \"red\", \"offens\", \"stat\", \"cub\", \"injuri\", \"last_year\", \"ball\", \"th\", \"run\", \"year\", \"divis\", \"new_york\", \"lost\", \"averag\", \"first\", \"good\", \"start\", \"second\", \"base\", \"card\", \"scsi\", \"jumper\", \"bio\", \"board\", \"interfac\", \"pin\", \"pc\", \"mb\", \"model\", \"ide\", \"machin\", \"connect\", \"hard_disk\", \"do\", \"instal\", \"st_st\", \"controller_card\", \"floppy_disk\", \"wd\", \"bu\", \"msg\", \"mode\", \"disk_driv\", \"color\", \"disk\", \"switch\", \"rom_bio\", \"cabl\", \"motherboard\", \"seri\", \"drive\", \"driver\", \"window\", \"transfer\", \"com\", \"file\", \"system\", \"monitor\", \"applic\", \"control\", \"set\", \"use\", \"bit\", \"comput\", \"info\", \"run\", \"thank\", \"data\", \"work\"], \"Total\": [652.0, 574.0, 635.0, 429.0, 1508.0, 1148.0, 319.0, 1292.0, 760.0, 657.0, 304.0, 479.0, 806.0, 385.0, 851.0, 387.0, 377.0, 346.0, 254.0, 359.0, 225.0, 1463.0, 212.0, 231.0, 379.0, 568.0, 657.0, 275.0, 389.0, 484.0, 210.36801147460938, 231.8340301513672, 197.0327606201172, 187.85565185546875, 174.1027374267578, 187.73269653320312, 170.48854064941406, 158.13088989257812, 154.30987548828125, 152.2745361328125, 146.73007202148438, 141.4207000732422, 134.49008178710938, 137.4429931640625, 135.01084899902344, 124.3307876586914, 117.46761322021484, 113.7263412475586, 111.3248062133789, 110.076904296875, 130.09405517578125, 101.48146057128906, 96.39080810546875, 101.78410339355469, 158.13034057617188, 125.26368713378906, 89.67161560058594, 94.88558197021484, 92.1441650390625, 142.66929626464844, 760.7532348632812, 484.13873291015625, 100.58926391601562, 1148.271728515625, 185.8948516845703, 140.0305938720703, 305.57196044921875, 351.8214111328125, 177.37747192382812, 851.09521484375, 434.8771057128906, 156.40216064453125, 495.5506896972656, 300.1697998046875, 1463.7723388671875, 806.7696533203125, 373.5912170410156, 536.4074096679688, 353.66802978515625, 586.5247192382812, 279.0669250488281, 1292.0230712890625, 432.5775146484375, 496.7430114746094, 501.9381408691406, 668.6590576171875, 485.11138916015625, 501.70135498046875, 326.78070068359375, 273.10125732421875, 386.7675476074219, 819.3905639648438, 415.5165100097656, 579.1117553710938, 817.6282958984375, 568.9723510742188, 470.90740966796875, 582.75927734375, 575.412109375, 657.7540893554688, 1508.061279296875, 387.56561279296875, 377.837158203125, 359.4995422363281, 295.1161804199219, 243.89169311523438, 235.94256591796875, 232.5531005859375, 207.43626403808594, 190.00039672851562, 206.21961975097656, 198.07667541503906, 168.24420166015625, 166.4321746826172, 131.1508026123047, 130.69137573242188, 125.37818145751953, 122.64427185058594, 112.59331512451172, 110.01483154296875, 114.1077880859375, 109.16067504882812, 104.01030731201172, 99.04302215576172, 95.95970153808594, 88.8550033569336, 90.40083312988281, 222.8472900390625, 86.90608978271484, 117.12287139892578, 91.30481719970703, 243.78582763671875, 164.22618103027344, 107.80010986328125, 113.06715393066406, 150.2180633544922, 111.22893524169922, 389.48492431640625, 220.3265838623047, 404.71600341796875, 142.04522705078125, 320.0589294433594, 258.8352355957031, 389.00714111328125, 439.08770751953125, 237.21636962890625, 263.5508728027344, 635.96240234375, 272.7723083496094, 1508.061279296875, 192.6934051513672, 300.0780944824219, 318.0094299316406, 657.4656372070312, 817.6282958984375, 574.3658447265625, 275.27056884765625, 251.78224182128906, 221.18685913085938, 204.53143310546875, 203.976806640625, 192.30331420898438, 176.94932556152344, 165.0221710205078, 166.29244995117188, 153.565673828125, 151.50978088378906, 145.87498474121094, 145.99301147460938, 140.77481079101562, 135.13551330566406, 134.92628479003906, 130.9737548828125, 125.46189880371094, 124.9870834350586, 125.61405944824219, 118.3829345703125, 116.92133331298828, 111.78128051757812, 108.29352569580078, 101.10700225830078, 102.37810516357422, 95.09284973144531, 94.70264434814453, 89.98687744140625, 97.72306823730469, 346.2379150390625, 385.81951904296875, 114.94184112548828, 254.43247985839844, 200.38853454589844, 118.67823028564453, 161.73526000976562, 196.54751586914062, 157.30442810058594, 549.9697875976562, 359.9726257324219, 657.7540893554688, 356.36322021484375, 224.92393493652344, 344.3853759765625, 1508.061279296875, 1292.0230712890625, 251.60028076171875, 429.3204040527344, 304.825439453125, 254.4066619873047, 231.33436584472656, 199.8450469970703, 199.3202667236328, 183.55235290527344, 172.7144012451172, 155.41993713378906, 157.02774047851562, 158.71499633789062, 162.63014221191406, 109.90707397460938, 122.63096618652344, 103.39080810546875, 101.31117248535156, 105.59968566894531, 97.95307159423828, 97.1945571899414, 100.90941619873047, 95.26882934570312, 97.98432922363281, 103.38629913330078, 88.29478454589844, 131.5452423095703, 82.38319396972656, 81.41422271728516, 80.52730560302734, 80.04600524902344, 73.15086364746094, 119.76429748535156, 136.66258239746094, 155.69139099121094, 136.46722412109375, 479.1201477050781, 657.4656372070312, 161.94012451171875, 122.51653289794922, 123.39737701416016, 157.13827514648438, 528.9049072265625, 568.9723510742188, 359.0181579589844, 259.91015625, 300.0780944824219, 319.9783630371094, 225.7205810546875, 212.24449157714844, 174.1522979736328, 177.81857299804688, 166.0064697265625, 146.34230041503906, 141.36073303222656, 133.08450317382812, 153.51502990722656, 130.15972900390625, 132.09742736816406, 134.0121612548828, 127.74053955078125, 121.52177429199219, 119.90660095214844, 120.8512191772461, 112.65277862548828, 105.06587982177734, 103.2081069946289, 101.34089660644531, 88.9364013671875, 90.71508026123047, 82.254638671875, 84.51322937011719, 80.955078125, 82.02872467041016, 82.02865600585938, 81.32254791259766, 78.8632583618164, 105.89305114746094, 652.9876708984375, 149.193603515625, 97.85967254638672, 145.8319854736328, 187.75338745117188, 258.92742919921875, 635.96240234375, 134.16156005859375, 249.8565673828125, 379.4755554199219, 271.2846984863281, 1508.061279296875, 213.55331420898438, 215.79388427734375, 177.16885375976562, 479.1201477050781, 280.06011962890625, 389.00714111328125, 575.412109375], \"loglift\": [30.0, 29.0, 28.0, 27.0, 26.0, 25.0, 24.0, 23.0, 22.0, 21.0, 20.0, 19.0, 18.0, 17.0, 16.0, 15.0, 14.0, 13.0, 12.0, 11.0, 10.0, 9.0, 8.0, 7.0, 6.0, 5.0, 4.0, 3.0, 2.0, 1.0, 1.0601999759674072, 1.0601999759674072, 1.0598000288009644, 1.0598000288009644, 1.0595999956130981, 1.059499979019165, 1.059399962425232, 1.0591000318527222, 1.059000015258789, 1.058899998664856, 1.0586999654769897, 1.05840003490448, 1.0583000183105469, 1.0583000183105469, 1.0583000183105469, 1.0573999881744385, 1.0573999881744385, 1.0572999715805054, 1.0571999549865723, 1.0570000410079956, 1.0569000244140625, 1.05649995803833, 1.0561000108718872, 1.0561000108718872, 1.0561000108718872, 1.0561000108718872, 1.0556999444961548, 1.0556000471115112, 1.0555000305175781, 1.055400013923645, 1.0439000129699707, 1.0427000522613525, 1.0551999807357788, 1.0119999647140503, 1.0470999479293823, 1.0514999628067017, 1.035599946975708, 1.0264999866485596, 1.0454000234603882, 0.9922000169754028, 0.9987999796867371, 1.0449999570846558, 0.9815999865531921, 1.0096999406814575, 0.9061999917030334, 0.9430999755859375, 0.9894000291824341, 0.9585999846458435, 0.9901000261306763, 0.9452000260353088, 1.0039000511169434, 0.8590999841690063, 0.9538000226020813, 0.9365000128746033, 0.919700026512146, 0.8676000237464905, 0.9114000201225281, 0.9028000235557556, 0.9628999829292297, 0.9878000020980835, 0.9297000169754028, 0.7897999882698059, 0.9056000113487244, 0.7904000282287598, 0.6464999914169312, 0.7533000111579895, 0.810699999332428, 0.7315999865531921, 0.6866000294685364, 0.5620999932289124, -0.05209999904036522, 1.4388999938964844, 1.4388999938964844, 1.4387999773025513, 1.4383000135421753, 1.4378999471664429, 1.4377000331878662, 1.4377000331878662, 1.4372999668121338, 1.437000036239624, 1.437000036239624, 1.436900019645691, 1.4364999532699585, 1.436400055885315, 1.4352999925613403, 1.4352999925613403, 1.4349000453948975, 1.4349000453948975, 1.434399962425232, 1.4342000484466553, 1.4342000484466553, 1.434000015258789, 1.4337999820709229, 1.4330999851226807, 1.432800054550171, 1.4327000379562378, 1.4326000213623047, 1.4323999881744385, 1.4322999715805054, 1.4322999715805054, 1.4321000576019287, 1.429900050163269, 1.4287999868392944, 1.430299997329712, 1.4275000095367432, 1.4088000059127808, 1.4178999662399292, 1.238800048828125, 1.319599986076355, 1.2134000062942505, 1.3818000555038452, 1.1620999574661255, 1.187000036239624, 1.030400037765503, 0.9713000059127808, 1.1437000036239624, 1.097000002861023, 0.6560999751091003, 1.0058000087738037, -0.06719999760389328, 1.1948000192642212, 0.871999979019165, 0.8151000142097473, 0.23309999704360962, 0.027000000700354576, 1.684399962425232, 1.6829999685287476, 1.6827000379562378, 1.6822999715805054, 1.6821000576019287, 1.6821000576019287, 1.6818000078201294, 1.68149995803833, 1.6812000274658203, 1.680999994277954, 1.680899977684021, 1.6806999444961548, 1.6806000471115112, 1.6805000305175781, 1.680400013923645, 1.6801999807357788, 1.6799999475479126, 1.6799999475479126, 1.6797000169754028, 1.6797000169754028, 1.6796000003814697, 1.6792999505996704, 1.6792999505996704, 1.6790000200271606, 1.6787999868392944, 1.6783000230789185, 1.677899956703186, 1.677899956703186, 1.6778000593185425, 1.67739999294281, 1.676900029182434, 1.6347999572753906, 1.6231000423431396, 1.6605000495910645, 1.5604000091552734, 1.5829999446868896, 1.655400037765503, 1.5887000560760498, 1.5051000118255615, 1.5672999620437622, 1.1002000570297241, 1.1167999505996704, 0.7527999877929688, 1.0953999757766724, 1.3080999851226807, 1.013200044631958, -0.014800000004470348, -0.09719999879598618, 1.1822999715805054, 2.055000066757202, 2.05430006980896, 2.053800106048584, 2.053499937057495, 2.053100109100342, 2.052999973297119, 2.0525999069213867, 2.052500009536743, 2.052000045776367, 2.0518999099731445, 2.0517001152038574, 2.0517001152038574, 2.050100088119507, 2.049999952316284, 2.0497000217437744, 2.0495998859405518, 2.049499988555908, 2.0494000911712646, 2.049299955368042, 2.049099922180176, 2.0488998889923096, 2.0485000610351562, 2.0485000610351562, 2.0483999252319336, 2.048099994659424, 2.0478999614715576, 2.0476999282836914, 2.0476999282836914, 2.047300100326538, 2.0469000339508057, 2.045099973678589, 1.957800030708313, 1.9244999885559082, 1.9271999597549438, 1.5367000102996826, 1.4263999462127686, 1.8044999837875366, 1.9297000169754028, 1.9172999858856201, 1.7736999988555908, 0.9855999946594238, 0.7156000137329102, 1.011299967765808, 1.2740000486373901, 1.0480999946594238, 2.2523999214172363, 2.251499891281128, 2.251199960708618, 2.250499963760376, 2.250499963760376, 2.2502999305725098, 2.249500036239624, 2.249500036239624, 2.2492001056671143, 2.2490999698638916, 2.249000072479248, 2.249000072479248, 2.249000072479248, 2.2488999366760254, 2.2486000061035156, 2.2483999729156494, 2.2481000423431396, 2.247999906539917, 2.247499942779541, 2.247499942779541, 2.247299909591675, 2.246299982070923, 2.245800018310547, 2.2455999851226807, 2.245500087738037, 2.245500087738037, 2.2453999519348145, 2.2453999519348145, 2.245300054550171, 2.245300054550171, 2.24429988861084, 2.203900098800659, 2.1617000102996826, 2.216200113296509, 2.1465001106262207, 2.0754001140594482, 1.986799955368042, 1.6237000226974487, 2.0975000858306885, 1.8476999998092651, 1.6770000457763672, 1.794700026512146, 0.9391000270843506, 1.8930000066757202, 1.8863999843597412, 1.9386999607086182, 1.1474000215530396, 1.5749000310897827, 1.1617000102996826, 0.7483000159263611], \"logprob\": [30.0, 29.0, 28.0, 27.0, 26.0, 25.0, 24.0, 23.0, 22.0, 21.0, 20.0, 19.0, 18.0, 17.0, 16.0, 15.0, 14.0, 13.0, 12.0, 11.0, 10.0, 9.0, 8.0, 7.0, 6.0, 5.0, 4.0, 3.0, 2.0, 1.0, -5.953700065612793, -5.856500148773193, -6.019599914550781, -6.067299842834473, -6.143499851226807, -6.068299770355225, -6.164700031280518, -6.240200042724609, -6.264800071716309, -6.27810001373291, -6.315400123596191, -6.352700233459473, -6.402900218963623, -6.381199836730957, -6.399099826812744, -6.482399940490723, -6.5391998291015625, -6.571700096130371, -6.593100070953369, -6.604499816894531, -6.437600135803223, -6.686399936676025, -6.7382001876831055, -6.683800220489502, -6.243199825286865, -6.47629976272583, -6.8109002113342285, -6.75439977645874, -6.783899784088135, -6.346799850463867, -4.684500217437744, -5.137700080871582, -6.696499824523926, -4.304800033569336, -6.0904998779296875, -6.3694000244140625, -5.604899883270264, -5.473100185394287, -6.139100074768066, -4.624000072479248, -5.288899898529053, -6.2652997970581055, -5.17549991607666, -5.64870023727417, -4.167799949645996, -4.726600170135498, -5.450200080871582, -5.119200229644775, -5.504300117492676, -5.043399810791016, -5.727399826049805, -4.339600086212158, -5.339200019836426, -5.218200206756592, -5.224599838256836, -4.9899001121521, -5.267000198364258, -5.2418999671936035, -5.610599994659424, -5.765100002288818, -5.475200176239014, -4.8643999099731445, -5.427599906921387, -5.2108001708984375, -5.009799957275391, -5.265600204467773, -5.39739990234375, -5.263400077819824, -5.321100234985352, -5.311800003051758, -5.09630012512207, -4.963900089263916, -4.9893999099731445, -5.0391998291015625, -5.237100124359131, -5.428100109100342, -5.461400032043457, -5.475900173187256, -5.59060001373291, -5.678699970245361, -5.596799850463867, -5.637199878692627, -5.800899982452393, -5.811800003051758, -6.05109977722168, -6.054599761962891, -6.096499919891357, -6.118599891662598, -6.204599857330322, -6.22790002822876, -6.191400051116943, -6.236000061035156, -6.28439998626709, -6.334099769592285, -6.366000175476074, -6.4430999755859375, -6.425899982452393, -5.523799896240234, -6.46560001373291, -6.167300224304199, -6.416399955749512, -5.436500072479248, -5.832699775695801, -6.252099990844727, -6.207300186157227, -5.94189977645874, -6.2332000732421875, -5.159200191497803, -5.6479997634887695, -5.146100044250488, -6.024799823760986, -5.43209981918335, -5.61959981918335, -5.368800163269043, -5.306700229644775, -5.750100135803223, -5.691500186920166, -5.2515997886657715, -5.748300075531006, -5.111400127410889, -5.906799793243408, -5.7866997718811035, -5.785600185394287, -5.641300201416016, -5.629300117492676, -4.325099945068359, -5.061999797821045, -5.151500225067139, -5.281400203704834, -5.359899997711182, -5.36269998550415, -5.421899795532227, -5.50540018081665, -5.575500011444092, -5.567999839782715, -5.64769983291626, -5.661399841308594, -5.699399948120117, -5.698699951171875, -5.735199928283691, -5.776199817657471, -5.7779998779296875, -5.807700157165527, -5.85099983215332, -5.854800224304199, -5.849999904632568, -5.9095001220703125, -5.921999931335449, -5.967199802398682, -5.999100208282471, -6.06820011138916, -6.056099891662598, -6.130000114440918, -6.134200096130371, -6.1855998039245605, -6.103700160980225, -4.880799770355225, -4.784299850463867, -5.957799911499023, -5.263299942016602, -5.479499816894531, -5.931000232696533, -5.6880998611450195, -5.5767998695373535, -5.737299919128418, -4.952700138092041, -5.359899997711182, -5.121200084686279, -5.39139986038208, -5.638899803161621, -5.507800102233887, -5.058899879455566, -5.295899868011475, -5.652599811553955, -4.24560022354126, -4.588699817657471, -4.769999980926514, -4.8653998374938965, -5.0121002197265625, -5.014800071716309, -5.097700119018555, -5.158599853515625, -5.264599800109863, -5.254499912261963, -5.243899822235107, -5.219600200653076, -5.61299991607666, -5.503600120544434, -5.674499988555908, -5.695000171661377, -5.653500080108643, -5.728899955749512, -5.736700057983398, -5.699399948120117, -5.757199764251709, -5.729400157928467, -5.67579984664917, -5.833700180053711, -5.435299873352051, -5.903500080108643, -5.915500164031982, -5.926499843597412, -5.9328999519348145, -6.0233001708984375, -5.532100200653076, -5.487400054931641, -5.390399932861328, -5.519499778747559, -4.654099941253662, -4.447999954223633, -5.471099853515625, -5.624800205230713, -5.630000114440918, -5.531899929046631, -5.106299877166748, -5.303400039672852, -5.468100070953369, -5.528500080108643, -5.610599994659424, -4.342100143432617, -4.691999912261963, -4.753799915313721, -4.952300071716309, -4.93149995803833, -5.000500202178955, -5.127299785614014, -5.161900043487549, -5.222599983215332, -5.079800128936768, -5.244900226593018, -5.230299949645996, -5.21589994430542, -5.263800144195557, -5.314000129699707, -5.327600002288818, -5.320099830627441, -5.390399932861328, -5.460599899291992, -5.478499889373779, -5.497000217437744, -5.628600120544434, -5.609300136566162, -5.707300186157227, -5.680300235748291, -5.723400115966797, -5.71019983291626, -5.710299968719482, -5.718999862670898, -5.74970006942749, -5.455999851226807, -3.677299976348877, -5.195799827575684, -5.5630998611450195, -5.233799934387207, -5.052199840545654, -4.819399833679199, -4.283899784088135, -5.366199970245361, -4.994200229644775, -4.747000217437744, -4.964900016784668, -4.105100154876709, -5.105800151824951, -5.1020002365112305, -5.247000217437744, -5.043399810791016, -5.152900218963623, -5.237500190734863, -5.259399890899658]}, \"token.table\": {\"Topic\": [2, 3, 3, 4, 1, 2, 3, 4, 5, 4, 1, 5, 1, 1, 5, 2, 4, 2, 3, 2, 3, 1, 2, 3, 5, 1, 4, 4, 1, 4, 2, 3, 4, 5, 4, 4, 3, 5, 2, 3, 4, 5, 1, 5, 4, 5, 5, 5, 2, 1, 2, 3, 3, 1, 4, 3, 5, 3, 3, 3, 5, 4, 5, 2, 2, 5, 5, 2, 1, 2, 3, 5, 5, 1, 2, 3, 4, 1, 3, 3, 3, 4, 2, 5, 3, 2, 3, 5, 3, 5, 2, 1, 2, 3, 5, 1, 5, 5, 3, 4, 5, 1, 1, 2, 1, 5, 1, 5, 2, 1, 2, 2, 3, 1, 2, 3, 4, 4, 2, 2, 5, 4, 3, 1, 4, 2, 3, 5, 2, 3, 4, 5, 3, 2, 3, 1, 2, 3, 4, 5, 2, 5, 1, 5, 4, 1, 1, 2, 3, 4, 5, 1, 3, 5, 1, 2, 3, 4, 5, 1, 2, 4, 3, 3, 3, 5, 4, 4, 3, 5, 1, 2, 1, 2, 3, 4, 5, 1, 2, 4, 1, 2, 5, 1, 2, 3, 5, 2, 4, 5, 5, 2, 3, 5, 2, 3, 1, 1, 4, 5, 1, 3, 1, 4, 2, 3, 1, 5, 3, 1, 2, 3, 4, 1, 4, 2, 5, 1, 2, 3, 4, 3, 1, 2, 5, 1, 3, 4, 1, 2, 3, 4, 3, 1, 2, 5, 5, 1, 2, 5, 2, 5, 5, 1, 2, 3, 4, 2, 1, 2, 3, 5, 2, 4, 4, 1, 1, 2, 3, 4, 5, 1, 2, 2, 1, 1, 1, 5, 1, 3, 2, 1, 3, 4, 5, 4, 1, 3, 5, 4, 4, 3, 4, 1, 2, 4, 1, 2, 5, 2, 5, 2, 1, 2, 3, 5, 3, 2, 3, 1, 2, 2, 1, 4, 4, 1, 2, 3, 2, 3, 4, 2, 1, 3, 4, 5, 3, 5, 2, 4, 5, 2, 2, 4, 1, 3, 4, 2, 1, 2, 4, 5, 4, 1, 2, 3, 4, 5, 1, 3, 5, 1, 2, 3, 4, 5, 1, 4, 5, 4, 1, 3, 1, 2, 3, 5, 3, 4, 2, 1, 1, 3, 4, 3, 1, 1, 1, 2, 5, 1, 2, 3, 4, 4, 1, 3, 1, 2, 3, 1, 1, 5, 1, 1, 2, 5, 1, 2, 3, 4, 4, 2, 1, 3, 1, 2, 2, 4, 1, 5, 2, 1, 3, 1, 3, 4, 1, 1, 2, 3, 4, 5, 1, 5, 1, 1, 2, 3, 5, 3, 2, 3, 1, 1, 2, 3, 4, 1, 2, 3, 5, 1, 2, 4, 3, 3, 1, 2, 3, 5, 1, 2, 3, 4, 5, 3, 1, 1, 2, 3, 4, 4, 1, 5, 1, 1, 2, 5, 1, 2, 3, 4, 1, 2, 3, 4], \"Freq\": [0.10807070136070251, 0.8899940252304077, 0.9963183999061584, 0.9961252808570862, 0.659223735332489, 0.2433868795633316, 0.025684041902422905, 0.006115248426795006, 0.06604468077421188, 0.9882531762123108, 0.9809588193893433, 0.011275389231741428, 0.9902167916297913, 0.3321905732154846, 0.6643811464309692, 0.9864444136619568, 0.006089163012802601, 0.9904128909111023, 0.9890511631965637, 0.09481580555438995, 0.9032452702522278, 0.0347711555659771, 0.7765557765960693, 0.01931730844080448, 0.16999231278896332, 0.24182523787021637, 0.7509309649467468, 0.9969907402992249, 0.12203629314899445, 0.873522937297821, 0.5665192008018494, 0.053319454193115234, 0.36323878169059753, 0.01666232943534851, 0.9962201118469238, 0.996661365032196, 0.992120087146759, 0.9933834075927734, 0.04682671278715134, 0.11238411068916321, 0.1404801458120346, 0.6977180242538452, 0.9922963976860046, 0.9953965544700623, 0.987709641456604, 0.996636152267456, 0.9960337281227112, 0.996942400932312, 0.9945643544197083, 0.9719477891921997, 0.006545103155076504, 0.019635308533906937, 0.9982413649559021, 0.9941418766975403, 0.9909877777099609, 0.604132890701294, 0.3934812843799591, 0.9921025037765503, 0.9966353178024292, 0.9885075688362122, 0.9939272403717041, 0.15978406369686127, 0.8362032771110535, 0.9895738959312439, 0.3058474063873291, 0.6904736757278442, 0.9924472570419312, 0.9940858483314514, 0.23716942965984344, 0.11331427842378616, 0.08696212619543076, 0.5613009929656982, 0.9942054152488708, 0.9004349708557129, 0.01118552777916193, 0.061520401388406754, 0.027963818982243538, 0.02527843602001667, 0.9690067172050476, 0.9952111840248108, 0.9963164329528809, 0.9842672348022461, 0.6632269024848938, 0.33418411016464233, 0.9925652742385864, 0.8850498199462891, 0.05446460470557213, 0.0590033195912838, 0.974405825138092, 0.0174001045525074, 0.9976215958595276, 0.8666406273841858, 0.01593821868300438, 0.10359842330217361, 0.01593821868300438, 0.9971344470977783, 0.9882023930549622, 0.9969042539596558, 0.22230438888072968, 0.7780653238296509, 0.99570631980896, 0.9936661720275879, 0.9960971474647522, 0.9969836473464966, 0.04900551959872246, 0.9510133862495422, 0.08713510632514954, 0.911567211151123, 0.994709849357605, 0.9960192441940308, 0.9899989366531372, 0.992577850818634, 0.009276428259909153, 0.8797305226325989, 0.004026226699352264, 0.06441962718963623, 0.050327833741903305, 0.994854748249054, 0.9974033236503601, 0.9799608588218689, 0.01798093318939209, 0.9917469024658203, 0.9915972352027893, 0.9915902614593506, 0.9934550523757935, 0.13903509080410004, 0.09269006550312042, 0.764693021774292, 0.534575343132019, 0.27986592054367065, 0.053457535803318024, 0.12892699241638184, 0.9968931674957275, 0.059613365679979324, 0.9382625222206116, 0.2930583655834198, 0.29116764664649963, 0.06995586305856705, 0.34221652150154114, 0.0018906990299001336, 0.9902864694595337, 0.9898551106452942, 0.988299548625946, 0.007009216584265232, 0.9992536902427673, 0.9906668663024902, 0.9492526650428772, 0.011321362107992172, 0.011321362107992172, 0.008708739653229713, 0.0191592276096344, 0.94613116979599, 0.03664592653512955, 0.013325790874660015, 0.8225417733192444, 0.0044865915551781654, 0.041874852031469345, 0.12712009251117706, 0.005982121918350458, 0.7329002618789673, 0.005272664129734039, 0.26187562942504883, 0.9946341514587402, 0.9993630647659302, 0.9946350455284119, 0.9942027926445007, 0.9972921013832092, 0.9902701377868652, 0.9940018057823181, 0.991089940071106, 0.9982506036758423, 0.9947468042373657, 0.04554898664355278, 0.6262985467910767, 0.10248521715402603, 0.02277449332177639, 0.20269298553466797, 0.28836938738822937, 0.7095404267311096, 0.9962635636329651, 0.06773199886083603, 0.2031959891319275, 0.7281189560890198, 0.11553720384836197, 0.8164629340171814, 0.023107441142201424, 0.04621488228440285, 0.008349733427166939, 0.9852685928344727, 0.9924390912055969, 0.9939371943473816, 0.3112163245677948, 0.684675931930542, 0.9988480806350708, 0.9894689917564392, 0.9984227418899536, 0.9979918599128723, 0.9806070923805237, 0.002628973452374339, 0.017088327556848526, 0.9263963103294373, 0.06957126408815384, 0.08780749887228012, 0.9073441624641418, 0.9985405802726746, 0.999017059803009, 0.9854989051818848, 0.007141296751797199, 0.9938058853149414, 0.9305656552314758, 0.0035248699132353067, 0.03407374396920204, 0.031723830848932266, 0.1296623945236206, 0.8671172857284546, 0.9903775453567505, 0.991692304611206, 0.7615110278129578, 0.006907129660248756, 0.18994607031345367, 0.04144277796149254, 0.9951115250587463, 0.21277323365211487, 0.7836282849311829, 0.9918510317802429, 0.998197078704834, 0.9930106401443481, 0.9953486323356628, 0.9027460813522339, 0.042842186987400055, 0.0030601562466472387, 0.05202265456318855, 0.9963067770004272, 0.9973394274711609, 0.9912253618240356, 0.9921172857284546, 0.9966450929641724, 0.05217589810490608, 0.08944439888000488, 0.8571754693984985, 0.9907755255699158, 0.9890537261962891, 0.9894711375236511, 0.938196063041687, 0.018396001309156418, 0.0022995001636445522, 0.041391003876924515, 0.9947347640991211, 0.7772228717803955, 0.053088992834091187, 0.021235596388578415, 0.1486491858959198, 0.11427029222249985, 0.8815136551856995, 0.9934518337249756, 0.9936132431030273, 0.8539579510688782, 0.05260380730032921, 0.035524651408195496, 0.028009820729494095, 0.029376152902841568, 0.004487378057092428, 0.9917104840278625, 0.9963439106941223, 0.9925128221511841, 0.9963560104370117, 0.9947584271430969, 0.9974481463432312, 0.6050893664360046, 0.3937641680240631, 0.9955660700798035, 0.4820181429386139, 0.5110554099082947, 0.005807447712868452, 0.9976609349250793, 0.9972980618476868, 0.055646494030952454, 0.9088926911354065, 0.037097662687301636, 0.9985546469688416, 0.9957714676856995, 0.9925805330276489, 0.995495080947876, 0.9424262642860413, 0.01075010932981968, 0.046583808958530426, 0.8882831335067749, 0.010229747742414474, 0.10059252381324768, 0.7956196665763855, 0.20261120796203613, 0.9985485076904297, 0.037940047681331635, 0.7419386506080627, 0.20656247437000275, 0.008431121706962585, 0.9931982159614563, 0.9905617833137512, 0.008844301104545593, 0.9928518533706665, 0.0063238972797989845, 0.9966615438461304, 0.930250883102417, 0.07068775594234467, 0.9949121475219727, 0.021120034158229828, 0.9433615207672119, 0.035200055688619614, 0.42091885209083557, 0.5528067946434021, 0.022449005395174026, 0.9962178468704224, 0.37638431787490845, 0.5563942193984985, 0.06363985687494278, 0.0018182817148044705, 0.9931348562240601, 0.9874597787857056, 0.07513772696256638, 0.5948403477668762, 0.32977113127708435, 0.9902917146682739, 0.9977843165397644, 0.9971781969070435, 0.8511039614677429, 0.09766766428947449, 0.04983044043183327, 0.996005117893219, 0.026627955958247185, 0.9652634263038635, 0.9969285726547241, 0.9968076348304749, 0.995863676071167, 0.18083171546459198, 0.11927198618650436, 0.10388205200433731, 0.45785051584243774, 0.13850940763950348, 0.007860631681978703, 0.8803907632827759, 0.10611853003501892, 0.8595963716506958, 0.03916626423597336, 0.024736586958169937, 0.07627113908529282, 0.002061382168903947, 0.9635570645332336, 0.03410821408033371, 0.9915664792060852, 0.9899542331695557, 0.16281050443649292, 0.8344038128852844, 0.19905288517475128, 0.13270191848278046, 0.03686164319515228, 0.6303341388702393, 0.9967653155326843, 0.9943211674690247, 0.9947304725646973, 0.9875828623771667, 0.9288226962089539, 0.058887895196676254, 0.013383612036705017, 0.9926008582115173, 0.9928483963012695, 0.9964024424552917, 0.9970823526382446, 0.9986104369163513, 0.9929564595222473, 0.5459333658218384, 0.05570748820900917, 0.044565990567207336, 0.3509571850299835, 0.9869324564933777, 0.049099188297986984, 0.9502136707305908, 0.09998159110546112, 0.7561107873916626, 0.1437235325574875, 0.995255708694458, 0.9925102591514587, 0.9874589443206787, 0.9959455728530884, 0.01100694015622139, 0.45600178837776184, 0.5314779877662659, 0.896949052810669, 0.023117244243621826, 0.05316966027021408, 0.02774069271981716, 0.9984015226364136, 0.9978968501091003, 0.9844274520874023, 0.010758770629763603, 0.35194188356399536, 0.6488928198814392, 0.11724426597356796, 0.8793320059776306, 0.4927513301372528, 0.5070340037345886, 0.9893673062324524, 0.9790582060813904, 0.01858971267938614, 0.8862504959106445, 0.004958044737577438, 0.10907698422670364, 0.995445191860199, 0.7603211998939514, 0.13302569091320038, 0.06102096289396286, 0.02562880329787731, 0.020747127011418343, 0.09600088745355606, 0.8982940316200256, 0.9950243830680847, 0.8543583750724792, 0.0024066432379186153, 0.024066433310508728, 0.11792551726102829, 0.9972895383834839, 0.9885726571083069, 0.008203922770917416, 0.9899117946624756, 0.044447824358940125, 0.3472486138343811, 0.5667097568511963, 0.04166983440518379, 0.32757288217544556, 0.22147640585899353, 0.18235333263874054, 0.26855671405792236, 0.9846411347389221, 0.012787546962499619, 0.006393773481249809, 0.9944961071014404, 0.9890331029891968, 0.8739099502563477, 0.005171064753085375, 0.07756596803665161, 0.041368518024683, 0.9201884269714355, 0.022197527810931206, 0.02623344212770462, 0.028251398354768753, 0.9882944822311401, 0.9974017143249512, 0.9967768788337708, 0.7172772884368896, 0.015443769283592701, 0.10810638964176178, 0.1595856249332428, 0.998393177986145, 0.03065614216029644, 0.9605591297149658, 0.997025191783905, 0.6864645481109619, 0.09210789948701859, 0.22244925796985626, 0.8150009512901306, 0.0030959199648350477, 0.16795365512371063, 0.01393163949251175, 0.04715075343847275, 0.29811444878578186, 0.12167936563491821, 0.5323472023010254], \"Term\": [\"act\", \"act\", \"action\", \"age\", \"also\", \"also\", \"also\", \"also\", \"also\", \"although\", \"anyth\", \"anyth\", \"anyway\", \"applic\", \"applic\", \"april\", \"april\", \"associ\", \"attack\", \"author\", \"author\", \"avail\", \"avail\", \"avail\", \"avail\", \"averag\", \"averag\", \"bad\", \"ball\", \"ball\", \"base\", \"base\", \"base\", \"base\", \"basebal\", \"bat\", \"bill\", \"bio\", \"bit\", \"bit\", \"bit\", \"bit\", \"black\", \"board\", \"brave\", \"bu\", \"cabl\", \"card\", \"carri\", \"caus\", \"caus\", \"caus\", \"center\", \"certainli\", \"chanc\", \"chang\", \"chang\", \"children\", \"citi\", \"citizen\", \"color\", \"com\", \"com\", \"commerci\", \"comput\", \"comput\", \"connect\", \"consid\", \"control\", \"control\", \"control\", \"control\", \"controller_card\", \"could\", \"could\", \"could\", \"could\", \"countri\", \"countri\", \"crime\", \"crimin\", \"cub\", \"data\", \"data\", \"death\", \"design\", \"design\", \"design\", \"detail\", \"detail\", \"develop\", \"differ\", \"differ\", \"differ\", \"differ\", \"diseas\", \"disk\", \"disk_driv\", \"divis\", \"divis\", \"do\", \"doctor\", \"done\", \"dr\", \"drive\", \"drive\", \"driver\", \"driver\", \"earth\", \"eat\", \"effort\", \"engin\", \"engin\", \"even\", \"even\", \"even\", \"even\", \"evid\", \"experi\", \"explain\", \"explain\", \"fan\", \"fbi\", \"feel\", \"field\", \"file\", \"file\", \"file\", \"find\", \"find\", \"find\", \"find\", \"fire\", \"firearm\", \"firearm\", \"first\", \"first\", \"first\", \"first\", \"first\", \"flight\", \"floppy_disk\", \"food\", \"food\", \"game\", \"gateway\", \"get\", \"get\", \"get\", \"get\", \"get\", \"give\", \"give\", \"give\", \"go\", \"go\", \"go\", \"go\", \"go\", \"good\", \"good\", \"good\", \"govern\", \"gun\", \"handgun\", \"hard_disk\", \"hit\", \"hitter\", \"homicid\", \"ide\", \"idea\", \"imag\", \"includ\", \"includ\", \"includ\", \"includ\", \"includ\", \"increas\", \"increas\", \"indic\", \"info\", \"info\", \"info\", \"inform\", \"inform\", \"inform\", \"inform\", \"injuri\", \"injuri\", \"instal\", \"interfac\", \"issu\", \"issu\", \"jumper\", \"keyboard\", \"kill\", \"kind\", \"know\", \"know\", \"know\", \"last\", \"last\", \"last_year\", \"last_year\", \"launch\", \"law\", \"lead\", \"lead\", \"licens\", \"like\", \"like\", \"like\", \"like\", \"lost\", \"lost\", \"lunar\", \"machin\", \"make\", \"make\", \"make\", \"make\", \"man\", \"market\", \"market\", \"mb\", \"medic\", \"member\", \"met\", \"might\", \"might\", \"might\", \"might\", \"military_weapon\", \"mine\", \"mission\", \"mode\", \"model\", \"monitor\", \"monitor\", \"monitor\", \"moon\", \"motherboard\", \"msg\", \"much\", \"much\", \"much\", \"much\", \"nasa\", \"need\", \"need\", \"need\", \"need\", \"new_york\", \"new_york\", \"offens\", \"often\", \"one\", \"one\", \"one\", \"one\", \"one\", \"oper\", \"oper\", \"orbit\", \"other\", \"pain\", \"patient\", \"pc\", \"peopl\", \"peopl\", \"period\", \"person\", \"person\", \"person\", \"pin\", \"pitch\", \"plan\", \"plan\", \"plan\", \"play\", \"player\", \"popul\", \"predict\", \"probabl\", \"probabl\", \"probabl\", \"problem\", \"problem\", \"problem\", \"program\", \"program\", \"project\", \"provid\", \"provid\", \"provid\", \"provid\", \"public\", \"publish\", \"publish\", \"quit\", \"quit\", \"reach\", \"realli\", \"realli\", \"red\", \"refer\", \"refer\", \"refer\", \"report\", \"report\", \"report\", \"research\", \"right\", \"right\", \"right\", \"right\", \"rocket\", \"rom_bio\", \"run\", \"run\", \"run\", \"safeti\", \"satellit\", \"save\", \"say\", \"say\", \"say\", \"scienc\", \"scientif\", \"scientif\", \"score\", \"scsi\", \"season\", \"second\", \"second\", \"second\", \"second\", \"second\", \"section\", \"section\", \"section\", \"see\", \"see\", \"see\", \"see\", \"see\", \"seem\", \"seem\", \"seri\", \"seriou\", \"servic\", \"servic\", \"set\", \"set\", \"set\", \"set\", \"shall\", \"shot\", \"shuttl\", \"simpli\", \"sinc\", \"sinc\", \"sinc\", \"site\", \"someon\", \"someth\", \"soon\", \"space\", \"st_st\", \"start\", \"start\", \"start\", \"start\", \"stat\", \"state\", \"state\", \"studi\", \"studi\", \"studi\", \"suppos\", \"surrend\", \"switch\", \"symptom\", \"system\", \"system\", \"system\", \"take\", \"take\", \"take\", \"take\", \"team\", \"technolog\", \"tell\", \"tell\", \"test\", \"test\", \"th\", \"th\", \"thank\", \"thank\", \"theori\", \"thing\", \"thing\", \"think\", \"think\", \"think\", \"though\", \"time\", \"time\", \"time\", \"time\", \"time\", \"transfer\", \"transfer\", \"treatment\", \"tri\", \"tri\", \"tri\", \"tri\", \"united_st\", \"univers\", \"univers\", \"unless\", \"us\", \"us\", \"us\", \"us\", \"use\", \"use\", \"use\", \"use\", \"usual\", \"usual\", \"usual\", \"vancouv\", \"violat\", \"want\", \"want\", \"want\", \"want\", \"way\", \"way\", \"way\", \"way\", \"wd\", \"weapon\", \"week\", \"well\", \"well\", \"well\", \"well\", \"win\", \"window\", \"window\", \"wonder\", \"work\", \"work\", \"work\", \"would\", \"would\", \"would\", \"would\", \"year\", \"year\", \"year\", \"year\"]}, \"R\": 30, \"lambda.step\": 0.01, \"plot.opts\": {\"xlab\": \"PC1\", \"ylab\": \"PC2\"}, \"topic.order\": [5, 1, 3, 4, 2]};\n",
       "\n",
       "function LDAvis_load_lib(url, callback){\n",
       "  var s = document.createElement('script');\n",
       "  s.src = url;\n",
       "  s.async = true;\n",
       "  s.onreadystatechange = s.onload = callback;\n",
       "  s.onerror = function(){console.warn(\"failed to load library \" + url);};\n",
       "  document.getElementsByTagName(\"head\")[0].appendChild(s);\n",
       "}\n",
       "\n",
       "if(typeof(LDAvis) !== \"undefined\"){\n",
       "   // already loaded: just create the visualization\n",
       "   !function(LDAvis){\n",
       "       new LDAvis(\"#\" + \"ldavis_el89325526934888764917985\", ldavis_el89325526934888764917985_data);\n",
       "   }(LDAvis);\n",
       "}else if(typeof define === \"function\" && define.amd){\n",
       "   // require.js is available: use it to load d3/LDAvis\n",
       "   require.config({paths: {d3: \"https://cdnjs.cloudflare.com/ajax/libs/d3/3.5.5/d3.min\"}});\n",
       "   require([\"d3\"], function(d3){\n",
       "      window.d3 = d3;\n",
       "      LDAvis_load_lib(\"https://cdn.rawgit.com/bmabey/pyLDAvis/files/ldavis.v1.0.0.js\", function(){\n",
       "        new LDAvis(\"#\" + \"ldavis_el89325526934888764917985\", ldavis_el89325526934888764917985_data);\n",
       "      });\n",
       "    });\n",
       "}else{\n",
       "    // require.js not available: dynamically load d3 & LDAvis\n",
       "    LDAvis_load_lib(\"https://cdnjs.cloudflare.com/ajax/libs/d3/3.5.5/d3.min.js\", function(){\n",
       "         LDAvis_load_lib(\"https://cdn.rawgit.com/bmabey/pyLDAvis/files/ldavis.v1.0.0.js\", function(){\n",
       "                 new LDAvis(\"#\" + \"ldavis_el89325526934888764917985\", ldavis_el89325526934888764917985_data);\n",
       "            })\n",
       "         });\n",
       "}\n",
       "</script>"
      ],
      "text/plain": [
       "PreparedData(topic_coordinates=              x         y  topics  cluster       Freq\n",
       "topic                                                \n",
       "4      0.109100 -0.065112       1        1  34.517281\n",
       "0     -0.084901 -0.110389       2        1  23.672710\n",
       "2      0.139126 -0.192575       3        1  18.531710\n",
       "3      0.158232  0.297800       4        1  12.788357\n",
       "1     -0.321557  0.070276       5        1  10.489937, topic_info=     Category         Freq         Term        Total  loglift  logprob\n",
       "549   Default   652.000000        drive   652.000000  30.0000  30.0000\n",
       "720   Default   574.000000          gun   574.000000  29.0000  29.0000\n",
       "508   Default   635.000000       system   635.000000  28.0000  28.0000\n",
       "961   Default   429.000000         game   429.000000  27.0000  27.0000\n",
       "39    Default  1508.000000          use  1508.000000  26.0000  26.0000\n",
       "65    Default  1148.000000          get  1148.000000  25.0000  25.0000\n",
       "321   Default   319.000000         card   319.000000  24.0000  24.0000\n",
       "107   Default  1292.000000        would  1292.000000  23.0000  23.0000\n",
       "69    Default   760.000000         know   760.000000  22.0000  22.0000\n",
       "589   Default   657.000000         year   657.000000  21.0000  21.0000\n",
       "118   Default   304.000000          hit   304.000000  20.0000  20.0000\n",
       "314   Default   479.000000          run   479.000000  19.0000  19.0000\n",
       "134   Default   806.000000        think   806.000000  18.0000  18.0000\n",
       "717   Default   385.000000      firearm   385.000000  17.0000  17.0000\n",
       "70    Default   851.000000         like   851.000000  16.0000  16.0000\n",
       "570   Default   387.000000       launch   387.000000  15.0000  15.0000\n",
       "2609  Default   377.000000     satellit   377.000000  14.0000  14.0000\n",
       "582   Default   346.000000        state   346.000000  13.0000  13.0000\n",
       "1319  Default   254.000000         team   254.000000  12.0000  12.0000\n",
       "131   Default   359.000000        space   359.000000  11.0000  11.0000\n",
       "669   Default   225.000000         scsi   225.000000  10.0000  10.0000\n",
       "169   Default  1463.000000          one  1463.000000   9.0000   9.0000\n",
       "1403  Default   212.000000       jumper   212.000000   8.0000   8.0000\n",
       "965   Default   231.000000         play   231.000000   7.0000   7.0000\n",
       "547   Default   379.000000      control   379.000000   6.0000   6.0000\n",
       "116   Default   568.000000         good   568.000000   5.0000   5.0000\n",
       "80    Default   657.000000        peopl   657.000000   4.0000   4.0000\n",
       "1020  Default   275.000000          law   275.000000   3.0000   3.0000\n",
       "967   Default   389.000000         data   389.000000   2.0000   2.0000\n",
       "419   Default   484.000000        thing   484.000000   1.0000   1.0000\n",
       "...       ...          ...          ...          ...      ...      ...\n",
       "4125   Topic5   100.586487           bu   101.340897   2.2473  -5.4970\n",
       "895    Topic5    88.185272          msg    88.936401   2.2463  -5.6286\n",
       "658    Topic5    89.901970         mode    90.715080   2.2458  -5.6093\n",
       "1058   Topic5    81.509071    disk_driv    82.254639   2.2456  -5.7073\n",
       "1183   Topic5    83.735329        color    84.513229   2.2455  -5.6803\n",
       "531    Topic5    80.209770         disk    80.955078   2.2455  -5.7234\n",
       "835    Topic5    81.268593       switch    82.028725   2.2454  -5.7102\n",
       "5968   Topic5    81.262131      rom_bio    82.028656   2.2454  -5.7103\n",
       "1196   Topic5    80.560722         cabl    81.322548   2.2453  -5.7190\n",
       "2291   Topic5    78.122528  motherboard    78.863258   2.2453  -5.7497\n",
       "1161   Topic5   104.793953         seri   105.893051   2.2443  -5.4560\n",
       "549    Topic5   620.632507        drive   652.987671   2.2039  -3.6773\n",
       "1201   Topic5   135.937927       driver   149.193604   2.1617  -5.1958\n",
       "931    Topic5    94.154327       window    97.859673   2.2162  -5.5631\n",
       "1287   Topic5   130.868484     transfer   145.831985   2.1465  -5.2338\n",
       "857    Topic5   156.923386          com   187.753387   2.0754  -5.0522\n",
       "2232   Topic5   198.055618         file   258.927429   1.9868  -4.8194\n",
       "508    Topic5   338.348846       system   635.962402   1.6237  -4.2839\n",
       "336    Topic5   114.640678      monitor   134.161560   2.0975  -5.3662\n",
       "740    Topic5   166.300095       applic   249.856567   1.8477  -4.9942\n",
       "547    Topic5   212.935272      control   379.475555   1.6770  -4.7470\n",
       "772    Topic5   171.250778          set   271.284698   1.7947  -4.9649\n",
       "39     Topic5   404.607971          use  1508.061279   0.9391  -4.1051\n",
       "561    Topic5   148.733154          bit   213.553314   1.8930  -5.1058\n",
       "437    Topic5   149.302170       comput   215.793884   1.8864  -5.1020\n",
       "535    Topic5   129.157761         info   177.168854   1.9387  -5.2470\n",
       "314    Topic5   158.315704          run   479.120148   1.1474  -5.0434\n",
       "155    Topic5   141.900604        thank   280.060120   1.5749  -5.1529\n",
       "967    Topic5   130.390091         data   389.007141   1.1617  -5.2375\n",
       "774    Topic5   127.565681         work   575.412109   0.7483  -5.2594\n",
       "\n",
       "[299 rows x 6 columns], token_table=      Topic      Freq      Term\n",
       "term                           \n",
       "1162      2  0.108071       act\n",
       "1162      3  0.889994       act\n",
       "3635      3  0.996318    action\n",
       "0         4  0.996125       age\n",
       "46        1  0.659224      also\n",
       "46        2  0.243387      also\n",
       "46        3  0.025684      also\n",
       "46        4  0.006115      also\n",
       "46        5  0.066045      also\n",
       "1322      4  0.988253  although\n",
       "519       1  0.980959     anyth\n",
       "519       5  0.011275     anyth\n",
       "645       1  0.990217    anyway\n",
       "740       1  0.332191    applic\n",
       "740       5  0.664381    applic\n",
       "2427      2  0.986444     april\n",
       "2427      4  0.006089     april\n",
       "2432      2  0.990413    associ\n",
       "185       3  0.989051    attack\n",
       "186       2  0.094816    author\n",
       "186       3  0.903245    author\n",
       "681       1  0.034771     avail\n",
       "681       2  0.776556     avail\n",
       "681       3  0.019317     avail\n",
       "681       5  0.169992     avail\n",
       "2437      1  0.241825    averag\n",
       "2437      4  0.750931    averag\n",
       "310       4  0.996991       bad\n",
       "1108      1  0.122036      ball\n",
       "1108      4  0.873523      ball\n",
       "...     ...       ...       ...\n",
       "139       1  0.873910      want\n",
       "139       2  0.005171      want\n",
       "139       3  0.077566      want\n",
       "139       5  0.041369      want\n",
       "516       1  0.920188       way\n",
       "516       2  0.022198       way\n",
       "516       3  0.026233       way\n",
       "516       4  0.028251       way\n",
       "3416      5  0.988294        wd\n",
       "982       3  0.997402    weapon\n",
       "795       1  0.996777      week\n",
       "105       1  0.717277      well\n",
       "105       2  0.015444      well\n",
       "105       3  0.108106      well\n",
       "105       4  0.159586      well\n",
       "1320      4  0.998393       win\n",
       "931       1  0.030656    window\n",
       "931       5  0.960559    window\n",
       "180       1  0.997025    wonder\n",
       "774       1  0.686465      work\n",
       "774       2  0.092108      work\n",
       "774       5  0.222449      work\n",
       "107       1  0.815001     would\n",
       "107       2  0.003096     would\n",
       "107       3  0.167954     would\n",
       "107       4  0.013932     would\n",
       "589       1  0.047151      year\n",
       "589       2  0.298114      year\n",
       "589       3  0.121679      year\n",
       "589       4  0.532347      year\n",
       "\n",
       "[466 rows x 3 columns], R=30, lambda_step=0.01, plot_opts={'xlab': 'PC1', 'ylab': 'PC2'}, topic_order=[5, 1, 3, 4, 2])"
      ]
     },
     "execution_count": 35,
     "metadata": {},
     "output_type": "execute_result"
    }
   ],
   "source": [
    "pyLDAvis.enable_notebook()\n",
    "vis = pyLDAvis.gensim.prepare(lda_model, corpus, id2word)\n",
    "vis"
   ]
  },
  {
   "cell_type": "markdown",
   "metadata": {},
   "source": [
    "Getting topics probabilities & the most probable predicted topic for test corpus. Setup minimum_probability to 0.0 in order not to discard anything"
   ]
  },
  {
   "cell_type": "code",
   "execution_count": 28,
   "metadata": {},
   "outputs": [],
   "source": [
    "test_vecs = []\n",
    "preds_test = []\n",
    "for i in range(len(data_test.data)):\n",
    "    top_topics = lda_model.get_document_topics(corpus_test[i], minimum_probability=0.0)\n",
    "    topic_vec = [top_topics[i][1] for i in range(5)]\n",
    "    test_vecs.append(topic_vec)\n",
    "    preds_test.append(np.argmax(topic_vec))"
   ]
  },
  {
   "cell_type": "code",
   "execution_count": 29,
   "metadata": {},
   "outputs": [],
   "source": [
    "train_vecs = []\n",
    "preds_train = []\n",
    "for i in range(len(data_train.data)):\n",
    "    top_topics = lda_model.get_document_topics(corpus[i], minimum_probability=0.0)\n",
    "    topic_vec = [top_topics[i][1] for i in range(5)]\n",
    "    train_vecs.append(topic_vec)\n",
    "    preds_train.append(np.argmax(topic_vec))"
   ]
  },
  {
   "cell_type": "markdown",
   "metadata": {},
   "source": [
    "Distances between topics. The greener - the more different topics are"
   ]
  },
  {
   "cell_type": "code",
   "execution_count": 31,
   "metadata": {},
   "outputs": [
    {
     "data": {
      "image/png": "[encoded data removed]",
      "text/plain": [
       "<Figure size 576x576 with 1 Axes>"
      ]
     },
     "metadata": {
      "needs_background": "light"
     },
     "output_type": "display_data"
    }
   ],
   "source": [
    "dist_matrix = lda_model.diff(lda_model)[0] \n",
    "plt.figure(figsize=(8,8))\n",
    "plt.pcolor(dist_matrix,cmap='RdYlGn')\n",
    "plt.show()"
   ]
  },
  {
   "cell_type": "code",
   "execution_count": 32,
   "metadata": {},
   "outputs": [],
   "source": [
    "from sklearn.preprocessing import StandardScaler\n",
    "from sklearn.linear_model import LogisticRegression"
   ]
  },
  {
   "cell_type": "code",
   "execution_count": 33,
   "metadata": {},
   "outputs": [
    {
     "name": "stdout",
     "output_type": "stream",
     "text": [
      "              precision    recall  f1-score   support\n",
      "\n",
      "           0       0.90      0.87      0.89       392\n",
      "           1       0.93      0.81      0.87       397\n",
      "           2       0.57      0.67      0.62       396\n",
      "           3       0.69      0.68      0.69       394\n",
      "           4       0.82      0.83      0.83       364\n",
      "\n",
      "    accuracy                           0.77      1943\n",
      "   macro avg       0.78      0.77      0.78      1943\n",
      "weighted avg       0.78      0.77      0.78      1943\n",
      "\n"
     ]
    }
   ],
   "source": [
    "X_train = np.array(train_vecs)\n",
    "y_train = np.array(y_train)\n",
    "X_test= np.array(test_vecs)\n",
    "y_test = np.array(y_test)\n",
    "\n",
    "\n",
    "scaler = StandardScaler()\n",
    "X_train_scale = scaler.fit_transform(X_train)\n",
    "X_test_scale = scaler.transform(X_test)\n",
    "\n",
    "# Logisitic Regression\n",
    "lr = LogisticRegression(solver = \"lbfgs\", multi_class = \"auto\", random_state =42).fit(X_train_scale, y_train)\n",
    "\n",
    "y_pred = lr.predict(X_test_scale)\n",
    "print(classification_report(y_test, y_pred))"
   ]
  },
  {
   "cell_type": "code",
   "execution_count": null,
   "metadata": {},
   "outputs": [],
   "source": []
  }
 ],
 "metadata": {
  "kernelspec": {
   "display_name": "Python 3",
   "language": "python",
   "name": "python3"
  },
  "language_info": {
   "codemirror_mode": {
    "name": "ipython",
    "version": 3
   },
   "file_extension": ".py",
   "mimetype": "text/x-python",
   "name": "python",
   "nbconvert_exporter": "python",
   "pygments_lexer": "ipython3",
   "version": "3.8.5"
  },
  "toc": {
   "base_numbering": 1,
   "nav_menu": {},
   "number_sections": true,
   "sideBar": true,
   "skip_h1_title": true,
   "title_cell": "Table of Contents",
   "title_sidebar": "Contents",
   "toc_cell": false,
   "toc_position": {},
   "toc_section_display": true,
   "toc_window_display": false
  }
 },
 "nbformat": 4,
 "nbformat_minor": 2
}
