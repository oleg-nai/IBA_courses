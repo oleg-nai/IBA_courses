{
 "cells": [
  {
   "cell_type": "markdown",
   "metadata": {},
   "source": [
    "# Home assignment \"BAD WORDS\""
   ]
  },
  {
   "cell_type": "markdown",
   "metadata": {},
   "source": [
    "__Задача:__ создать свое регулярное выражение для поиска русских матных слов, которые «шифруют», т.е. заменяют часть букв на знаки (с..ки, де**л и т.п.). При этом хорошие слова отлавливаться не должны.\n",
    "\n",
    "Творческое задание, исчерпывающий список не требуется, но креативность поощряется. \n",
    "\n",
    "False Positive сильно штрафуются.\n",
    "\n",
    "Отправить jupyter notebook с выполненным заданием на почту NHryshchuk@ibagroup.eu с темой «Bad words Full Name»\n",
    "\n",
    "https://regex101.com - хороший сайт для создания регулярок\n"
   ]
  },
  {
   "cell_type": "code",
   "execution_count": null,
   "metadata": {},
   "outputs": [],
   "source": [
    "import re"
   ]
  },
  {
   "cell_type": "code",
   "execution_count": null,
   "metadata": {},
   "outputs": [],
   "source": [
    "reg_exp = re.compile(\"your regexp here\")"
   ]
  },
  {
   "cell_type": "code",
   "execution_count": null,
   "metadata": {},
   "outputs": [],
   "source": [
    "# дополните списки positives и negatives кейсами для тестирвоания регексов\n",
    "negatives = \"с. Лесное хулиган\"\n",
    "positives = \"с..ки де**л \""
   ]
  },
  {
   "cell_type": "code",
   "execution_count": null,
   "metadata": {},
   "outputs": [],
   "source": [
    "# все слова в списке positives должны отлавливаться регексами. Это будут True Positives. Если не отловятся - False Negatives\n",
    "reg_exp.findall(str(positives))"
   ]
  },
  {
   "cell_type": "code",
   "execution_count": null,
   "metadata": {},
   "outputs": [],
   "source": [
    "# все слова в списке negatives не должны отлавливаться регексами. Это будут True Negatives. Если отловятся - False Positives\n",
    "reg_exp.findall(str(negatives))"
   ]
  }
 ],
 "metadata": {
  "kernelspec": {
   "display_name": "Python 3",
   "language": "python",
   "name": "python3"
  },
  "language_info": {
   "codemirror_mode": {
    "name": "ipython",
    "version": 3
   },
   "file_extension": ".py",
   "mimetype": "text/x-python",
   "name": "python",
   "nbconvert_exporter": "python",
   "pygments_lexer": "ipython3",
   "version": "3.8.5"
  },
  "toc": {
   "base_numbering": 1,
   "nav_menu": {},
   "number_sections": true,
   "sideBar": true,
   "skip_h1_title": true,
   "title_cell": "Table of Contents",
   "title_sidebar": "Contents",
   "toc_cell": false,
   "toc_position": {},
   "toc_section_display": true,
   "toc_window_display": false
  }
 },
 "nbformat": 4,
 "nbformat_minor": 2
}
