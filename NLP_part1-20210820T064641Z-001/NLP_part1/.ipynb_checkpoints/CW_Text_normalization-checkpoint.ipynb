{
 "cells": [
  {
   "cell_type": "markdown",
   "metadata": {},
   "source": [
    "# Class Work: Sentiment analysis"
   ]
  },
  {
   "cell_type": "markdown",
   "metadata": {},
   "source": [
    "You will deal with the movies reviews. 2500 rows sample, 0 - negative sentiment, 1 - positive. "
   ]
  },
  {
   "cell_type": "code",
   "execution_count": 1,
   "metadata": {},
   "outputs": [],
   "source": [
    "import pandas as pd\n",
    "pd.set_option('display.max_colwidth', -1)"
   ]
  },
  {
   "cell_type": "code",
   "execution_count": 2,
   "metadata": {},
   "outputs": [],
   "source": [
    "data = pd.read_csv(\"data/data_sample.csv\")"
   ]
  },
  {
   "cell_type": "code",
   "execution_count": 3,
   "metadata": {},
   "outputs": [
    {
     "data": {
      "text/plain": [
       "Sentiment\n",
       "0    1238\n",
       "1    1262\n",
       "dtype: int64"
      ]
     },
     "execution_count": 3,
     "metadata": {},
     "output_type": "execute_result"
    }
   ],
   "source": [
    "data.groupby([\"Sentiment\"]).size()"
   ]
  },
  {
   "cell_type": "code",
   "execution_count": 4,
   "metadata": {},
   "outputs": [
    {
     "data": {
      "text/html": [
       "<div>\n",
       "<style scoped>\n",
       "    .dataframe tbody tr th:only-of-type {\n",
       "        vertical-align: middle;\n",
       "    }\n",
       "\n",
       "    .dataframe tbody tr th {\n",
       "        vertical-align: top;\n",
       "    }\n",
       "\n",
       "    .dataframe thead th {\n",
       "        text-align: right;\n",
       "    }\n",
       "</style>\n",
       "<table border=\"1\" class=\"dataframe\">\n",
       "  <thead>\n",
       "    <tr style=\"text-align: right;\">\n",
       "      <th></th>\n",
       "      <th>SentimentText</th>\n",
       "      <th>Sentiment</th>\n",
       "    </tr>\n",
       "  </thead>\n",
       "  <tbody>\n",
       "    <tr>\n",
       "      <th>0</th>\n",
       "      <td>I'll give writer/director William Gove credit finding someone finance ill-conceived \"thriller.\" good argument wasting money subscribing HBO, let alone buying DVDs based cover art blurbs. pedestrian Dennis Hopper game Richard Grieco add nothing significant resumes, although art direction half bad. dialogue leave grimacing wonder conceit; storytelling worst. tension, suspense, dread, fear, empathy, catharsis, nothing. attractive often nude females spice boredom, definitely film best seen trailer. feel sorry guy greenlighted thing. Good late-night, zoned-out viewing only. warned.</td>\n",
       "      <td>0</td>\n",
       "    </tr>\n",
       "    <tr>\n",
       "      <th>1</th>\n",
       "      <td>film bit tedious. It's mostly silent film, bulk story provided series voice-overs. making silent film like bad idea, one films lack dialog repetitive early scenes make simply tedious. don't understand reason tedium well picture, it's late. first 40 minutes film something slow piece Mexican soft porn, unimaginative soft porn that. Later film style first 40 minutes starts makes sense, it's late, audience lost. nice location shooting National Autonomous University Mexico. I've often wondered films aren't shot there. campus built edge lava fields lend campus otherworldly feel. biggest problem film director/writer made film way wanted see without regard viewer doesn't know story view it. can't ignore audience tell story.</td>\n",
       "      <td>0</td>\n",
       "    </tr>\n",
       "    <tr>\n",
       "      <th>2</th>\n",
       "      <td>watched movie, hoped something get better entire time. great guy emotion? *yawn*&lt;br /&gt;&lt;br /&gt;You never see Alex show emotion anyone son. Yeah, know son one cause lose temper (if call that), get it.&lt;br /&gt;&lt;br /&gt;Characters undeveloped, relationships aren't given enough time understood. one scene Sarah says won't fall love, next time see she's talking death really shook close? Logic synapses abound film.&lt;br /&gt;&lt;br /&gt;It's like someone watched Boogie Nights wrote part mimic Little Bill. Even scene \"loses temper\" Little Bill shoots wife, facial expression (or lack thereof). Yes, William H. Macy good portraying man without emotion - there, done - say Magnolia?&lt;br /&gt;&lt;br /&gt;This movie didn't lack emotion, lacked substance, good script, developed characters, plot. certainly lacks recommendation. :)&lt;br /&gt;&lt;br /&gt;~A~</td>\n",
       "      <td>0</td>\n",
       "    </tr>\n",
       "    <tr>\n",
       "      <th>3</th>\n",
       "      <td>watched Lion king times friends put togther. baby sister.. know is. memorized plot lines. Lion king 2 came like ok well let see... second one significantly weaker... saw ad lion king 1 1/2... like ok go again. watching 1 1/2 like wow. expectations (for repetitevness) broken. truly lovely original plot keeps glued seat entire time. noticed cartoon filled many comical moments ROFlmao apply 100%.&lt;br /&gt;&lt;br /&gt;I definetly recommend seeing cartoon.</td>\n",
       "      <td>1</td>\n",
       "    </tr>\n",
       "    <tr>\n",
       "      <th>4</th>\n",
       "      <td>considered quite melancholy, especially watch great touching tear-jerking movies. one (which surprised me!) also really surprising see many people praised movie highly.&lt;br /&gt;&lt;br /&gt;There several disturbing facts throughout movies: 1. Despite guilt-ridden Ben's real intention save 7 lives redeem past, find disturbing film seems encourage type suicidal action. people may perceive heroic action others think behaves cowardly, end disturbing action me.&lt;br /&gt;&lt;br /&gt;2. movie story line over-dramatized, logic over-simplified. Medically, blood type match required organ donor. Toward end film learnt Emily rear blood type limited chance get donor within short time period. Nevertheless, seemed Ben rare blood type, allowed donor conveniently, despite rarity Ben's blood type, able donate heart, also kidney, cornea bone marrow cases require matching blood type also tissue antigen.&lt;br /&gt;&lt;br /&gt;3. doctors allow Ben's organs donated despite jellyfish venom used kill himself?&lt;br /&gt;&lt;br /&gt;I might over-analyzing whole story movie. However, disturbing facts outlined hopefully help reconsider plan go watch movie. go soap-opera type film, go it. go seeking intelligent entertainment, give one miss!</td>\n",
       "      <td>0</td>\n",
       "    </tr>\n",
       "  </tbody>\n",
       "</table>\n",
       "</div>"
      ],
      "text/plain": [
       "                                                                                                                                                                                                                                                                                                                                                                                                                                                                                                                                                                                                                                                                                                                                                                                                                                                                                                                                                                                                                                                                                                                                                                                                                          SentimentText  \\\n",
       "0  I'll give writer/director William Gove credit finding someone finance ill-conceived \"thriller.\" good argument wasting money subscribing HBO, let alone buying DVDs based cover art blurbs. pedestrian Dennis Hopper game Richard Grieco add nothing significant resumes, although art direction half bad. dialogue leave grimacing wonder conceit; storytelling worst. tension, suspense, dread, fear, empathy, catharsis, nothing. attractive often nude females spice boredom, definitely film best seen trailer. feel sorry guy greenlighted thing. Good late-night, zoned-out viewing only. warned.                                                                                                                                                                                                                                                                                                                                                                                                                                                                                                                                                                                                                                \n",
       "1  film bit tedious. It's mostly silent film, bulk story provided series voice-overs. making silent film like bad idea, one films lack dialog repetitive early scenes make simply tedious. don't understand reason tedium well picture, it's late. first 40 minutes film something slow piece Mexican soft porn, unimaginative soft porn that. Later film style first 40 minutes starts makes sense, it's late, audience lost. nice location shooting National Autonomous University Mexico. I've often wondered films aren't shot there. campus built edge lava fields lend campus otherworldly feel. biggest problem film director/writer made film way wanted see without regard viewer doesn't know story view it. can't ignore audience tell story.                                                                                                                                                                                                                                                                                                                                                                                                                                                                                  \n",
       "2  watched movie, hoped something get better entire time. great guy emotion? *yawn*<br /><br />You never see Alex show emotion anyone son. Yeah, know son one cause lose temper (if call that), get it.<br /><br />Characters undeveloped, relationships aren't given enough time understood. one scene Sarah says won't fall love, next time see she's talking death really shook close? Logic synapses abound film.<br /><br />It's like someone watched Boogie Nights wrote part mimic Little Bill. Even scene \"loses temper\" Little Bill shoots wife, facial expression (or lack thereof). Yes, William H. Macy good portraying man without emotion - there, done - say Magnolia?<br /><br />This movie didn't lack emotion, lacked substance, good script, developed characters, plot. certainly lacks recommendation. :)<br /><br />~A~                                                                                                                                                                                                                                                                                                                                                                                             \n",
       "3  watched Lion king times friends put togther. baby sister.. know is. memorized plot lines. Lion king 2 came like ok well let see... second one significantly weaker... saw ad lion king 1 1/2... like ok go again. watching 1 1/2 like wow. expectations (for repetitevness) broken. truly lovely original plot keeps glued seat entire time. noticed cartoon filled many comical moments ROFlmao apply 100%.<br /><br />I definetly recommend seeing cartoon.                                                                                                                                                                                                                                                                                                                                                                                                                                                                                                                                                                                                                                                                                                                                                                          \n",
       "4  considered quite melancholy, especially watch great touching tear-jerking movies. one (which surprised me!) also really surprising see many people praised movie highly.<br /><br />There several disturbing facts throughout movies: 1. Despite guilt-ridden Ben's real intention save 7 lives redeem past, find disturbing film seems encourage type suicidal action. people may perceive heroic action others think behaves cowardly, end disturbing action me.<br /><br />2. movie story line over-dramatized, logic over-simplified. Medically, blood type match required organ donor. Toward end film learnt Emily rear blood type limited chance get donor within short time period. Nevertheless, seemed Ben rare blood type, allowed donor conveniently, despite rarity Ben's blood type, able donate heart, also kidney, cornea bone marrow cases require matching blood type also tissue antigen.<br /><br />3. doctors allow Ben's organs donated despite jellyfish venom used kill himself?<br /><br />I might over-analyzing whole story movie. However, disturbing facts outlined hopefully help reconsider plan go watch movie. go soap-opera type film, go it. go seeking intelligent entertainment, give one miss!   \n",
       "\n",
       "   Sentiment  \n",
       "0  0          \n",
       "1  0          \n",
       "2  0          \n",
       "3  1          \n",
       "4  0          "
      ]
     },
     "execution_count": 4,
     "metadata": {},
     "output_type": "execute_result"
    }
   ],
   "source": [
    "data.head()"
   ]
  },
  {
   "cell_type": "code",
   "execution_count": 5,
   "metadata": {},
   "outputs": [
    {
     "data": {
      "text/plain": [
       "False"
      ]
     },
     "execution_count": 5,
     "metadata": {},
     "output_type": "execute_result"
    }
   ],
   "source": [
    "data.isnull().any().any()"
   ]
  },
  {
   "cell_type": "markdown",
   "metadata": {},
   "source": [
    "## Task1: apply text normalization \n"
   ]
  },
  {
   "cell_type": "markdown",
   "metadata": {},
   "source": [
    " - deal with html tags separately\n",
    " - clean up https/www links\n",
    " - do not remove stop-words as it may discard the sentiment\n",
    " - leave only letters. Numbers, symbols & punctuation to be removed (you may use re &/or some tokenizer)\n",
    " - bring text to lower case\n",
    " - do stemming/lemmatization\n",
    " - expand contractions"
   ]
  },
  {
   "cell_type": "code",
   "execution_count": null,
   "metadata": {},
   "outputs": [],
   "source": [
    "import re\n",
    "#import other libraries if needed"
   ]
  },
  {
   "cell_type": "code",
   "execution_count": null,
   "metadata": {},
   "outputs": [],
   "source": [
    "# insert your code here"
   ]
  },
  {
   "cell_type": "markdown",
   "metadata": {},
   "source": [
    "## Create word clouds"
   ]
  },
  {
   "cell_type": "markdown",
   "metadata": {},
   "source": [
    "Make conclusion which words are important? How do you think, will it be possible to define positive & negative reviews?"
   ]
  },
  {
   "cell_type": "code",
   "execution_count": null,
   "metadata": {},
   "outputs": [],
   "source": [
    "#!pip install wordcloud"
   ]
  },
  {
   "cell_type": "code",
   "execution_count": null,
   "metadata": {},
   "outputs": [],
   "source": [
    "import matplotlib.pyplot as plt\n",
    "plt.style.use('fivethirtyeight')\n",
    "\n",
    "%matplotlib inline\n",
    "%config InlineBackend.figure_format = 'retina'\n",
    "from wordcloud import WordCloud, STOPWORDS"
   ]
  },
  {
   "cell_type": "code",
   "execution_count": null,
   "metadata": {},
   "outputs": [],
   "source": [
    "neg_tweets = data[data.Sentiment == 0]\n",
    "neg_string = []\n",
    "for t in neg_tweets.SentimentText:\n",
    "    neg_string.append(t)\n",
    "neg_string = pd.Series(neg_string).str.cat(sep=' ')\n",
    "\n",
    "\n",
    "wordcloud = WordCloud(width=1600, height=800, max_font_size=200, background_color='white').generate(neg_string)\n",
    "plt.figure(figsize=(12,10))\n",
    "plt.imshow(wordcloud, interpolation=\"bilinear\")\n",
    "plt.axis(\"off\")\n",
    "plt.show()"
   ]
  },
  {
   "cell_type": "code",
   "execution_count": null,
   "metadata": {},
   "outputs": [],
   "source": [
    "pos_tweets = data[data.Sentiment == 1]\n",
    "pos_string = []\n",
    "for t in pos_tweets.SentimentText:\n",
    "    pos_string.append(t)\n",
    "pos_string = pd.Series(pos_string).str.cat(sep=' ')\n",
    "wordcloud = WordCloud(width=1600, height=800, max_font_size=200, colormap='magma', background_color='white').generate(pos_string) \n",
    "plt.figure(figsize=(12,10)) \n",
    "plt.imshow(wordcloud, interpolation=\"bilinear\") \n",
    "plt.axis(\"off\") \n",
    "plt.show()"
   ]
  }
 ],
 "metadata": {
  "kernelspec": {
   "display_name": "Python 3",
   "language": "python",
   "name": "python3"
  },
  "language_info": {
   "codemirror_mode": {
    "name": "ipython",
    "version": 3
   },
   "file_extension": ".py",
   "mimetype": "text/x-python",
   "name": "python",
   "nbconvert_exporter": "python",
   "pygments_lexer": "ipython3",
   "version": "3.8.5"
  },
  "toc": {
   "base_numbering": 1,
   "nav_menu": {},
   "number_sections": true,
   "sideBar": true,
   "skip_h1_title": true,
   "title_cell": "Table of Contents",
   "title_sidebar": "Contents",
   "toc_cell": false,
   "toc_position": {},
   "toc_section_display": true,
   "toc_window_display": false
  }
 },
 "nbformat": 4,
 "nbformat_minor": 2
}
