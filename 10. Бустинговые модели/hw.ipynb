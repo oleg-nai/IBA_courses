{
 "cells": [
  {
   "cell_type": "markdown",
   "metadata": {},
   "source": [
    "# Boosting Models"
   ]
  },
  {
   "cell_type": "markdown",
   "metadata": {},
   "source": [
    "1. Describe how the AdaBoost algorithm works."
   ]
  },
  {
   "cell_type": "markdown",
   "metadata": {},
   "source": [
    "2. What is the principal difference between AdaBoost and Gradient Boosting algorithms?"
   ]
  },
  {
   "cell_type": "markdown",
   "metadata": {},
   "source": [
    "3. If your Gradient Boosting ensemble overfits the training set, should\n",
    "you increase or decrease the learning rate?"
   ]
  },
  {
   "cell_type": "markdown",
   "metadata": {},
   "source": [
    "4. Try to apply advanced boosting algorithms you have already known to a real dataset. Choose simple vanilla accuracy for classification or mean square error for regression as your control metric.\n",
    "\n",
    "- Build end-to-end data preparation pipeline (sklearn.preprocessing + sklearn.pipeline + custom classes).\n",
    "- For each algorithm:\n",
    "    - Choose the best hyperparameters using cross-validation and tuning (sklearn.model_selection).\n",
    "    - Select the most important features. Did you expect to see any of those?\n",
    "- Compare algorithms. Are they different or not?\n",
    "- Analyse results and interpret them."
   ]
  },
  {
   "cell_type": "markdown",
   "metadata": {},
   "source": [
    "*5. What are the main disadvantages of boosting algorithms? How to work around them?"
   ]
  },
  {
   "cell_type": "markdown",
   "metadata": {},
   "source": [
    "*6. Does the Decision Tree algorithm are the single type of base estimator? Provide examples."
   ]
  },
  {
   "cell_type": "markdown",
   "metadata": {},
   "source": [
    "*7. If your AdaBoost ensemble underfits the training data, which\n",
    "hyperparameters should you tweak and how?"
   ]
  }
 ],
 "metadata": {
  "kernelspec": {
   "display_name": "Python 3",
   "language": "python",
   "name": "python3"
  },
  "language_info": {
   "codemirror_mode": {
    "name": "ipython",
    "version": 3
   },
   "file_extension": ".py",
   "mimetype": "text/x-python",
   "name": "python",
   "nbconvert_exporter": "python",
   "pygments_lexer": "ipython3",
   "version": "3.6.8"
  }
 },
 "nbformat": 4,
 "nbformat_minor": 4
}
