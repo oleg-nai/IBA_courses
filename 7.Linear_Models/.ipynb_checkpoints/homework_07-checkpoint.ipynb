{
 "cells": [
  {
   "cell_type": "markdown",
   "metadata": {
    "id": "yRXWzywJ-Els"
   },
   "source": [
    "### Описание датасетов\n",
    " - restaurants.csv: содержит информацию о населении города(первое число) и прибыли ресторана в этом городе.\n",
    " - houses.csv содержит информацию о площади дома в кв. футах(первое число), количестве комнат в доме(второе число) и стоимости дома(третье число)."
   ]
  },
  {
   "cell_type": "markdown",
   "metadata": {
    "id": "rRYYaP0t-EnQ"
   },
   "source": [
    "**Задание 1.** Загрузите набор данных restaurants.csv."
   ]
  },
  {
   "cell_type": "code",
   "execution_count": null,
   "metadata": {},
   "outputs": [],
   "source": [
    "im"
   ]
  },
  {
   "cell_type": "markdown",
   "metadata": {
    "id": "-EHSOZ2S-EnQ"
   },
   "source": [
    "**Задание 2.** Постройте график зависимости прибыли ресторана от населения города, в котором он расположен."
   ]
  },
  {
   "cell_type": "markdown",
   "metadata": {
    "id": "UL0GJnWj-EnQ"
   },
   "source": [
    "**Задание 3.** Реализуйте функцию потерь MSE для набора данных restaurants.csv."
   ]
  },
  {
   "cell_type": "markdown",
   "metadata": {
    "id": "9Cd-xh6I-EnQ"
   },
   "source": [
    "**Задание 4.** Реализуйте  функцию  градиентного  спуска  для  выбора  параметров модели.  Постройте  полученную  модель  (функцию)  совместно  с графиком из пункта 2."
   ]
  },
  {
   "cell_type": "markdown",
   "metadata": {
    "id": "b4UNwsIz-EnQ"
   },
   "source": [
    "**Задание 5.*** Постройте  трехмерный  график  зависимости  функции  потерь  от параметров  модели  ($θ_0$ и  $θ_1$)  как  в  виде  поверхности,  так  и  в  виде изолиний (contour plot)."
   ]
  },
  {
   "cell_type": "markdown",
   "metadata": {
    "id": "K5zzHmCt-EnQ"
   },
   "source": [
    "**Задание 6.** Загрузите набор данных houses.csv из текстового файла."
   ]
  },
  {
   "cell_type": "markdown",
   "metadata": {
    "id": "hyn77Yqx-EnQ"
   },
   "source": [
    "**Задание 7.** Произведите  нормализацию  признаков.  Повлияло  ли  это  на  скорость сходимости градиентного спуска? Ответ дайте в виде графика."
   ]
  },
  {
   "cell_type": "markdown",
   "metadata": {
    "id": "89LfLXzv-EnQ"
   },
   "source": [
    "**Задание 8.** Реализуйте  функции  потерь  MSE  и  градиентного  спуска  для  случая многомерной линейной регрессии с использованием векторизации."
   ]
  },
  {
   "cell_type": "markdown",
   "metadata": {
    "id": "Y32b3JSk-EnQ"
   },
   "source": [
    "**Задание 9.** Покажите, что векторизация дает прирост производительности."
   ]
  },
  {
   "cell_type": "markdown",
   "metadata": {
    "id": "vE_K_-Vm-EnQ"
   },
   "source": [
    "**Задание 10.** Попробуйте  изменить  параметр  $\\eta$ (learning rate).  Как  при этом  изменяется  график  функции  потерь  в  зависимости  от  числа итераций градиентного спуск? Результат изобразите вкачестве графика."
   ]
  },
  {
   "cell_type": "markdown",
   "metadata": {
    "id": "fKfWDgLr-EnQ"
   },
   "source": [
    "**Задание 11.** Постройте модель, используя аналитическое решение, которое может быть получено методом наименьших квадратов. Сравните результаты данной модели с моделью, полученной с помощью градиентного спуска."
   ]
  }
 ],
 "metadata": {
  "colab": {
   "collapsed_sections": [],
   "name": "homework_07.ipynb",
   "provenance": []
  },
  "kernelspec": {
   "display_name": "Python 3",
   "language": "python",
   "name": "python3"
  },
  "language_info": {
   "codemirror_mode": {
    "name": "ipython",
    "version": 3
   },
   "file_extension": ".py",
   "mimetype": "text/x-python",
   "name": "python",
   "nbconvert_exporter": "python",
   "pygments_lexer": "ipython3",
   "version": "3.8.5"
  },
  "toc": {
   "base_numbering": 1,
   "nav_menu": {},
   "number_sections": true,
   "sideBar": true,
   "skip_h1_title": false,
   "title_cell": "Table of Contents",
   "title_sidebar": "Contents",
   "toc_cell": false,
   "toc_position": {},
   "toc_section_display": true,
   "toc_window_display": false
  }
 },
 "nbformat": 4,
 "nbformat_minor": 1
}
