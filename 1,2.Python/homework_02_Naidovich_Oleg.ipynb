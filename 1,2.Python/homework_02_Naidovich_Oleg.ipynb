{
 "cells": [
  {
   "cell_type": "markdown",
   "metadata": {},
   "source": [
    "**Please follow PEP8 during writing code in Python. Readability matters**"
   ]
  },
  {
   "cell_type": "markdown",
   "metadata": {},
   "source": [
    "# Lists"
   ]
  },
  {
   "cell_type": "markdown",
   "metadata": {},
   "source": [
    "1. Write a Python program to get unique values from a list."
   ]
  },
  {
   "cell_type": "code",
   "execution_count": 24,
   "metadata": {
    "ExecuteTime": {
     "end_time": "2021-07-04T14:49:48.105341Z",
     "start_time": "2021-07-04T14:49:48.090381Z"
    }
   },
   "outputs": [
    {
     "name": "stdout",
     "output_type": "stream",
     "text": [
      "[1, 2, 3, 41, 12, 51, 23, 24, 123]\n"
     ]
    }
   ],
   "source": [
    "def unique(l):\n",
    "    \"\"\"\n",
    "    Return list of unique elements.\n",
    "    \"\"\"\n",
    "    return list(set(lst))\n",
    "\n",
    "\n",
    "lst = [1, 2, 3, 123, 1, 23, 12, 41, 23, 123, 1, 51, 24]\n",
    "print(unique(lst))"
   ]
  },
  {
   "cell_type": "markdown",
   "metadata": {},
   "source": [
    "2. Write a Python program to generate all sublists of a list."
   ]
  },
  {
   "cell_type": "code",
   "execution_count": 23,
   "metadata": {
    "ExecuteTime": {
     "end_time": "2021-07-04T14:48:45.125414Z",
     "start_time": "2021-07-04T14:48:45.105467Z"
    }
   },
   "outputs": [
    {
     "data": {
      "text/plain": [
       "[[],\n",
       " [1],\n",
       " [1, 2],\n",
       " [2],\n",
       " [1, 2, 3],\n",
       " [2, 3],\n",
       " [3],\n",
       " [1, 2, 3, 4],\n",
       " [2, 3, 4],\n",
       " [3, 4],\n",
       " [4],\n",
       " [1, 2, 3, 4, 5],\n",
       " [2, 3, 4, 5],\n",
       " [3, 4, 5],\n",
       " [4, 5],\n",
       " [5]]"
      ]
     },
     "execution_count": 23,
     "metadata": {},
     "output_type": "execute_result"
    }
   ],
   "source": [
    "def sub_lists(lst):\n",
    "    \"\"\"\n",
    "    Return list of all sublists.\n",
    "    \"\"\"\n",
    "    temp = [[]]\n",
    "    for i in range(len(lst) + 1):\n",
    "        for j in range(i):\n",
    "            temp.append(lst[j: i])\n",
    "    return temp\n",
    "\n",
    "\n",
    "lst = [1, 2, 3, 4, 5]\n",
    "sub_lists(lst)"
   ]
  },
  {
   "cell_type": "markdown",
   "metadata": {},
   "source": [
    "\n",
    "*3. Write a Python program to find a tuple, the smallest second index value from a list of tuples."
   ]
  },
  {
   "cell_type": "code",
   "execution_count": 70,
   "metadata": {
    "ExecuteTime": {
     "end_time": "2021-07-05T07:58:38.467220Z",
     "start_time": "2021-07-05T07:58:38.450268Z"
    }
   },
   "outputs": [
    {
     "data": {
      "text/plain": [
       "1"
      ]
     },
     "execution_count": 70,
     "metadata": {},
     "output_type": "execute_result"
    }
   ],
   "source": [
    "def func(lst):\n",
    "    return min([i[1] for i in lst])\n",
    "\n",
    "\n",
    "temp = [(1, 2), (4, 3, 52, 3), (4, 1, 5, 1)]\n",
    "func(temp)"
   ]
  },
  {
   "cell_type": "markdown",
   "metadata": {},
   "source": [
    "4. Write a Python program to create a list of empty dictionaries."
   ]
  },
  {
   "cell_type": "code",
   "execution_count": 25,
   "metadata": {
    "ExecuteTime": {
     "end_time": "2021-07-04T14:50:54.651745Z",
     "start_time": "2021-07-04T14:50:54.632801Z"
    }
   },
   "outputs": [
    {
     "name": "stdout",
     "output_type": "stream",
     "text": [
      "[{}, {}, {}, {}]\n"
     ]
    }
   ],
   "source": [
    "def creat_dict(n):\n",
    "    \"\"\"\n",
    "    Return list with n dictionaries.\n",
    "    \"\"\"\n",
    "    return [{} for _ in range(n)]\n",
    "\n",
    "\n",
    "n = 4\n",
    "print(creat_dict(n))"
   ]
  },
  {
   "cell_type": "markdown",
   "metadata": {},
   "source": [
    "# Dictionaries"
   ]
  },
  {
   "cell_type": "markdown",
   "metadata": {},
   "source": [
    "1. Write a Python program to multiply all the items in a dictionary."
   ]
  },
  {
   "cell_type": "code",
   "execution_count": 29,
   "metadata": {
    "ExecuteTime": {
     "end_time": "2021-07-04T14:56:58.011450Z",
     "start_time": "2021-07-04T14:56:57.999481Z"
    }
   },
   "outputs": [
    {
     "name": "stdout",
     "output_type": "stream",
     "text": [
      "6.0\n"
     ]
    }
   ],
   "source": [
    "def mult_keys(d):\n",
    "    \"\"\"\n",
    "    Return the multiplied items in the dictionary\n",
    "    \"\"\"\n",
    "    tmp = 1\n",
    "    for i in d.values():\n",
    "        tmp *= i\n",
    "    return tmp\n",
    "\n",
    "\n",
    "params = {\"parameter1\": 1.0,\n",
    "          \"parameter2\": 2.0,\n",
    "          \"parameter3\": 3.0, }\n",
    "\n",
    "print(mult_keys(params))"
   ]
  },
  {
   "cell_type": "markdown",
   "metadata": {},
   "source": [
    "2. Write a Python program to find the highest 3 values in a dictionary."
   ]
  },
  {
   "cell_type": "code",
   "execution_count": 58,
   "metadata": {
    "ExecuteTime": {
     "end_time": "2021-07-05T07:44:49.424113Z",
     "start_time": "2021-07-05T07:44:49.405164Z"
    }
   },
   "outputs": [
    {
     "name": "stdout",
     "output_type": "stream",
     "text": [
      "3 highest values from dict: (4231.0, 523.0, 511.0)\n"
     ]
    }
   ],
   "source": [
    "def get_highest(d):\n",
    "    \"\"\"\n",
    "    Return 3 highest values from dict.\n",
    "    \"\"\"\n",
    "    d = list(d.values())\n",
    "    d.sort(reverse=True)\n",
    "    return d[0], d[1], d[2]\n",
    "\n",
    "\n",
    "d = {\"parameter1\": 4231.0,\n",
    "     \"parameter2\": 2.0,\n",
    "     \"parameter3\": 3.0,\n",
    "     \"parameter4\": 43.0,\n",
    "     \"parameter5\": 511.0,\n",
    "     \"parameter6\": 523.0, }\n",
    "\n",
    "print(\"3 highest values from dict:\", get_highest(d))"
   ]
  },
  {
   "cell_type": "markdown",
   "metadata": {},
   "source": [
    "*3. Write a Python program to count number of items in a dictionary value that is a list."
   ]
  },
  {
   "cell_type": "code",
   "execution_count": 79,
   "metadata": {
    "ExecuteTime": {
     "end_time": "2021-07-05T08:05:56.698518Z",
     "start_time": "2021-07-05T08:05:56.688545Z"
    }
   },
   "outputs": [
    {
     "name": "stdout",
     "output_type": "stream",
     "text": [
      "2\n"
     ]
    }
   ],
   "source": [
    "def num_of_list(d):\n",
    "    k = 0\n",
    "    for i in d.values():\n",
    "        if type(i) == list:\n",
    "            k += 1\n",
    "    return k\n",
    "\n",
    "\n",
    "d = {\"parameter1\": [1, 2, 3, 4, 5],\n",
    "     \"parameter2\": 2.0,\n",
    "     \"parameter3\": 3.0,\n",
    "     \"parameter4\": 43.0,\n",
    "     \"parameter5\": [1, 2, 3, 4, 5],\n",
    "     \"parameter6\": 523.0, }\n",
    "\n",
    "\n",
    "print(num_of_list(d))"
   ]
  },
  {
   "cell_type": "markdown",
   "metadata": {},
   "source": [
    "4. Write a Python program to iterate over dictionaries using for loops."
   ]
  },
  {
   "cell_type": "code",
   "execution_count": 82,
   "metadata": {
    "ExecuteTime": {
     "end_time": "2021-07-05T08:07:38.826165Z",
     "start_time": "2021-07-05T08:07:38.811203Z"
    }
   },
   "outputs": [
    {
     "name": "stdout",
     "output_type": "stream",
     "text": [
      "parameter1   [1, 2, 3, 4, 5]\n",
      "parameter2   2.0\n",
      "parameter3   3.0\n",
      "parameter4   43.0\n",
      "parameter5   [1, 2, 3, 4, 5]\n",
      "parameter6   523.0\n"
     ]
    }
   ],
   "source": [
    "d = {\"parameter1\": [1, 2, 3, 4, 5],\n",
    "     \"parameter2\": 2.0,\n",
    "     \"parameter3\": 3.0,\n",
    "     \"parameter4\": 43.0,\n",
    "     \"parameter5\": [1, 2, 3, 4, 5],\n",
    "     \"parameter6\": 523.0, }\n",
    "\n",
    "for key, value in d.items():\n",
    "    print(key, \" \",value)"
   ]
  },
  {
   "cell_type": "markdown",
   "metadata": {},
   "source": [
    "# Loops"
   ]
  },
  {
   "cell_type": "markdown",
   "metadata": {},
   "source": [
    "*1. Write a Python program to print alphabet pattern 'M'.\n",
    "    Expected Output:\n",
    "\n",
    "        *       *                                                             \n",
    "        *       *                                                             \n",
    "        * *   * *                                                             \n",
    "        *   *   *                                                             \n",
    "        *       *                                                             \n",
    "        *       *                                                             \n",
    "        *       *"
   ]
  },
  {
   "cell_type": "code",
   "execution_count": 115,
   "metadata": {
    "ExecuteTime": {
     "end_time": "2021-07-05T08:28:23.549830Z",
     "start_time": "2021-07-05T08:28:23.536876Z"
    }
   },
   "outputs": [
    {
     "name": "stdout",
     "output_type": "stream",
     "text": [
      "*     *\n",
      "*     *\n",
      "* * * *\n",
      "*  *  *\n",
      "*     *\n",
      "*     *\n",
      "*     *\n"
     ]
    }
   ],
   "source": [
    "for i in range(7):\n",
    "    for j in range(7):\n",
    "        if j == 0 or j == 6:\n",
    "            print(\"*\", end=\"\")\n",
    "        elif i == 2 and (j == 2 or j == 4):\n",
    "            print(\"*\", end=\"\")\n",
    "        elif i == 3 and j == 3:\n",
    "            print(\"*\", end=\"\")\n",
    "        else:\n",
    "            print(\" \", end=\"\")\n",
    "    print(\"\")"
   ]
  },
  {
   "cell_type": "markdown",
   "metadata": {},
   "source": [
    "2. Write a Python program that accepts a string and calculate the number of digits and letters.\n",
    "\t\tSample Data : Python 3.2\n",
    "\t\tExpected Output :\n",
    "\t\tLetters 6\n",
    "\t\tDigits 2"
   ]
  },
  {
   "cell_type": "code",
   "execution_count": 116,
   "metadata": {
    "ExecuteTime": {
     "end_time": "2021-07-05T08:30:39.753351Z",
     "start_time": "2021-07-05T08:30:37.383907Z"
    }
   },
   "outputs": [
    {
     "name": "stdout",
     "output_type": "stream",
     "text": [
      "Enter string: 412 4i1n2 4oi1n24 oin12oij12\n",
      "Letters 11\n",
      "Digits 14\n"
     ]
    }
   ],
   "source": [
    "def count(s):\n",
    "    letters = 0\n",
    "    numbers = 0\n",
    "    for i in s:\n",
    "        if i.isalpha():\n",
    "            letters += 1\n",
    "        elif i.isdigit():\n",
    "            numbers += 1\n",
    "    return letters, numbers\n",
    "\n",
    "\n",
    "s = input(\"Enter string: \")\n",
    "letters, numbers = count(s)\n",
    "print(f\"Letters {letters}\\nDigits {numbers}\")"
   ]
  },
  {
   "cell_type": "markdown",
   "metadata": {},
   "source": [
    "3. Write a Python program to construct the following pattern, using a nested loop number.\n",
    "\t\tExpected Output:\n",
    "\t\t1\n",
    "\t\t22\n",
    "\t\t333\n",
    "\t\t4444\n",
    "\t\t55555\n",
    "\t\t666666\n",
    "\t\t7777777\n",
    "\t\t88888888\n",
    "\t\t999999999"
   ]
  },
  {
   "cell_type": "code",
   "execution_count": 98,
   "metadata": {
    "ExecuteTime": {
     "end_time": "2021-07-05T08:15:00.814497Z",
     "start_time": "2021-07-05T08:15:00.795548Z"
    }
   },
   "outputs": [
    {
     "name": "stdout",
     "output_type": "stream",
     "text": [
      "1\n",
      "22\n",
      "333\n",
      "4444\n",
      "55555\n",
      "666666\n",
      "7777777\n",
      "88888888\n",
      "999999999\n"
     ]
    }
   ],
   "source": [
    "for i in range(1, 10):\n",
    "    for j in range(i):\n",
    "        print(i, end=\"\")\n",
    "    print(\"\")"
   ]
  },
  {
   "cell_type": "code",
   "execution_count": null,
   "metadata": {},
   "outputs": [],
   "source": []
  }
 ],
 "metadata": {
  "kernelspec": {
   "display_name": "Python 3",
   "language": "python",
   "name": "python3"
  },
  "language_info": {
   "codemirror_mode": {
    "name": "ipython",
    "version": 3
   },
   "file_extension": ".py",
   "mimetype": "text/x-python",
   "name": "python",
   "nbconvert_exporter": "python",
   "pygments_lexer": "ipython3",
   "version": "3.8.5"
  },
  "toc": {
   "base_numbering": 1,
   "nav_menu": {},
   "number_sections": true,
   "sideBar": true,
   "skip_h1_title": false,
   "title_cell": "Table of Contents",
   "title_sidebar": "Contents",
   "toc_cell": false,
   "toc_position": {},
   "toc_section_display": true,
   "toc_window_display": false
  }
 },
 "nbformat": 4,
 "nbformat_minor": 4
}
