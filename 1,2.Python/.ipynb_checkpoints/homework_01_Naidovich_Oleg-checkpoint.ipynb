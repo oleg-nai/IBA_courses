{
 "cells": [
  {
   "cell_type": "markdown",
   "metadata": {},
   "source": [
    "**Please follow PEP8 during writing code in Python. Readability matters**"
   ]
  },
  {
   "cell_type": "markdown",
   "metadata": {},
   "source": [
    "# Basics"
   ]
  },
  {
   "cell_type": "markdown",
   "metadata": {},
   "source": [
    "1. Write a Python program to solve (x + y) * (x + y). Test Data : x = 4, y = 3. Expected Output : 49"
   ]
  },
  {
   "cell_type": "code",
   "execution_count": 32,
   "metadata": {
    "ExecuteTime": {
     "end_time": "2021-07-03T11:33:42.423438Z",
     "start_time": "2021-07-03T11:33:42.417405Z"
    }
   },
   "outputs": [
    {
     "data": {
      "text/plain": [
       "49"
      ]
     },
     "execution_count": 32,
     "metadata": {},
     "output_type": "execute_result"
    }
   ],
   "source": [
    "def square(x, y):\n",
    "    \"\"\"\n",
    "    Return the square of the sum of two values.\n",
    "    \"\"\"\n",
    "    return (x + y) ** 2\n",
    "\n",
    "\n",
    "x = 4\n",
    "y = 3\n",
    "\n",
    "square(x, y)"
   ]
  },
  {
   "cell_type": "markdown",
   "metadata": {},
   "source": [
    "2. Write a python program to sum of the first n positive integers."
   ]
  },
  {
   "cell_type": "code",
   "execution_count": 33,
   "metadata": {
    "ExecuteTime": {
     "end_time": "2021-07-03T11:33:44.831264Z",
     "start_time": "2021-07-03T11:33:43.595062Z"
    }
   },
   "outputs": [
    {
     "name": "stdout",
     "output_type": "stream",
     "text": [
      "Enter value n: 4\n",
      "Sum of first n positive integers:  10.0\n"
     ]
    }
   ],
   "source": [
    "def sum_n(n):\n",
    "    \"\"\"\n",
    "    Return the sum of the first n natural numbers.\n",
    "    \"\"\"\n",
    "    return n * (n + 1) / 2\n",
    "\n",
    "\n",
    "n = int(input(\"Enter value n: \"))\n",
    "\n",
    "print(\"Sum of first n positive integers:\", sum_n(n))"
   ]
  },
  {
   "cell_type": "markdown",
   "metadata": {},
   "source": [
    "3. Write a Python program to sum of three given integers. However, if two values are equal sum will be zero."
   ]
  },
  {
   "cell_type": "code",
   "execution_count": 34,
   "metadata": {
    "ExecuteTime": {
     "end_time": "2021-07-03T11:33:48.992048Z",
     "start_time": "2021-07-03T11:33:46.485070Z"
    }
   },
   "outputs": [
    {
     "name": "stdout",
     "output_type": "stream",
     "text": [
      "Enter 3 values x, y, z: 1 14 4\n",
      "Sum of 3 given integers:  19\n"
     ]
    }
   ],
   "source": [
    "def func(x, y, z):\n",
    "    \"\"\"\n",
    "    Return the sum of 3 values.\n",
    "    If two values are equal sum will be zero.\n",
    "    \"\"\"\n",
    "    if x == y or y == z or x == z:\n",
    "        return 0\n",
    "    return x + y + z\n",
    "\n",
    "\n",
    "x, y, z = map(int, input(\"Enter 3 values x, y, z: \").split())\n",
    "\n",
    "print(\"Sum of 3 given integers:\", func(x, y, z))"
   ]
  },
  {
   "cell_type": "markdown",
   "metadata": {},
   "source": [
    "4. Write a Python program to compute the distance between the points (x1, y1) and (x2, y2)"
   ]
  },
  {
   "cell_type": "code",
   "execution_count": 115,
   "metadata": {
    "ExecuteTime": {
     "end_time": "2021-07-03T12:20:23.823357Z",
     "start_time": "2021-07-03T12:20:18.215335Z"
    }
   },
   "outputs": [
    {
     "name": "stdout",
     "output_type": "stream",
     "text": [
      "Enter 2 values x1, y1: 1 3\n",
      "Enter 2 values x2, y2: 1 4\n",
      "The distance between two points is: 1.0\n"
     ]
    }
   ],
   "source": [
    "def dist(a, b):\n",
    "    \"\"\"\n",
    "    Return the Euclidean distance between 2 points in two dimensions.\n",
    "    \"\"\"\n",
    "    return ((b[1] - a[1]) ** 2 + (b[0] - a[0]) ** 2) ** (1/2)\n",
    "\n",
    "\n",
    "a = list(map(int, input(\"Enter 2 values x1, y1: \").split()))\n",
    "b = list(map(int, input(\"Enter 2 values x2, y2: \").split()))\n",
    "\n",
    "print(\"The distance between two points is:\", dist(a, b))"
   ]
  },
  {
   "cell_type": "code",
   "execution_count": 64,
   "metadata": {
    "ExecuteTime": {
     "end_time": "2021-07-03T11:58:23.427687Z",
     "start_time": "2021-07-03T11:58:19.233136Z"
    }
   },
   "outputs": [
    {
     "name": "stdout",
     "output_type": "stream",
     "text": [
      "Enter 2 values x1, y1: 1 3\n",
      "Enter 2 values x2, y2: 1 4\n",
      "The distance between two points is:  1.0\n"
     ]
    }
   ],
   "source": [
    "from math import dist\n",
    "\n",
    "a = list(map(int, input(\"Enter 2 values x1, y1: \").split()))\n",
    "b = list(map(int, input(\"Enter 2 values x2, y2: \").split()))\n",
    "\n",
    "print(\"The distance between two points is:\", math.dist(a, b))"
   ]
  },
  {
   "cell_type": "markdown",
   "metadata": {},
   "source": [
    "*5. Write a Python program to compute the greatest common divisor (GCD) of two positive integers."
   ]
  },
  {
   "cell_type": "code",
   "execution_count": 65,
   "metadata": {
    "ExecuteTime": {
     "end_time": "2021-07-03T11:58:28.139333Z",
     "start_time": "2021-07-03T11:58:24.447709Z"
    }
   },
   "outputs": [
    {
     "name": "stdout",
     "output_type": "stream",
     "text": [
      "Enter 2 values a, b: 2 4\n",
      "GCD of two positive integers:  2\n"
     ]
    }
   ],
   "source": [
    "from math import gcd\n",
    "\n",
    "a, b = map(int, input(\"Enter 2 values a, b: \").split())\n",
    "\n",
    "print(\"GCD of two positive integers:\", math.gcd(a, b))"
   ]
  },
  {
   "cell_type": "markdown",
   "metadata": {},
   "source": [
    "6. Write a Python program to calculate the sum of the digits in an integer."
   ]
  },
  {
   "cell_type": "code",
   "execution_count": 107,
   "metadata": {
    "ExecuteTime": {
     "end_time": "2021-07-03T12:14:17.814312Z",
     "start_time": "2021-07-03T12:14:16.938547Z"
    }
   },
   "outputs": [
    {
     "name": "stdout",
     "output_type": "stream",
     "text": [
      "Enter value x: 151\n",
      "The sum of the digits in an integer: 7\n"
     ]
    }
   ],
   "source": [
    "def sum_digits(x):\n",
    "    \"\"\"\n",
    "    Return the sum of the digits in an integer\n",
    "    \"\"\"\n",
    "    return sum(list(map(int, x.strip())))\n",
    "\n",
    "x = input(\"Enter value x: \")\n",
    "\n",
    "print(\"The sum of the digits in an integer:\", sum_digits(x))"
   ]
  },
  {
   "cell_type": "markdown",
   "metadata": {},
   "source": [
    "*7. Write a Python program to find out the number of CPUs using."
   ]
  },
  {
   "cell_type": "code",
   "execution_count": 105,
   "metadata": {
    "ExecuteTime": {
     "end_time": "2021-07-03T12:14:07.184319Z",
     "start_time": "2021-07-03T12:14:07.172352Z"
    }
   },
   "outputs": [
    {
     "name": "stdout",
     "output_type": "stream",
     "text": [
      "The number of CPUs using: 8\n"
     ]
    }
   ],
   "source": [
    "from os import cpu_count\n",
    "\n",
    "print(\"The number of CPUs using:\", os.cpu_count())"
   ]
  },
  {
   "cell_type": "markdown",
   "metadata": {},
   "source": [
    "8. Write a Python program to swap two variables."
   ]
  },
  {
   "cell_type": "code",
   "execution_count": 118,
   "metadata": {
    "ExecuteTime": {
     "end_time": "2021-07-03T12:22:01.415086Z",
     "start_time": "2021-07-03T12:21:59.514788Z"
    }
   },
   "outputs": [
    {
     "name": "stdout",
     "output_type": "stream",
     "text": [
      "Enter 2 values a, b: 14  41\n",
      "a = 41\n",
      "b = 14\n"
     ]
    }
   ],
   "source": [
    "def swap(a, b):\n",
    "    \"\"\"\n",
    "    Return swapped 2 variables\n",
    "    \"\"\"\n",
    "    return b, a\n",
    "\n",
    "\n",
    "a, b = list(map(int, input(\"Enter 2 values a, b: \").split()))\n",
    "a, b = swap(a, b)\n",
    "\n",
    "print(f\"a = {a}\\nb = {b}\")\n",
    "\n",
    "\n",
    "# but we can just do:\n",
    "# a, b = b, a"
   ]
  },
  {
   "cell_type": "markdown",
   "metadata": {},
   "source": [
    "# Strings"
   ]
  },
  {
   "cell_type": "markdown",
   "metadata": {},
   "source": [
    "1. Write a Python program to change a given string to a new string where the first and last chars have been exchanged."
   ]
  },
  {
   "cell_type": "code",
   "execution_count": 139,
   "metadata": {
    "ExecuteTime": {
     "end_time": "2021-07-03T16:51:10.191467Z",
     "start_time": "2021-07-03T16:51:09.056830Z"
    }
   },
   "outputs": [
    {
     "name": "stdout",
     "output_type": "stream",
     "text": [
      "Enter string: oleg\n",
      "Output string:  gleo\n"
     ]
    }
   ],
   "source": [
    "def change_first_last(s):\n",
    "    \"\"\"\n",
    "    Return string where the first and last chars have been exchanged.\n",
    "    \"\"\"\n",
    "    return s[len(s) - 1] + s[1:len(s) - 1] + s[0]\n",
    "\n",
    "\n",
    "a = input(\"Enter string: \")\n",
    "\n",
    "print(\"Output string: \", change_first_last(a))"
   ]
  },
  {
   "cell_type": "markdown",
   "metadata": {},
   "source": [
    "2. Write a Python program to remove the characters which have odd index values of a given string."
   ]
  },
  {
   "cell_type": "code",
   "execution_count": 137,
   "metadata": {
    "ExecuteTime": {
     "end_time": "2021-07-03T16:49:45.695860Z",
     "start_time": "2021-07-03T16:49:44.307717Z"
    }
   },
   "outputs": [
    {
     "name": "stdout",
     "output_type": "stream",
     "text": [
      "Enter string: olegoleg\n",
      "String without odd characters: lglg\n"
     ]
    }
   ],
   "source": [
    "def delete_odd_index(s):\n",
    "    \"\"\"\n",
    "    Return string without char which have odd index values.\n",
    "    \"\"\"\n",
    "    return s[1::2]\n",
    "\n",
    "\n",
    "s = input(\"Enter string: \")\n",
    "print(\"String without odd characters:\", delete_odd_index(s))"
   ]
  },
  {
   "cell_type": "markdown",
   "metadata": {},
   "source": [
    "*3. Write a Python script that takes input from the user and displays that input back in upper and lower cases."
   ]
  },
  {
   "cell_type": "code",
   "execution_count": 140,
   "metadata": {
    "ExecuteTime": {
     "end_time": "2021-07-03T16:55:03.849436Z",
     "start_time": "2021-07-03T16:54:42.980959Z"
    }
   },
   "outputs": [
    {
     "name": "stdout",
     "output_type": "stream",
     "text": [
      "Enter string: Andrew Ng\n",
      "String in lower case style: andrew ng\n",
      "String in upper case style: ANDREW NG\n"
     ]
    }
   ],
   "source": [
    "s = input(\"Enter string: \")\n",
    "\n",
    "print(\"String in lower case style:\", s.lower())\n",
    "print(\"String in upper case style:\", s.upper())"
   ]
  },
  {
   "cell_type": "markdown",
   "metadata": {},
   "source": [
    "4. Write a Python function to convert a given string to all uppercase if it contains at least 2 uppercase characters in the first 4 characters."
   ]
  },
  {
   "cell_type": "code",
   "execution_count": 166,
   "metadata": {
    "ExecuteTime": {
     "end_time": "2021-07-03T17:08:32.467114Z",
     "start_time": "2021-07-03T17:08:28.736960Z"
    }
   },
   "outputs": [
    {
     "name": "stdout",
     "output_type": "stream",
     "text": [
      "Enter string: OleGOlegasdfasdf\n",
      "String in upper case style: OLEGOLEGASDFASDF\n"
     ]
    }
   ],
   "source": [
    "def to_uppercase(s):\n",
    "    \"\"\"\n",
    "    Return string in upper case style if it contains \n",
    "    at least 2 uppercase characters in the first 4 characters.\n",
    "    \"\"\"\n",
    "    j = 0\n",
    "    for i in list(s[0:4].strip()):\n",
    "        if i.isupper():\n",
    "            j += 1\n",
    "    if j >= 2:\n",
    "        return s.upper()\n",
    "    else:\n",
    "        return s\n",
    "\n",
    "\n",
    "s = input(\"Enter string: \")\n",
    "print(\"String in upper case style:\", to_uppercase(s))"
   ]
  },
  {
   "cell_type": "markdown",
   "metadata": {},
   "source": [
    "5. Write a Python program to display formatted text (width=50) as output."
   ]
  },
  {
   "cell_type": "code",
   "execution_count": 198,
   "metadata": {
    "ExecuteTime": {
     "end_time": "2021-07-04T07:10:12.111297Z",
     "start_time": "2021-07-04T07:10:12.103332Z"
    }
   },
   "outputs": [
    {
     "name": "stdout",
     "output_type": "stream",
     "text": [
      "     Lorem Ipsum is simply dummy text of the\n",
      "printing and typesetting industry.      Lorem\n",
      "Ipsum has been the industry's standard dummy text\n",
      "ever since the 1500s,      when an unknown printer\n",
      "took a galley of type and scrambled it to make a\n",
      "type      specimen book. It has survived not only\n",
      "five centuries, but also the leap      into\n",
      "electronic typesetting, remaining essentially\n",
      "unchanged.      It was popularised in the 1960s\n",
      "with the release of Letraset sheets\n",
      "containing Lorem Ipsum passages, and more recently\n",
      "with desktop publishing      software like Aldus\n",
      "PageMaker including versions of Lorem Ipsum.\n"
     ]
    }
   ],
   "source": [
    "import textwrap\n",
    "\n",
    "some_text = '''\n",
    "    Lorem Ipsum is simply dummy text of the printing and typesetting industry. \n",
    "    Lorem Ipsum has been the industry's standard dummy text ever since the 1500s, \n",
    "    when an unknown printer took a galley of type and scrambled it to make a type \n",
    "    specimen book. It has survived not only five centuries, but also the leap \n",
    "    into electronic typesetting, remaining essentially unchanged. \n",
    "    It was popularised in the 1960s with the release of Letraset sheets \n",
    "    containing Lorem Ipsum passages, and more recently with desktop publishing \n",
    "    software like Aldus PageMaker including versions of Lorem Ipsum.\n",
    "    '''\n",
    "\n",
    "print(textwrap.fill(some_text, width=50))"
   ]
  },
  {
   "cell_type": "markdown",
   "metadata": {},
   "source": [
    "**6. Read the Wikipedia entry on Soundex. Implement this algorithm in Python."
   ]
  },
  {
   "cell_type": "code",
   "execution_count": 236,
   "metadata": {
    "ExecuteTime": {
     "end_time": "2021-07-04T10:14:35.428994Z",
     "start_time": "2021-07-04T10:14:34.240251Z"
    }
   },
   "outputs": [
    {
     "name": "stdout",
     "output_type": "stream",
     "text": [
      "Enter string: Ashcraft\n",
      "A261\n"
     ]
    }
   ],
   "source": [
    "lst = [\"bfpv\", \"cgjkqsxz\", \"dt\", \"l\", \"mn\", \"r\"]\n",
    "vowels = [\"a\", \"e\", \"i\", \"o\", \"u\", \"y\"]\n",
    "\n",
    "\n",
    "def soundex(s):\n",
    "    \"\"\"\n",
    "    Return the encoded word based on Soundex algorithm.\n",
    "    \"\"\"\n",
    "    s.lower()\n",
    "    s = s.replace(\"h\", \"\")\n",
    "    s = s.replace(\"w\", \"\")\n",
    "\n",
    "    # convert consonants to numbers\n",
    "    for i in range(len(s)):\n",
    "        temp = check(s[i])\n",
    "        if temp == 0:\n",
    "            pass\n",
    "        else:\n",
    "            s = s[:i] + str(temp) + s[i+1:]\n",
    "\n",
    "    # delete same numbers\n",
    "    tmp = \"\"\n",
    "    for i in range(len(s)):\n",
    "        if i == len(s) - 1:\n",
    "            tmp += s[i]\n",
    "            break\n",
    "        elif s[i] == s[i+1]:\n",
    "            pass\n",
    "        else:\n",
    "            tmp += s[i]\n",
    "    s = tmp\n",
    "\n",
    "    # delete all vowels\n",
    "    tmp = s[0]\n",
    "    for i in range(1, len(s)):\n",
    "        if s[i] in vowels:\n",
    "            tmp += \"\"\n",
    "        else:\n",
    "            tmp += s[i]\n",
    "    s = tmp\n",
    "\n",
    "    # change to appropriate length\n",
    "    if len(s) > 4:\n",
    "        s = s[0:4]\n",
    "    elif len(s) < 4:\n",
    "        while len(s) != 4:\n",
    "            s += \"0\"\n",
    "    return s.upper()\n",
    "\n",
    "\n",
    "def check(s):\n",
    "    for i in range(len(lst)):\n",
    "        if s in lst[i]:\n",
    "            return i + 1\n",
    "    return 0\n",
    "\n",
    "\n",
    "s = input(\"Enter string: \")\n",
    "print(soundex(s))"
   ]
  },
  {
   "cell_type": "markdown",
   "metadata": {},
   "source": [
    "7. Write a Python program to move all spaces to the front of a given string in single traversal."
   ]
  },
  {
   "cell_type": "code",
   "execution_count": 195,
   "metadata": {
    "ExecuteTime": {
     "end_time": "2021-07-04T06:58:17.650694Z",
     "start_time": "2021-07-04T06:58:15.252501Z"
    }
   },
   "outputs": [
    {
     "name": "stdout",
     "output_type": "stream",
     "text": [
      "Enter string: o l e g\n",
      "   oleg\n"
     ]
    }
   ],
   "source": [
    "def move_space_front(s):\n",
    "    \"\"\"\n",
    "    Return string with all moved spaces to the front.\n",
    "    \"\"\"\n",
    "    i = len(s) - 1\n",
    "    for j in range(i, -1, -1):\n",
    "        if (s[j] != ' '):\n",
    "            s = swap(s, i, j)\n",
    "            i -= 1\n",
    "    return s\n",
    "\n",
    "\n",
    "def swap(c, i, j):\n",
    "    c = list(c)\n",
    "    c[i], c[j] = c[j], c[i]\n",
    "    return ''.join(c)\n",
    "\n",
    "\n",
    "s = input(\"Enter string: \")\n",
    "s = move_space_front(s)\n",
    "print(s)"
   ]
  },
  {
   "cell_type": "code",
   "execution_count": 235,
   "metadata": {
    "ExecuteTime": {
     "end_time": "2021-07-04T10:14:15.040390Z",
     "start_time": "2021-07-04T10:14:15.020401Z"
    }
   },
   "outputs": [
    {
     "data": {
      "text/plain": [
       "'Ascraft'"
      ]
     },
     "execution_count": 235,
     "metadata": {},
     "output_type": "execute_result"
    }
   ],
   "source": [
    "s = 'Ashcraft'\n",
    "s.replace(\"h\", \"\")"
   ]
  }
 ],
 "metadata": {
  "kernelspec": {
   "display_name": "Python 3",
   "language": "python",
   "name": "python3"
  },
  "language_info": {
   "codemirror_mode": {
    "name": "ipython",
    "version": 3
   },
   "file_extension": ".py",
   "mimetype": "text/x-python",
   "name": "python",
   "nbconvert_exporter": "python",
   "pygments_lexer": "ipython3",
   "version": "3.8.5"
  },
  "toc": {
   "base_numbering": 1,
   "nav_menu": {},
   "number_sections": true,
   "sideBar": true,
   "skip_h1_title": false,
   "title_cell": "Table of Contents",
   "title_sidebar": "Contents",
   "toc_cell": false,
   "toc_position": {},
   "toc_section_display": true,
   "toc_window_display": false
  }
 },
 "nbformat": 4,
 "nbformat_minor": 4
}
